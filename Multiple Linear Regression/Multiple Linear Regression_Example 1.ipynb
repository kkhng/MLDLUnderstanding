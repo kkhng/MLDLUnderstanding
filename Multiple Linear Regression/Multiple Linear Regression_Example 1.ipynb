{
 "cells": [
  {
   "cell_type": "markdown",
   "metadata": {},
   "source": [
    "### Objective: Predict House Sales Prices, target 80% and above prediction score\n",
    "#### Data: Kaggle - House Sales in King County, USA"
   ]
  },
  {
   "cell_type": "code",
   "execution_count": 1,
   "metadata": {},
   "outputs": [],
   "source": [
    "from __future__ import division\n",
    "import numpy as np\n",
    "import pandas as pd\n",
    "import math"
   ]
  },
  {
   "cell_type": "code",
   "execution_count": 2,
   "metadata": {},
   "outputs": [
    {
     "data": {
      "text/plain": [
       "'C:\\\\Users\\\\Kerry\\\\Desktop\\\\DataKhng\\\\Multiple Linear Regression\\\\Example 1'"
      ]
     },
     "execution_count": 2,
     "metadata": {},
     "output_type": "execute_result"
    }
   ],
   "source": [
    "# to check current directory\n",
    "\n",
    "import os\n",
    "os.getcwd()\n",
    "\n",
    "# or also can use %pwd to view current directory in Jupyter"
   ]
  },
  {
   "cell_type": "code",
   "execution_count": 3,
   "metadata": {},
   "outputs": [],
   "source": [
    "# to check files in current directory\n",
    "\n",
    "#os.listdir(os.getcwd())"
   ]
  },
  {
   "cell_type": "markdown",
   "metadata": {},
   "source": [
    "### 1. Data Inspections"
   ]
  },
  {
   "cell_type": "code",
   "execution_count": 4,
   "metadata": {},
   "outputs": [],
   "source": [
    "# read data into dataframe\n",
    "\n",
    "data = pd.read_csv('kc_house_data.csv')"
   ]
  },
  {
   "cell_type": "code",
   "execution_count": 5,
   "metadata": {},
   "outputs": [
    {
     "data": {
      "text/html": [
       "<div>\n",
       "<style scoped>\n",
       "    .dataframe tbody tr th:only-of-type {\n",
       "        vertical-align: middle;\n",
       "    }\n",
       "\n",
       "    .dataframe tbody tr th {\n",
       "        vertical-align: top;\n",
       "    }\n",
       "\n",
       "    .dataframe thead th {\n",
       "        text-align: right;\n",
       "    }\n",
       "</style>\n",
       "<table border=\"1\" class=\"dataframe\">\n",
       "  <thead>\n",
       "    <tr style=\"text-align: right;\">\n",
       "      <th></th>\n",
       "      <th>id</th>\n",
       "      <th>date</th>\n",
       "      <th>price</th>\n",
       "      <th>bedrooms</th>\n",
       "      <th>bathrooms</th>\n",
       "      <th>sqft_living</th>\n",
       "      <th>sqft_lot</th>\n",
       "      <th>floors</th>\n",
       "      <th>waterfront</th>\n",
       "      <th>view</th>\n",
       "      <th>...</th>\n",
       "      <th>grade</th>\n",
       "      <th>sqft_above</th>\n",
       "      <th>sqft_basement</th>\n",
       "      <th>yr_built</th>\n",
       "      <th>yr_renovated</th>\n",
       "      <th>zipcode</th>\n",
       "      <th>lat</th>\n",
       "      <th>long</th>\n",
       "      <th>sqft_living15</th>\n",
       "      <th>sqft_lot15</th>\n",
       "    </tr>\n",
       "  </thead>\n",
       "  <tbody>\n",
       "    <tr>\n",
       "      <td>0</td>\n",
       "      <td>7129300520</td>\n",
       "      <td>20141013T000000</td>\n",
       "      <td>221900.0</td>\n",
       "      <td>3</td>\n",
       "      <td>1.00</td>\n",
       "      <td>1180</td>\n",
       "      <td>5650</td>\n",
       "      <td>1.0</td>\n",
       "      <td>0</td>\n",
       "      <td>0</td>\n",
       "      <td>...</td>\n",
       "      <td>7</td>\n",
       "      <td>1180</td>\n",
       "      <td>0</td>\n",
       "      <td>1955</td>\n",
       "      <td>0</td>\n",
       "      <td>98178</td>\n",
       "      <td>47.5112</td>\n",
       "      <td>-122.257</td>\n",
       "      <td>1340</td>\n",
       "      <td>5650</td>\n",
       "    </tr>\n",
       "    <tr>\n",
       "      <td>1</td>\n",
       "      <td>6414100192</td>\n",
       "      <td>20141209T000000</td>\n",
       "      <td>538000.0</td>\n",
       "      <td>3</td>\n",
       "      <td>2.25</td>\n",
       "      <td>2570</td>\n",
       "      <td>7242</td>\n",
       "      <td>2.0</td>\n",
       "      <td>0</td>\n",
       "      <td>0</td>\n",
       "      <td>...</td>\n",
       "      <td>7</td>\n",
       "      <td>2170</td>\n",
       "      <td>400</td>\n",
       "      <td>1951</td>\n",
       "      <td>1991</td>\n",
       "      <td>98125</td>\n",
       "      <td>47.7210</td>\n",
       "      <td>-122.319</td>\n",
       "      <td>1690</td>\n",
       "      <td>7639</td>\n",
       "    </tr>\n",
       "    <tr>\n",
       "      <td>2</td>\n",
       "      <td>5631500400</td>\n",
       "      <td>20150225T000000</td>\n",
       "      <td>180000.0</td>\n",
       "      <td>2</td>\n",
       "      <td>1.00</td>\n",
       "      <td>770</td>\n",
       "      <td>10000</td>\n",
       "      <td>1.0</td>\n",
       "      <td>0</td>\n",
       "      <td>0</td>\n",
       "      <td>...</td>\n",
       "      <td>6</td>\n",
       "      <td>770</td>\n",
       "      <td>0</td>\n",
       "      <td>1933</td>\n",
       "      <td>0</td>\n",
       "      <td>98028</td>\n",
       "      <td>47.7379</td>\n",
       "      <td>-122.233</td>\n",
       "      <td>2720</td>\n",
       "      <td>8062</td>\n",
       "    </tr>\n",
       "    <tr>\n",
       "      <td>3</td>\n",
       "      <td>2487200875</td>\n",
       "      <td>20141209T000000</td>\n",
       "      <td>604000.0</td>\n",
       "      <td>4</td>\n",
       "      <td>3.00</td>\n",
       "      <td>1960</td>\n",
       "      <td>5000</td>\n",
       "      <td>1.0</td>\n",
       "      <td>0</td>\n",
       "      <td>0</td>\n",
       "      <td>...</td>\n",
       "      <td>7</td>\n",
       "      <td>1050</td>\n",
       "      <td>910</td>\n",
       "      <td>1965</td>\n",
       "      <td>0</td>\n",
       "      <td>98136</td>\n",
       "      <td>47.5208</td>\n",
       "      <td>-122.393</td>\n",
       "      <td>1360</td>\n",
       "      <td>5000</td>\n",
       "    </tr>\n",
       "    <tr>\n",
       "      <td>4</td>\n",
       "      <td>1954400510</td>\n",
       "      <td>20150218T000000</td>\n",
       "      <td>510000.0</td>\n",
       "      <td>3</td>\n",
       "      <td>2.00</td>\n",
       "      <td>1680</td>\n",
       "      <td>8080</td>\n",
       "      <td>1.0</td>\n",
       "      <td>0</td>\n",
       "      <td>0</td>\n",
       "      <td>...</td>\n",
       "      <td>8</td>\n",
       "      <td>1680</td>\n",
       "      <td>0</td>\n",
       "      <td>1987</td>\n",
       "      <td>0</td>\n",
       "      <td>98074</td>\n",
       "      <td>47.6168</td>\n",
       "      <td>-122.045</td>\n",
       "      <td>1800</td>\n",
       "      <td>7503</td>\n",
       "    </tr>\n",
       "  </tbody>\n",
       "</table>\n",
       "<p>5 rows × 21 columns</p>\n",
       "</div>"
      ],
      "text/plain": [
       "           id             date     price  bedrooms  bathrooms  sqft_living  \\\n",
       "0  7129300520  20141013T000000  221900.0         3       1.00         1180   \n",
       "1  6414100192  20141209T000000  538000.0         3       2.25         2570   \n",
       "2  5631500400  20150225T000000  180000.0         2       1.00          770   \n",
       "3  2487200875  20141209T000000  604000.0         4       3.00         1960   \n",
       "4  1954400510  20150218T000000  510000.0         3       2.00         1680   \n",
       "\n",
       "   sqft_lot  floors  waterfront  view  ...  grade  sqft_above  sqft_basement  \\\n",
       "0      5650     1.0           0     0  ...      7        1180              0   \n",
       "1      7242     2.0           0     0  ...      7        2170            400   \n",
       "2     10000     1.0           0     0  ...      6         770              0   \n",
       "3      5000     1.0           0     0  ...      7        1050            910   \n",
       "4      8080     1.0           0     0  ...      8        1680              0   \n",
       "\n",
       "   yr_built  yr_renovated  zipcode      lat     long  sqft_living15  \\\n",
       "0      1955             0    98178  47.5112 -122.257           1340   \n",
       "1      1951          1991    98125  47.7210 -122.319           1690   \n",
       "2      1933             0    98028  47.7379 -122.233           2720   \n",
       "3      1965             0    98136  47.5208 -122.393           1360   \n",
       "4      1987             0    98074  47.6168 -122.045           1800   \n",
       "\n",
       "   sqft_lot15  \n",
       "0        5650  \n",
       "1        7639  \n",
       "2        8062  \n",
       "3        5000  \n",
       "4        7503  \n",
       "\n",
       "[5 rows x 21 columns]"
      ]
     },
     "execution_count": 5,
     "metadata": {},
     "output_type": "execute_result"
    }
   ],
   "source": [
    "# display data\n",
    "\n",
    "data.head()"
   ]
  },
  {
   "cell_type": "markdown",
   "metadata": {},
   "source": [
    "#### This is a cross-sectional data\n",
    "#### Data Description obtained from: https://rstudio-pubs-static.s3.amazonaws.com/155304_cc51f448116744069664b35e7762999f.html\n",
    "id - Unique ID for each home sold\n",
    "<br />\n",
    "date - Date of the home sale\n",
    "<br />\n",
    "price - Price of each home sold\n",
    "<br />\n",
    "bedrooms - Number of bedrooms\n",
    "<br />\n",
    "bathrooms - Number of bathrooms, where .5 accounts for a room with a toilet but no shower\n",
    "<br />\n",
    "sqft_living - Square footage of the apartments interior living space\n",
    "<br />\n",
    "sqft_lot - Square footage of the land space\n",
    "<br />\n",
    "floors - Number of floors\n",
    "<br />\n",
    "waterfront - A dummy variable for whether the apartment was overlooking the waterfront or not\n",
    "<br />\n",
    "view - An index from 0 to 4 of how good the view of the property was\n",
    "<br />\n",
    "condition - An index from 1 to 5 on the condition of the apartment\n",
    "<br />\n",
    "grade - An index from 1 to 13, where 1-3 falls short of building construction and design, 7 has an average level of construction and design, and 11-13 have a high quality level of construction and design\n",
    "<br />\n",
    "sqft_above - The square footage of the interior housing space that is above ground level\n",
    "<br />\n",
    "sqft_basement - The square footage of the interior housing space that is below ground level\n",
    "<br />\n",
    "yr_built - The year the house was initially built\n",
    "<br />\n",
    "yr_renovated - The year of the house’s last renovation\n",
    "<br />\n",
    "zipcode - What zipcode area the house is in\n",
    "<br />\n",
    "lat - Lattitude\n",
    "<br />\n",
    "long - Longitude\n",
    "<br />\n",
    "sqft_living15 - The square footage of interior housing living space for the nearest 15 neighbors\n",
    "<br />\n",
    "sqft_lot15 - The square footage of the land lots of the nearest 15 neighbors\n",
    "<br />\n",
    "#### NOTE: sqft_living15 anf sqft_lot15 were defined differently by different analysts"
   ]
  },
  {
   "cell_type": "code",
   "execution_count": 6,
   "metadata": {},
   "outputs": [
    {
     "name": "stdout",
     "output_type": "stream",
     "text": [
      "21613\n"
     ]
    },
    {
     "data": {
      "text/plain": [
       "id                 int64\n",
       "date              object\n",
       "price            float64\n",
       "bedrooms           int64\n",
       "bathrooms        float64\n",
       "sqft_living        int64\n",
       "sqft_lot           int64\n",
       "floors           float64\n",
       "waterfront         int64\n",
       "view               int64\n",
       "condition          int64\n",
       "grade              int64\n",
       "sqft_above         int64\n",
       "sqft_basement      int64\n",
       "yr_built           int64\n",
       "yr_renovated       int64\n",
       "zipcode            int64\n",
       "lat              float64\n",
       "long             float64\n",
       "sqft_living15      int64\n",
       "sqft_lot15         int64\n",
       "dtype: object"
      ]
     },
     "execution_count": 6,
     "metadata": {},
     "output_type": "execute_result"
    }
   ],
   "source": [
    "# check the number of data points(rows) and columns in the dataset\n",
    "# print(data.shape)\n",
    "\n",
    "# to get summary of the dataframe\n",
    "# data.info()\n",
    "\n",
    "# check the number of data points(rows)in the dataset\n",
    "\n",
    "print(len(data))\n",
    "\n",
    "# check the data types\n",
    "\n",
    "data.dtypes"
   ]
  },
  {
   "cell_type": "markdown",
   "metadata": {},
   "source": [
    "#### date is the python object, and it is the timestamp we will ignore\n",
    "#### we will drop id and date"
   ]
  },
  {
   "cell_type": "code",
   "execution_count": 7,
   "metadata": {},
   "outputs": [
    {
     "name": "stdout",
     "output_type": "stream",
     "text": [
      "0 / 21\n",
      "0 / 21613\n"
     ]
    }
   ],
   "source": [
    "# Calling sum() of the DataFrame returned by isnull() will give a series containing data about count of NaN in each column\n",
    "# data.isnull().sum()\n",
    "\n",
    "# check any number of columns with NaN\n",
    "\n",
    "print(data.isnull().any().sum(),'/',len(data.columns))\n",
    "\n",
    "# check any number of data points(rows) with NaN\n",
    "\n",
    "print(data.isnull().any(axis=1).sum(),'/',len(data))"
   ]
  },
  {
   "cell_type": "markdown",
   "metadata": {},
   "source": [
    "#### This dataset got no NaN values"
   ]
  },
  {
   "cell_type": "code",
   "execution_count": 8,
   "metadata": {},
   "outputs": [],
   "source": [
    "# check correlation between features(independent variables) and target(dependent variable = price)\n",
    "\n",
    "features = data.iloc[:,3:].columns.tolist()\n",
    "target = data.iloc[:,2].name"
   ]
  },
  {
   "cell_type": "code",
   "execution_count": 9,
   "metadata": {},
   "outputs": [],
   "source": [
    "# using Pearson's correlation method\n",
    "\n",
    "from scipy.stats import pearsonr\n",
    "\n",
    "correlations = {}\n",
    "for f in  features: \n",
    "    dataset = data[[f,target]]\n",
    "    x1 = dataset[f].values\n",
    "    x2 = dataset[target].values\n",
    "    key = f + 'vs' + target\n",
    "    correlations[key] = pearsonr(x1,x2)[0]"
   ]
  },
  {
   "cell_type": "code",
   "execution_count": 10,
   "metadata": {},
   "outputs": [
    {
     "data": {
      "text/html": [
       "<div>\n",
       "<style scoped>\n",
       "    .dataframe tbody tr th:only-of-type {\n",
       "        vertical-align: middle;\n",
       "    }\n",
       "\n",
       "    .dataframe tbody tr th {\n",
       "        vertical-align: top;\n",
       "    }\n",
       "\n",
       "    .dataframe thead th {\n",
       "        text-align: right;\n",
       "    }\n",
       "</style>\n",
       "<table border=\"1\" class=\"dataframe\">\n",
       "  <thead>\n",
       "    <tr style=\"text-align: right;\">\n",
       "      <th></th>\n",
       "      <th>Value</th>\n",
       "    </tr>\n",
       "  </thead>\n",
       "  <tbody>\n",
       "    <tr>\n",
       "      <td>sqft_livingvsprice</td>\n",
       "      <td>0.702035</td>\n",
       "    </tr>\n",
       "    <tr>\n",
       "      <td>gradevsprice</td>\n",
       "      <td>0.667434</td>\n",
       "    </tr>\n",
       "    <tr>\n",
       "      <td>sqft_abovevsprice</td>\n",
       "      <td>0.605567</td>\n",
       "    </tr>\n",
       "    <tr>\n",
       "      <td>sqft_living15vsprice</td>\n",
       "      <td>0.585379</td>\n",
       "    </tr>\n",
       "    <tr>\n",
       "      <td>bathroomsvsprice</td>\n",
       "      <td>0.525138</td>\n",
       "    </tr>\n",
       "    <tr>\n",
       "      <td>viewvsprice</td>\n",
       "      <td>0.397293</td>\n",
       "    </tr>\n",
       "    <tr>\n",
       "      <td>sqft_basementvsprice</td>\n",
       "      <td>0.323816</td>\n",
       "    </tr>\n",
       "    <tr>\n",
       "      <td>bedroomsvsprice</td>\n",
       "      <td>0.308350</td>\n",
       "    </tr>\n",
       "    <tr>\n",
       "      <td>latvsprice</td>\n",
       "      <td>0.307003</td>\n",
       "    </tr>\n",
       "    <tr>\n",
       "      <td>waterfrontvsprice</td>\n",
       "      <td>0.266369</td>\n",
       "    </tr>\n",
       "    <tr>\n",
       "      <td>floorsvsprice</td>\n",
       "      <td>0.256794</td>\n",
       "    </tr>\n",
       "    <tr>\n",
       "      <td>yr_renovatedvsprice</td>\n",
       "      <td>0.126434</td>\n",
       "    </tr>\n",
       "    <tr>\n",
       "      <td>sqft_lotvsprice</td>\n",
       "      <td>0.089661</td>\n",
       "    </tr>\n",
       "    <tr>\n",
       "      <td>sqft_lot15vsprice</td>\n",
       "      <td>0.082447</td>\n",
       "    </tr>\n",
       "    <tr>\n",
       "      <td>yr_builtvsprice</td>\n",
       "      <td>0.054012</td>\n",
       "    </tr>\n",
       "    <tr>\n",
       "      <td>zipcodevsprice</td>\n",
       "      <td>-0.053203</td>\n",
       "    </tr>\n",
       "    <tr>\n",
       "      <td>conditionvsprice</td>\n",
       "      <td>0.036362</td>\n",
       "    </tr>\n",
       "    <tr>\n",
       "      <td>longvsprice</td>\n",
       "      <td>0.021626</td>\n",
       "    </tr>\n",
       "  </tbody>\n",
       "</table>\n",
       "</div>"
      ],
      "text/plain": [
       "                         Value\n",
       "sqft_livingvsprice    0.702035\n",
       "gradevsprice          0.667434\n",
       "sqft_abovevsprice     0.605567\n",
       "sqft_living15vsprice  0.585379\n",
       "bathroomsvsprice      0.525138\n",
       "viewvsprice           0.397293\n",
       "sqft_basementvsprice  0.323816\n",
       "bedroomsvsprice       0.308350\n",
       "latvsprice            0.307003\n",
       "waterfrontvsprice     0.266369\n",
       "floorsvsprice         0.256794\n",
       "yr_renovatedvsprice   0.126434\n",
       "sqft_lotvsprice       0.089661\n",
       "sqft_lot15vsprice     0.082447\n",
       "yr_builtvsprice       0.054012\n",
       "zipcodevsprice       -0.053203\n",
       "conditionvsprice      0.036362\n",
       "longvsprice           0.021626"
      ]
     },
     "execution_count": 10,
     "metadata": {},
     "output_type": "execute_result"
    }
   ],
   "source": [
    "data_correlations = pd.DataFrame(correlations, index=['Value']).T\n",
    "data_correlations.loc[data_correlations['Value'].abs().sort_values(ascending=False).index]"
   ]
  },
  {
   "cell_type": "markdown",
   "metadata": {},
   "source": [
    "#### Top 5 features (sqft_living, grade, sqft_above, sqft_living15, and bathrooms) are the most correlated features with price."
   ]
  },
  {
   "cell_type": "markdown",
   "metadata": {},
   "source": [
    "### 2. Model Testing"
   ]
  },
  {
   "cell_type": "markdown",
   "metadata": {},
   "source": [
    "#### We hardly just rely on correlations to decide which variable is suitable so we test it one by one.\n",
    "#### Here, we look at coefficients and consider theoretical concepts for variables selection.\n",
    "#### Statistically, we can select confidence interval of lets say 95%, conduct t-test, look at p-value (lower than apha = 0.05 stands significant), look at R square etc. to determine whether to drop or remain a variable in the model. "
   ]
  },
  {
   "cell_type": "code",
   "execution_count": 11,
   "metadata": {},
   "outputs": [],
   "source": [
    "# predict the house sale prices\n",
    "\n",
    "from sklearn.linear_model import LinearRegression\n",
    "from sklearn.model_selection import train_test_split\n",
    "\n",
    "reg = LinearRegression()\n",
    "new_data = data[['sqft_living','grade', 'sqft_above', 'sqft_living15','bathrooms','view','sqft_basement', 'bedrooms', 'lat', 'waterfront', 'floors', 'yr_renovated', 'sqft_lot', 'sqft_lot15', 'yr_built', 'zipcode', 'condition', 'long']]"
   ]
  },
  {
   "cell_type": "code",
   "execution_count": 12,
   "metadata": {},
   "outputs": [],
   "source": [
    "X = new_data.values\n",
    "y = data.price.values"
   ]
  },
  {
   "cell_type": "code",
   "execution_count": 13,
   "metadata": {},
   "outputs": [],
   "source": [
    "# Splitting the dataset into the Training set and Test set\n",
    "\n",
    "X_train, X_test, y_train, y_test = train_test_split(X, y, test_size = 0.2)"
   ]
  },
  {
   "cell_type": "code",
   "execution_count": 14,
   "metadata": {},
   "outputs": [
    {
     "name": "stdout",
     "output_type": "stream",
     "text": [
      "[ 304621.40153677  752308.8738118   282175.86784607 ... 1210542.73252309\n",
      "  268547.1163622   724910.16577461]\n"
     ]
    }
   ],
   "source": [
    "# Fitting Linear Regression to the Training set\n",
    "\n",
    "reg.fit(X_train, y_train)\n",
    "\n",
    "# Predicting the Test set results\n",
    "\n",
    "print(reg.predict(X_test))"
   ]
  },
  {
   "cell_type": "code",
   "execution_count": 15,
   "metadata": {},
   "outputs": [
    {
     "name": "stdout",
     "output_type": "stream",
     "text": [
      "coefficient [ 1.10988123e+02  9.39643231e+04  7.46626722e+01  2.31158765e+01\n",
      "  4.51474359e+04  5.47412793e+04  3.63254502e+01 -3.69320031e+04\n",
      "  6.05455886e+05  5.83457388e+05  4.04941398e+03  1.91193738e+01\n",
      "  1.58457365e-01 -4.22352207e-01 -2.68948244e+03 -5.97804482e+02\n",
      "  2.58624942e+04 -2.25264183e+05]\n"
     ]
    }
   ],
   "source": [
    "print('coefficient', reg.coef_)"
   ]
  },
  {
   "cell_type": "code",
   "execution_count": 16,
   "metadata": {},
   "outputs": [
    {
     "data": {
      "text/plain": [
       "0.7120725762091098"
      ]
     },
     "execution_count": 16,
     "metadata": {},
     "output_type": "execute_result"
    }
   ],
   "source": [
    "reg.score(X_test, y_test)"
   ]
  },
  {
   "cell_type": "code",
   "execution_count": 17,
   "metadata": {},
   "outputs": [
    {
     "data": {
      "text/plain": [
       "187817.686"
      ]
     },
     "execution_count": 17,
     "metadata": {},
     "output_type": "execute_result"
    }
   ],
   "source": [
    "# get the mean squared error using scikit-learn’s mean_squared_error method and \n",
    "# comparing the prediction for the test data set (data not used for training) with the ground truth for the data test set\n",
    "\n",
    "from sklearn.metrics import mean_squared_error\n",
    "\n",
    "y_predict = reg.predict(X_test)\n",
    "regression_model_rmse = float(format(math.sqrt(mean_squared_error(y_test, y_predict)),'.3f'))\n",
    "regression_model_rmse"
   ]
  },
  {
   "cell_type": "code",
   "execution_count": 18,
   "metadata": {},
   "outputs": [
    {
     "name": "stdout",
     "output_type": "stream",
     "text": [
      "RMSE: 187817.69\n"
     ]
    }
   ],
   "source": [
    "# Another method to calculate the Root Mean Squared Error\n",
    "\n",
    "print(\"RMSE: %.2f\"\n",
    "% math.sqrt(np.mean((reg.predict(X_test) - y_test) ** 2)))"
   ]
  },
  {
   "cell_type": "markdown",
   "metadata": {},
   "source": [
    "#### By looking at coefficient results: features which we can try to drop are sqft_lot15, sqft_lot."
   ]
  },
  {
   "cell_type": "code",
   "execution_count": 19,
   "metadata": {},
   "outputs": [],
   "source": [
    "regr = LinearRegression()\n",
    "new_data1 = data[['sqft_living','grade', 'sqft_above', 'sqft_living15','bathrooms','view','sqft_basement', 'bedrooms', 'lat', 'waterfront', 'floors', 'yr_renovated', 'yr_built', 'zipcode', 'condition', 'long']]"
   ]
  },
  {
   "cell_type": "code",
   "execution_count": 20,
   "metadata": {},
   "outputs": [],
   "source": [
    "X1 = new_data1.values\n",
    "y = data.price.values"
   ]
  },
  {
   "cell_type": "code",
   "execution_count": 21,
   "metadata": {},
   "outputs": [],
   "source": [
    "X1_train, X1_test, y_train, y_test = train_test_split(X1, y, test_size = 0.2)"
   ]
  },
  {
   "cell_type": "code",
   "execution_count": 22,
   "metadata": {},
   "outputs": [
    {
     "name": "stdout",
     "output_type": "stream",
     "text": [
      "[335670.26037281 817642.86757261 273773.09833566 ... 642839.76130122\n",
      " 608356.42043998 397909.5214478 ]\n"
     ]
    }
   ],
   "source": [
    "regr.fit(X1_train, y_train)\n",
    "\n",
    "print(regr.predict(X1_test))"
   ]
  },
  {
   "cell_type": "code",
   "execution_count": 23,
   "metadata": {},
   "outputs": [
    {
     "name": "stdout",
     "output_type": "stream",
     "text": [
      "coefficient [ 1.16163561e+02  9.60413909e+04  7.27648030e+01  1.28865027e+01\n",
      "  4.26363135e+04  5.27739868e+04  4.33987578e+01 -3.99607966e+04\n",
      "  6.00577084e+05  5.84963159e+05  7.47754108e+03  1.78379588e+01\n",
      " -2.65336257e+03 -6.10062820e+02  2.50608887e+04 -2.22170337e+05]\n"
     ]
    }
   ],
   "source": [
    "print('coefficient', regr.coef_)"
   ]
  },
  {
   "cell_type": "code",
   "execution_count": 24,
   "metadata": {},
   "outputs": [
    {
     "name": "stdout",
     "output_type": "stream",
     "text": [
      "0.7026359000867606\n"
     ]
    }
   ],
   "source": [
    "print(regr.score(X1_test, y_test))"
   ]
  },
  {
   "cell_type": "code",
   "execution_count": 25,
   "metadata": {},
   "outputs": [
    {
     "name": "stdout",
     "output_type": "stream",
     "text": [
      "RMSE: 194799.25\n"
     ]
    }
   ],
   "source": [
    "print(\"RMSE: %.2f\"\n",
    "% math.sqrt(np.mean((regr.predict(X1_test) - y_test) ** 2)))"
   ]
  },
  {
   "cell_type": "markdown",
   "metadata": {},
   "source": [
    "#### Lets try to drop zipcode and yr_renovated by taking coefficient and correlation results into consideration. "
   ]
  },
  {
   "cell_type": "code",
   "execution_count": 26,
   "metadata": {},
   "outputs": [],
   "source": [
    "regre = LinearRegression()\n",
    "new_data2 = data[['sqft_living','grade', 'sqft_above', 'sqft_living15','bathrooms','view','sqft_basement', 'bedrooms', 'lat', 'waterfront', 'floors', 'yr_built', 'condition', 'long']]"
   ]
  },
  {
   "cell_type": "code",
   "execution_count": 27,
   "metadata": {},
   "outputs": [],
   "source": [
    "X2 = new_data2.values\n",
    "y = data.price.values"
   ]
  },
  {
   "cell_type": "code",
   "execution_count": 28,
   "metadata": {},
   "outputs": [],
   "source": [
    "X2_train, X2_test, y_train, y_test = train_test_split(X2, y, test_size = 0.2)"
   ]
  },
  {
   "cell_type": "code",
   "execution_count": 29,
   "metadata": {},
   "outputs": [
    {
     "name": "stdout",
     "output_type": "stream",
     "text": [
      "[ 617673.80196141  605461.73728961  563763.52742425 ... 1029289.32485318\n",
      "  194068.8343555   497561.51997047]\n"
     ]
    }
   ],
   "source": [
    "regre.fit(X2_train, y_train)\n",
    "\n",
    "print(regre.predict(X2_test))"
   ]
  },
  {
   "cell_type": "code",
   "execution_count": 30,
   "metadata": {},
   "outputs": [
    {
     "name": "stdout",
     "output_type": "stream",
     "text": [
      "coefficient [ 1.07257801e+02  9.76601081e+04  6.94267947e+01  2.84335741e+01\n",
      "  4.80695840e+04  4.88917850e+04  3.78310065e+01 -3.78383033e+04\n",
      "  5.55152600e+05  6.29961367e+05  3.34548397e+03 -2.66799643e+03\n",
      "  2.89188332e+04 -1.09418567e+05]\n"
     ]
    }
   ],
   "source": [
    "print('coefficient', regre.coef_)"
   ]
  },
  {
   "cell_type": "code",
   "execution_count": 31,
   "metadata": {},
   "outputs": [
    {
     "name": "stdout",
     "output_type": "stream",
     "text": [
      "0.6909062587512115\n"
     ]
    }
   ],
   "source": [
    "print(regre.score(X2_test, y_test))"
   ]
  },
  {
   "cell_type": "code",
   "execution_count": 32,
   "metadata": {},
   "outputs": [
    {
     "name": "stdout",
     "output_type": "stream",
     "text": [
      "RMSE: 202219.41\n"
     ]
    }
   ],
   "source": [
    "print(\"RMSE: %.2f\"\n",
    "% math.sqrt(np.mean((regre.predict(X2_test) - y_test) ** 2)))"
   ]
  },
  {
   "cell_type": "markdown",
   "metadata": {},
   "source": [
    "#### Lets drop long and lat by considering three aspects (coefficient results, correlation results, and theoretical concepts)."
   ]
  },
  {
   "cell_type": "code",
   "execution_count": 33,
   "metadata": {},
   "outputs": [],
   "source": [
    "regres = LinearRegression()\n",
    "new_data3 = data[['sqft_living','grade', 'sqft_above', 'sqft_living15','bathrooms','view','sqft_basement', 'bedrooms', 'waterfront', 'floors', 'yr_built', 'condition']]"
   ]
  },
  {
   "cell_type": "code",
   "execution_count": 34,
   "metadata": {},
   "outputs": [],
   "source": [
    "X3 = new_data3.values\n",
    "y = data.price.values"
   ]
  },
  {
   "cell_type": "code",
   "execution_count": 35,
   "metadata": {},
   "outputs": [],
   "source": [
    "X3_train, X3_test, y_train, y_test = train_test_split(X3, y, test_size = 0.2)"
   ]
  },
  {
   "cell_type": "code",
   "execution_count": 36,
   "metadata": {},
   "outputs": [
    {
     "name": "stdout",
     "output_type": "stream",
     "text": [
      "[596644.4152111 498852.4152111 327844.4152111 ... 424612.4152111\n",
      " 757412.4152111 420516.4152111]\n"
     ]
    }
   ],
   "source": [
    "regres.fit(X3_train, y_train)\n",
    "\n",
    "print(regres.predict(X3_test))"
   ]
  },
  {
   "cell_type": "code",
   "execution_count": 37,
   "metadata": {},
   "outputs": [
    {
     "name": "stdout",
     "output_type": "stream",
     "text": [
      "coefficient [-1.55185671e+15  1.19467675e+05  1.55185671e+15  2.36812969e+01\n",
      "  4.79804452e+04  4.31180161e+04  1.55185671e+15 -3.74300885e+04\n",
      "  5.67192406e+05  3.04399401e+04 -3.66918700e+03  1.81542765e+04]\n"
     ]
    }
   ],
   "source": [
    "print('coefficient', regres.coef_)"
   ]
  },
  {
   "cell_type": "code",
   "execution_count": 38,
   "metadata": {},
   "outputs": [
    {
     "name": "stdout",
     "output_type": "stream",
     "text": [
      "0.6587867226344539\n"
     ]
    }
   ],
   "source": [
    "print(regres.score(X3_test, y_test))"
   ]
  },
  {
   "cell_type": "code",
   "execution_count": 39,
   "metadata": {},
   "outputs": [
    {
     "name": "stdout",
     "output_type": "stream",
     "text": [
      "RMSE: 212791.74\n"
     ]
    }
   ],
   "source": [
    "print(\"RMSE: %.2f\"\n",
    "% math.sqrt(np.mean((regres.predict(X3_test) - y_test) ** 2)))"
   ]
  },
  {
   "cell_type": "markdown",
   "metadata": {},
   "source": [
    "#### Overall, 60-70% of the variability in y can be explained using X (i.e. prediction score/accuracy measure of this model is around 60-70% which is not really optimal). \n",
    "\n",
    "#### Model 1: R squared = 0.7120725762091098; RMSE = 187817.69\n",
    "#### Model 2: R squared = 0.7026359000867606; RMSE = 194799.25\n",
    "#### Model 3: R squared = 0.6909062587512115; RMSE = 202219.41\n",
    "#### Model 4: R squared = 0.6587867226344539; RMSE = 212791.74\n",
    "\n",
    "#### Model 1 displays better result among all other models with highest prediction score, and the average difference between the predicted and the actual price for test data set is the lowest (i.e. 187817.69 dollars).\n",
    "\n",
    "### We need to use other models to test and train again in order to achieve higher prediction score. "
   ]
  }
 ],
 "metadata": {
  "kernelspec": {
   "display_name": "Python 3",
   "language": "python",
   "name": "python3"
  },
  "language_info": {
   "codemirror_mode": {
    "name": "ipython",
    "version": 3
   },
   "file_extension": ".py",
   "mimetype": "text/x-python",
   "name": "python",
   "nbconvert_exporter": "python",
   "pygments_lexer": "ipython3",
   "version": "3.7.4"
  }
 },
 "nbformat": 4,
 "nbformat_minor": 2
}
