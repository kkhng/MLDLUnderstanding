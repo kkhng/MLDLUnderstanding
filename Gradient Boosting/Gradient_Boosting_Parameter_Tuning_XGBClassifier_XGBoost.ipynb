{
 "cells": [
  {
   "cell_type": "markdown",
   "metadata": {},
   "source": [
    "If things don’t go your way in predictive modeling, use XGboost.  XGBoost algorithm has become the ultimate weapon of many data scientist. It’s a highly sophisticated algorithm, powerful enough to deal with all sorts of irregularities of data.\n",
    "<br /><br />\n",
    "Building a model using XGBoost is easy. But, improving the model using XGBoost is difficult. This algorithm uses multiple parameters. To improve the model, parameter tuning is must. It is very difficult to get answers to practical questions like – Which set of parameters you should tune ? What is the ideal value of these parameters to obtain optimal output ?\n",
    "<br /><br />\n",
    "XGBoost (eXtreme Gradient Boosting) is an advanced implementation of gradient boosting algorithm. \n",
    "<br /><br />\n",
    "### The XGBoost Advantage\n",
    "1. Regularization:\n",
    "    - Standard GBM implementation has no [regularization](https://www.analyticsvidhya.com/blog/2015/02/avoid-over-fitting-regularization/) like XGBoost, therefore it also helps to reduce overfitting.\n",
    "    - In fact, XGBoost is also known as a 'regularized boosting' technique.\n",
    "<br /><br />\n",
    "2. Parallel Processing:\n",
    "    - XGBoost implements parallel processing and is blazingly faster as compared to GBM.\n",
    "    - But hang on, we know that boosting is a sequential process so how can it be parallelized? We know that each tree can be built only after the previous one, so what stops us from making a tree using all cores? Extra: [Parallel Gradient Boosting Decision Trees](http://zhanpengfang.github.io/418home.html)\n",
    "    - XGBoost also supports implementation on Hadoop.\n",
    "<br /><br />\n",
    "3. High Flexibility\n",
    "    - XGBoost allows users to define custom optimization objectives and evaluation criteria.\n",
    "    - This adds a whole new dimension to the model and there is no limit to what we can do.\n",
    "<br /><br />\n",
    "4. Handling Missing Values\n",
    "    - XGBoost has an in-built routine to handle missing values.\n",
    "    - The user is required to supply a different value than other observations and pass that as a parameter. XGBoost tries different things as it encounters a missing value on each node and learns which path to take for missing values in future.\n",
    "<br /><br />\n",
    "5. Tree Pruning:\n",
    "    - A GBM would stop splitting a node when it encounters a negative loss in the split. Thus it is more of a greedy algorithm.\n",
    "    - XGBoost on the other hand make splits upto the max_depth specified and then start pruning the tree backwards and remove splits beyond which there is no positive gain.\n",
    "    - Another advantage is that sometimes a split of negative loss say -2 may be followed by a split of positive loss +10. GBM would stop as it encounters -2. But XGBoost will go deeper and it will see a combined effect of +8 of the split and keep both.\n",
    "<br /><br />\n",
    "6. Built-in Cross-Validation\n",
    "    - XGBoost allows user to run a cross-validation at each iteration of the boosting process and thus it is easy to get the exact optimum number of boosting iterations in a single run.\n",
    "    - This is unlike GBM where we have to run a grid-search and only a limited values can be tested.\n",
    "<br /><br />\n",
    "7. Continue on Existing Model\n",
    "    - User can start training an XGBoost model from its last iteration of previous run. This can be of significant advantage in certain specific applications.\n",
    "    - GBM implementation of sklearn also has this feature so they are even on this point.\n"
   ]
  },
  {
   "cell_type": "markdown",
   "metadata": {},
   "source": [
    "### XGBoost Parameters\n",
    "\n",
    "The overall parameters have been divided into 3 categories by XGBoost authors:\n",
    "\n",
    "1. <b>General Parameters:</b> Guide the overall functioning\n",
    "2. <b>Booster Parameters:</b> Guide the individual booster (tree/regression) at each step\n",
    "3. <b>Learning Task Parameters:</b> Guide the optimization performed"
   ]
  },
  {
   "cell_type": "markdown",
   "metadata": {},
   "source": [
    "### General Parameters\n",
    "These define the overall functionality of XGBoost.\n",
    "<br /><br />\n",
    "1. <b>booster [default=gbtree]</b>\n",
    "    - Select the type of model to run at each iteration. It has 2 options:\n",
    "        - gbtree: tree-based models\n",
    "        - gblinear: linear models\n",
    "<br /><br />\n",
    "2. <b>silent [default=0]</b>\n",
    "    - Silent mode is activated is set to 1, i.e. no running messages will be printed.\n",
    "    - It’s generally good to keep it 0 as the messages might help in understanding the model.\n",
    "<br /><br />\n",
    "3. <b>nthread [default to maximum number of threads available if not set]</b>\n",
    "    - This is used for parallel processing and number of cores in the system should be entered\n",
    "    - If you wish to run on all cores, value should not be entered and algorithm will detect automatically\n",
    "\n",
    "<br />   \n",
    "There are 2 more parameters which are set automatically by XGBoost and you need not worry about them. Lets move on to Booster parameters."
   ]
  },
  {
   "cell_type": "markdown",
   "metadata": {},
   "source": [
    "### Booster Parameters\n",
    "\n",
    "Though there are 2 types of boosters, I’ll consider only tree booster here because it always outperforms the linear booster and thus the later is rarely used.\n",
    "<br /><br />\n",
    "1. eta [default=0.3]\n",
    "    - Analogous to learning rate in GBM\n",
    "    - Makes the model more robust by shrinking the weights on each step\n",
    "    - Typical final values to be used: 0.01-0.2\n",
    "<br /><br />\n",
    "2. min_child_weight [default=1]\n",
    "    - Defines the minimum sum of weights of all observations required in a child.\n",
    "    - This is similar to min_child_leaf in GBM but not exactly. This refers to min “sum of weights” of observations while GBM has min “number of observations”.\n",
    "    - Used to control over-fitting. Higher values prevent a model from learning relations which might be highly specific to the particular sample selected for a tree.\n",
    "    - Too high values can lead to under-fitting hence, it should be tuned using CV.\n",
    "<br /><br />\n",
    "3. max_depth [default=6]\n",
    "    - The maximum depth of a tree, same as GBM.\n",
    "    - Used to control over-fitting as higher depth will allow model to learn relations very specific to a particular sample.\n",
    "    - Should be tuned using CV.\n",
    "    - Typical values: 3-10\n",
    "<br /><br />\n",
    "4. max_leaf_nodes\n",
    "    - The maximum number of terminal nodes or leaves in a tree.\n",
    "    - Can be defined in place of max_depth. Since binary trees are created, a depth of ‘n’ would produce a maximum of 2^n leaves.\n",
    "    - If this is defined, GBM will ignore max_depth.\n",
    "<br /><br />\n",
    "5. gamma [default=0]\n",
    "    - A node is split only when the resulting split gives a positive reduction in the loss function. Gamma specifies the minimum loss reduction required to make a split.\n",
    "    - Makes the algorithm conservative. The values can vary depending on the loss function and should be tuned.\n",
    "<br /><br />\n",
    "6. max_delta_step [default=0]\n",
    "    - In maximum delta step we allow each tree’s weight estimation to be. If the value is set to 0, it means there is no constraint. If it is set to a positive value, it can help making the update step more conservative.\n",
    "    - Usually this parameter is not needed, but it might help in logistic regression when class is extremely imbalanced.\n",
    "    - This is generally not used but you can explore further if you wish.\n",
    "<br /><br />\n",
    "7. subsample [default=1]\n",
    "    - Same as the subsample of GBM. Denotes the fraction of observations to be randomly samples for each tree.\n",
    "    - Lower values make the algorithm more conservative and prevents overfitting but too small values might lead to under-fitting.\n",
    "    - Typical values: 0.5-1\n",
    "<br /><br />\n",
    "8. colsample_bytree [default=1]\n",
    "    - Similar to max_features in GBM. Denotes the fraction of columns to be randomly samples for each tree.\n",
    "    - Typical values: 0.5-1\n",
    "<br /><br />\n",
    "9. colsample_bylevel [default=1]\n",
    "    - Denotes the subsample ratio of columns for each split, in each level.\n",
    "    - I don’t use this often because subsample and colsample_bytree will do the job for you. but you can explore further if you feel so.\n",
    "<br /><br />\n",
    "10. lambda [default=1]\n",
    "    - L2 regularization term on weights (analogous to Ridge regression)\n",
    "    - This used to handle the regularization part of XGBoost. Though many data scientists don’t use it often, it should be explored to reduce overfitting.\n",
    "<br /><br />\n",
    "11. alpha [default=0]\n",
    "    - L1 regularization term on weight (analogous to Lasso regression)\n",
    "    - Can be used in case of very high dimensionality so that the algorithm runs faster when implemented\n",
    "<br /><br />\n",
    "12. scale_pos_weight [default=1]\n",
    "    - A value greater than 0 should be used in case of high class imbalance as it helps in faster convergence."
   ]
  },
  {
   "cell_type": "markdown",
   "metadata": {},
   "source": [
    "### Learning Task Parameters\n",
    "\n",
    "These parameters are used to define the optimization objective the metric to be calculated at each step.\n",
    "<br /><br />\n",
    "1. objective [default=reg:linear]\n",
    "    - This defines the loss function to be minimized. Mostly used values are:\n",
    "        - binary:logistic –logistic regression for binary classification, returns predicted probability (not class)\n",
    "        - multi:softmax –multiclass classification using the softmax objective, returns predicted class (not probabilities)\n",
    "            - you also need to set an additional num_class (number of classes) parameter defining the number of unique classes\n",
    "        - multi:softprob –same as softmax, but returns predicted probability of each data point belonging to each class.\n",
    "<br /><br />\n",
    "2. eval_metric [ default according to objective ]\n",
    "    - The metric to be used for validation data.\n",
    "    - The default values are rmse for regression and error for classification.\n",
    "    - Typical values are:\n",
    "        - rmse – root mean square error\n",
    "        - mae – mean absolute error\n",
    "        - logloss – negative log-likelihood\n",
    "        - error – Binary classification error rate (0.5 threshold)\n",
    "        - merror – Multiclass classification error rate\n",
    "        - mlogloss – Multiclass logloss\n",
    "        - auc: Area under the curve\n",
    "<br /><br />\n",
    "3. seed [default=0]\n",
    "    - The random number seed.\n",
    "    - Can be used for generating reproducible results and also for parameter tuning.\n",
    "\n",
    "<br />\n",
    "If you’ve been using Scikit-Learn till now, these parameter names might not look familiar. A good news is that xgboost module in python has an sklearn wrapper called XGBClassifier. It uses sklearn style naming convention. The parameters names which will change are:\n",
    "<br /><br />\n",
    "eta –> learning_rate\n",
    "<br />\n",
    "lambda –> reg_lambda\n",
    "<br />\n",
    "alpha –> reg_alpha\n",
    "<br /><br />\n",
    "You must be wondering that we have defined everything except something similar to the “n_estimators” parameter in GBM. Well this exists as a parameter in XGBClassifier. However, it has to be passed as “num_boosting_rounds” while calling the fit function in the standard xgboost implementation."
   ]
  },
  {
   "cell_type": "markdown",
   "metadata": {},
   "source": [
    "### Parameter Tuning\n",
    "\n",
    "#### Data Preparation refer another Parameter Tuning Jupyter Notebook"
   ]
  },
  {
   "cell_type": "code",
   "execution_count": 1,
   "metadata": {},
   "outputs": [],
   "source": [
    "import pandas as pd\n",
    "import numpy as np\n",
    "import xgboost as xgb\n",
    "from xgboost.sklearn import XGBClassifier\n",
    "from sklearn.model_selection import cross_validate, GridSearchCV\n",
    "from sklearn import metrics\n",
    "\n",
    "import matplotlib.pylab as plt\n",
    "%matplotlib inline\n",
    "from matplotlib.pylab import rcParams\n",
    "rcParams['figure.figsize'] = 12, 4\n",
    "\n",
    "train = pd.read_csv('train_modified.csv')\n",
    "target = 'Disbursed'\n",
    "IDcol = 'ID'"
   ]
  },
  {
   "cell_type": "markdown",
   "metadata": {},
   "source": [
    "Note that I have imported 2 forms of XGBoost:\n",
    "<br /><br />\n",
    "<b>xgb</b> – this is the direct xgboost library. I will use a specific function “cv” from this library\n",
    "<br />\n",
    "<b>XGBClassifier</b> – this is an sklearn wrapper for XGBoost. This allows us to use sklearn’s Grid Search with parallel processing in the same way we did for GBM"
   ]
  },
  {
   "cell_type": "markdown",
   "metadata": {},
   "source": [
    "Before proceeding further, lets define a function which will help us create XGBoost models and perform cross-validation. \n",
    "#### This function can be resuse for your own models."
   ]
  },
  {
   "cell_type": "code",
   "execution_count": 2,
   "metadata": {},
   "outputs": [],
   "source": [
    "def modelfit(alg, dtrain, predictors, useTrainCV=True, cv_folds=5, early_stopping_rounds=50):\n",
    "    \n",
    "    if useTrainCV:\n",
    "        xgb_param = alg.get_xgb_params()\n",
    "        xgtrain = xgb.DMatrix(dtrain[predictors].values, label=dtrain[target].values)\n",
    "        cvresult = xgb.cv(xgb_param, xgtrain, num_boost_round=alg.get_params()['n_estimators'], nfold=cv_folds, metrics='auc', early_stopping_rounds=early_stopping_rounds)\n",
    "        alg.set_params(n_estimators=cvresult.shape[0])\n",
    "    \n",
    "    #Fit the algorithm on the data\n",
    "    alg.fit(dtrain[predictors], dtrain['Disbursed'],eval_metric='auc')\n",
    "        \n",
    "    #Predict training set:\n",
    "    dtrain_predictions = alg.predict(dtrain[predictors])\n",
    "    dtrain_predprob = alg.predict_proba(dtrain[predictors])[:,1]\n",
    "        \n",
    "    #Print model report:\n",
    "    print (\"\\nModel Report\")\n",
    "    print (\"Accuracy : %.4g\" % metrics.accuracy_score(dtrain['Disbursed'].values, dtrain_predictions))\n",
    "    print (\"AUC Score (Train): %f\" % metrics.roc_auc_score(dtrain['Disbursed'], dtrain_predprob))\n",
    "                    \n",
    "    feat_imp = pd.Series(alg.get_booster().get_fscore()).sort_values(ascending=False)\n",
    "    feat_imp.plot(kind='bar', title='Feature Importances')\n",
    "    plt.ylabel('Feature Importance Score')"
   ]
  },
  {
   "cell_type": "markdown",
   "metadata": {},
   "source": [
    "Note that xgboost’s sklearn wrapper doesn’t have a “feature_importances” metric but a [get_fscore()](https://discuss.analyticsvidhya.com/t/xgboost-feature-importance/54638/4) function which does the same job."
   ]
  },
  {
   "cell_type": "markdown",
   "metadata": {},
   "source": [
    "### General Approach for Parameter Tuning"
   ]
  },
  {
   "cell_type": "markdown",
   "metadata": {},
   "source": [
    "1. Choose a relatively <b>high learning rate.</b> Generally a learning rate of 0.1 works but somewhere between 0.05 to 0.3 should work for different problems. Determine the <b>optimum number of trees for this learning rate.</b> XGBoost has a very useful function called as “cv” which performs cross-validation at each boosting iteration and thus returns the optimum number of trees required.\n",
    "2. <b>Tune tree-specific parameters</b> ( max_depth, min_child_weight, gamma, subsample, colsample_bytree) for decided learning rate and number of trees. Note that we can choose different parameters to define a tree and I’ll take up an example here.\n",
    "3. <b>Tune regularization parameters</b> (lambda, alpha) for xgboost which can help reduce model complexity and enhance performance.\n",
    "4. <b>Lower the learning rate</b> and decide the optimal parameters ."
   ]
  },
  {
   "cell_type": "markdown",
   "metadata": {},
   "source": [
    "### Step 1: Fix learning rate and number of estimators for tuning tree-based parameters\n",
    "\n",
    "Initial estimates:\n",
    "<br /><br />\n",
    "1. max_depth = 5 : This should be between 3-10. I’ve started with 5 but you can choose a different number as well. 4-6 can be good starting points.\n",
    "<br />\n",
    "2. min_child_weight = 1 : A smaller value is chosen because it is a highly imbalanced class problem and leaf nodes can have smaller size groups.\n",
    "<br />\n",
    "3. gamma = 0 : A smaller value like 0.1-0.2 can also be chosen for starting. This will anyways be tuned later.\n",
    "<br />\n",
    "4. subsample, colsample_bytree = 0.8 : This is a commonly used used start value. Typical values range between 0.5-0.9.\n",
    "<br />\n",
    "5. scale_pos_weight = 1: Because of high class imbalance.\n",
    "\n",
    "<br />\n",
    "Note that all the above are just initial estimates and will be tuned later. Lets take the default learning rate of 0.1 here and check the optimum number of trees using cv function of xgboost. The function defined above will do it for us."
   ]
  },
  {
   "cell_type": "code",
   "execution_count": 17,
   "metadata": {},
   "outputs": [
    {
     "name": "stdout",
     "output_type": "stream",
     "text": [
      "\n",
      "Model Report\n",
      "Accuracy : 0.9854\n",
      "AUC Score (Train): 0.899283\n"
     ]
    },
    {
     "data": {
      "image/png": "[encoded data removed]",
      "text/plain": [
       "<Figure size 432x288 with 1 Axes>"
      ]
     },
     "metadata": {
      "needs_background": "light"
     },
     "output_type": "display_data"
    }
   ],
   "source": [
    "#Choose all predictors except target & IDcols\n",
    "predictors = [x for x in train.columns if x not in [target, IDcol]]\n",
    "xgb1 = XGBClassifier(\n",
    "        learning_rate =0.1,\n",
    "        n_estimators=1000,\n",
    "        max_depth=5,\n",
    "        min_child_weight=1,\n",
    "        gamma=0,\n",
    "        subsample=0.8,\n",
    "        colsample_bytree=0.8,\n",
    "        objective= 'binary:logistic',\n",
    "        nthread=4,\n",
    "        scale_pos_weight=1,\n",
    "        seed=27)\n",
    "modelfit(xgb1, train, predictors)"
   ]
  },
  {
   "cell_type": "markdown",
   "metadata": {},
   "source": [
    "By using the codes above, we couldn't find the n_estimators. Let's try it this way."
   ]
  },
  {
   "cell_type": "code",
   "execution_count": 4,
   "metadata": {},
   "outputs": [
    {
     "name": "stdout",
     "output_type": "stream",
     "text": [
      "Best: -0.063541 using {'n_estimators': 100}\n",
      "-0.065765 (0.000397) with: {'n_estimators': 50}\n",
      "-0.063541 (0.000584) with: {'n_estimators': 100}\n",
      "-0.063657 (0.000687) with: {'n_estimators': 150}\n",
      "-0.064015 (0.000766) with: {'n_estimators': 200}\n",
      "-0.064428 (0.000761) with: {'n_estimators': 250}\n",
      "-0.064827 (0.000961) with: {'n_estimators': 300}\n",
      "-0.065379 (0.001009) with: {'n_estimators': 350}\n"
     ]
    },
    {
     "data": {
      "text/plain": [
       "Text(0, 0.5, 'Log Loss')"
      ]
     },
     "execution_count": 4,
     "metadata": {},
     "output_type": "execute_result"
    },
    {
     "data": {
      "image/png": "[encoded data removed]",
      "text/plain": [
       "<Figure size 432x288 with 1 Axes>"
      ]
     },
     "metadata": {
      "needs_background": "light"
     },
     "output_type": "display_data"
    }
   ],
   "source": [
    "from sklearn.model_selection import StratifiedKFold\n",
    "from matplotlib import pyplot\n",
    "\n",
    "predictors = [x for x in train.columns if x not in [target, IDcol]]\n",
    "# grid search\n",
    "xgb2 = XGBClassifier(learning_rate =0.1, max_depth=5, min_child_weight=1, gamma=0, subsample=0.8, colsample_bytree=0.8, objective= 'binary:logistic', nthread=4, scale_pos_weight=1, seed=27)\n",
    "n_estimators = range(50, 400, 50)\n",
    "param_grid = dict(n_estimators=n_estimators)\n",
    "kfold = StratifiedKFold(n_splits=5, shuffle=True, random_state=5)\n",
    "grid_search = GridSearchCV(xgb2, param_grid, scoring=\"neg_log_loss\", n_jobs=4, cv=kfold)\n",
    "grid_result = grid_search.fit(train[predictors],train[target])\n",
    "# summarize results\n",
    "print(\"Best: %f using %s\" % (grid_result.best_score_, grid_result.best_params_))\n",
    "means = grid_result.cv_results_['mean_test_score']\n",
    "stds = grid_result.cv_results_['std_test_score']\n",
    "params = grid_result.cv_results_['params']\n",
    "for mean, stdev, param in zip(means, stds, params):\n",
    "    print(\"%f (%f) with: %r\" % (mean, stdev, param))\n",
    "# plot\n",
    "pyplot.errorbar(n_estimators, means, yerr=stds)\n",
    "pyplot.title(\"XGBoost n_estimators vs Log Loss\")\n",
    "pyplot.xlabel('n_estimators')\n",
    "pyplot.ylabel('Log Loss')"
   ]
  },
  {
   "cell_type": "markdown",
   "metadata": {},
   "source": [
    "Here we got 100 as the optimal estimators for 0.1 learning rate. Note that this value might be too high for you depending on the power of your system. In that case you can increase the learning rate and re-run the command to get the reduced number of estimators."
   ]
  },
  {
   "cell_type": "markdown",
   "metadata": {},
   "source": [
    "### Step 2: Tune max_depth and min_child_weight"
   ]
  },
  {
   "cell_type": "markdown",
   "metadata": {},
   "source": [
    "We tune these first as they will have the highest impact on model outcome. To start with, let’s set wider ranges and then we will perform another iteration for smaller ranges."
   ]
  },
  {
   "cell_type": "code",
   "execution_count": 5,
   "metadata": {},
   "outputs": [
    {
     "name": "stderr",
     "output_type": "stream",
     "text": [
      "C:\\Users\\Kerry\\Anaconda3\\lib\\site-packages\\sklearn\\model_selection\\_search.py:823: FutureWarning: The parameter 'iid' is deprecated in 0.22 and will be removed in 0.24.\n",
      "  \"removed in 0.24.\", FutureWarning\n"
     ]
    },
    {
     "data": {
      "text/plain": [
       "({'mean_fit_time': array([12.37365179, 12.17268977, 11.95875731, 20.00143495, 20.33006949,\n",
       "         17.82601142, 25.38801475, 24.78000946, 24.19993687, 32.40153189,\n",
       "         31.51601882, 27.81001673]),\n",
       "  'std_fit_time': array([0.13714813, 0.2242607 , 0.1404813 , 0.90791805, 0.77129721,\n",
       "         0.43250973, 0.43623013, 0.37174207, 0.51588432, 0.66182075,\n",
       "         0.98308966, 3.7690391 ]),\n",
       "  'mean_score_time': array([0.09400148, 0.10600152, 0.10000124, 0.1117662 , 0.1160007 ,\n",
       "         0.10000162, 0.11400137, 0.09600129, 0.11200109, 0.12999363,\n",
       "         0.13000355, 0.10600133]),\n",
       "  'std_score_time': array([0.01959765, 0.01019927, 0.01265004, 0.03005133, 0.01743412,\n",
       "         0.00894554, 0.02245025, 0.00489884, 0.02227116, 0.00894374,\n",
       "         0.01095257, 0.01356412]),\n",
       "  'param_max_depth': masked_array(data=[3, 3, 3, 5, 5, 5, 7, 7, 7, 9, 9, 9],\n",
       "               mask=[False, False, False, False, False, False, False, False,\n",
       "                     False, False, False, False],\n",
       "         fill_value='?',\n",
       "              dtype=object),\n",
       "  'param_min_child_weight': masked_array(data=[1, 3, 5, 1, 3, 5, 1, 3, 5, 1, 3, 5],\n",
       "               mask=[False, False, False, False, False, False, False, False,\n",
       "                     False, False, False, False],\n",
       "         fill_value='?',\n",
       "              dtype=object),\n",
       "  'params': [{'max_depth': 3, 'min_child_weight': 1},\n",
       "   {'max_depth': 3, 'min_child_weight': 3},\n",
       "   {'max_depth': 3, 'min_child_weight': 5},\n",
       "   {'max_depth': 5, 'min_child_weight': 1},\n",
       "   {'max_depth': 5, 'min_child_weight': 3},\n",
       "   {'max_depth': 5, 'min_child_weight': 5},\n",
       "   {'max_depth': 7, 'min_child_weight': 1},\n",
       "   {'max_depth': 7, 'min_child_weight': 3},\n",
       "   {'max_depth': 7, 'min_child_weight': 5},\n",
       "   {'max_depth': 9, 'min_child_weight': 1},\n",
       "   {'max_depth': 9, 'min_child_weight': 3},\n",
       "   {'max_depth': 9, 'min_child_weight': 5}],\n",
       "  'split0_test_score': array([0.81676591, 0.81821354, 0.81768669, 0.83318025, 0.83441921,\n",
       "         0.83010227, 0.82983862, 0.83101823, 0.82779436, 0.82563933,\n",
       "         0.82661027, 0.82484321]),\n",
       "  'split1_test_score': array([0.81928491, 0.8176316 , 0.81813905, 0.8334019 , 0.83144636,\n",
       "         0.8324111 , 0.83176155, 0.83218234, 0.83600296, 0.82872811,\n",
       "         0.82896318, 0.83293508]),\n",
       "  'split2_test_score': array([0.83747912, 0.83904715, 0.83917887, 0.84827801, 0.84572221,\n",
       "         0.84848313, 0.84747913, 0.84797616, 0.84385759, 0.83942127,\n",
       "         0.83959243, 0.84459667]),\n",
       "  'split3_test_score': array([0.84842528, 0.84784593, 0.8481248 , 0.84987291, 0.8484996 ,\n",
       "         0.84770003, 0.8463808 , 0.84525663, 0.84702006, 0.84272758,\n",
       "         0.83991944, 0.84037507]),\n",
       "  'split4_test_score': array([0.84323353, 0.84248953, 0.84252189, 0.84224382, 0.8422979 ,\n",
       "         0.84181665, 0.83893773, 0.84215292, 0.84079149, 0.83460992,\n",
       "         0.83943464, 0.83594241]),\n",
       "  'mean_test_score': array([0.83303775, 0.83304555, 0.83313026, 0.84139538, 0.84047706,\n",
       "         0.84010264, 0.83887957, 0.83971725, 0.83909329, 0.83422524,\n",
       "         0.83490399, 0.83573849]),\n",
       "  'std_test_score': array([0.0127622 , 0.01266363, 0.01275041, 0.00709004, 0.00653359,\n",
       "         0.00761653, 0.00724747, 0.00688875, 0.00671762, 0.00637766,\n",
       "         0.00586075, 0.00673161]),\n",
       "  'rank_test_score': array([12, 11, 10,  1,  2,  3,  6,  4,  5,  9,  8,  7])},\n",
       " {'max_depth': 5, 'min_child_weight': 1},\n",
       " 0.8413953780148493)"
      ]
     },
     "execution_count": 5,
     "metadata": {},
     "output_type": "execute_result"
    }
   ],
   "source": [
    "param_test1 = {\n",
    " 'max_depth':range(3,10,2),\n",
    " 'min_child_weight':range(1,6,2)\n",
    "}\n",
    "gsearch1 = GridSearchCV(estimator = XGBClassifier( learning_rate =0.1, n_estimators=100, max_depth=5,\n",
    " min_child_weight=1, gamma=0, subsample=0.8, colsample_bytree=0.8,\n",
    " objective= 'binary:logistic', nthread=4, scale_pos_weight=1, seed=27), \n",
    " param_grid = param_test1, scoring='roc_auc',n_jobs=4,iid=False, cv=5)\n",
    "gsearch1.fit(train[predictors],train[target])\n",
    "gsearch1.cv_results_, gsearch1.best_params_, gsearch1.best_score_"
   ]
  },
  {
   "cell_type": "markdown",
   "metadata": {},
   "source": [
    "The ideal values are 5 for max_depth and 1 for min_child_weight. Lets go one step deeper and look for optimum values. We’ll search for values 1 above and below the optimum values because we took an interval of two."
   ]
  },
  {
   "cell_type": "code",
   "execution_count": 6,
   "metadata": {},
   "outputs": [
    {
     "name": "stderr",
     "output_type": "stream",
     "text": [
      "C:\\Users\\Kerry\\Anaconda3\\lib\\site-packages\\sklearn\\model_selection\\_search.py:823: FutureWarning: The parameter 'iid' is deprecated in 0.22 and will be removed in 0.24.\n",
      "  \"removed in 0.24.\", FutureWarning\n"
     ]
    },
    {
     "data": {
      "text/plain": [
       "({'mean_fit_time': array([15.67380066, 14.98090863, 15.25551786, 19.01884618, 18.84828901,\n",
       "         18.75751114, 21.66814022, 21.73048539, 18.44816766]),\n",
       "  'std_fit_time': array([0.21300135, 0.21379928, 0.27100727, 0.38411396, 0.47226904,\n",
       "         0.62911884, 0.32032601, 0.44781957, 4.57723917]),\n",
       "  'mean_score_time': array([0.12205696, 0.12404056, 0.11179032, 0.11251822, 0.15228591,\n",
       "         0.12844858, 0.1159966 , 0.10784202, 0.10400114]),\n",
       "  'std_score_time': array([0.0218369 , 0.03273546, 0.0242435 , 0.01783033, 0.05141785,\n",
       "         0.04007109, 0.02726855, 0.01030502, 0.025767  ]),\n",
       "  'param_max_depth': masked_array(data=[4, 4, 4, 5, 5, 5, 6, 6, 6],\n",
       "               mask=[False, False, False, False, False, False, False, False,\n",
       "                     False],\n",
       "         fill_value='?',\n",
       "              dtype=object),\n",
       "  'param_min_child_weight': masked_array(data=[4, 5, 6, 4, 5, 6, 4, 5, 6],\n",
       "               mask=[False, False, False, False, False, False, False, False,\n",
       "                     False],\n",
       "         fill_value='?',\n",
       "              dtype=object),\n",
       "  'params': [{'max_depth': 4, 'min_child_weight': 4},\n",
       "   {'max_depth': 4, 'min_child_weight': 5},\n",
       "   {'max_depth': 4, 'min_child_weight': 6},\n",
       "   {'max_depth': 5, 'min_child_weight': 4},\n",
       "   {'max_depth': 5, 'min_child_weight': 5},\n",
       "   {'max_depth': 5, 'min_child_weight': 6},\n",
       "   {'max_depth': 6, 'min_child_weight': 4},\n",
       "   {'max_depth': 6, 'min_child_weight': 5},\n",
       "   {'max_depth': 6, 'min_child_weight': 6}],\n",
       "  'split0_test_score': array([0.82592939, 0.8282878 , 0.82832327, 0.82978524, 0.83010227,\n",
       "         0.83204874, 0.83122943, 0.83142237, 0.83120199]),\n",
       "  'split1_test_score': array([0.82795459, 0.82718108, 0.82666525, 0.83282592, 0.8324111 ,\n",
       "         0.83345274, 0.83114127, 0.83422706, 0.83341119]),\n",
       "  'split2_test_score': array([0.84433152, 0.84633644, 0.84610982, 0.84793683, 0.84848313,\n",
       "         0.84533552, 0.84884158, 0.8461695 , 0.84725034]),\n",
       "  'split3_test_score': array([0.84886548, 0.84785576, 0.84863612, 0.84888823, 0.84770003,\n",
       "         0.84932832, 0.84725434, 0.84704122, 0.84719843]),\n",
       "  'split4_test_score': array([0.84216755, 0.84121043, 0.84200073, 0.84333735, 0.84181665,\n",
       "         0.8429566 , 0.84101651, 0.84028601, 0.84256351]),\n",
       "  'mean_test_score': array([0.83784971, 0.8381743 , 0.83834704, 0.84055471, 0.84010264,\n",
       "         0.84062438, 0.83989663, 0.83982923, 0.84032509]),\n",
       "  'std_test_score': array([0.00918708, 0.00881094, 0.00912596, 0.00784094, 0.00761653,\n",
       "         0.00675821, 0.00757864, 0.00623667, 0.00680067]),\n",
       "  'rank_test_score': array([9, 8, 7, 2, 4, 1, 5, 6, 3])},\n",
       " {'max_depth': 5, 'min_child_weight': 6},\n",
       " 0.8406243843185791)"
      ]
     },
     "execution_count": 6,
     "metadata": {},
     "output_type": "execute_result"
    }
   ],
   "source": [
    "param_test2 = {\n",
    " 'max_depth':[4,5,6],\n",
    " 'min_child_weight':[4,5,6]\n",
    "}\n",
    "gsearch2 = GridSearchCV(estimator = XGBClassifier( learning_rate=0.1, n_estimators=100, max_depth=5,\n",
    " min_child_weight=2, gamma=0, subsample=0.8, colsample_bytree=0.8,\n",
    " objective= 'binary:logistic', nthread=4, scale_pos_weight=1,seed=27), \n",
    " param_grid = param_test2, scoring='roc_auc',n_jobs=4,iid=False, cv=5)\n",
    "gsearch2.fit(train[predictors],train[target])\n",
    "gsearch2.cv_results_, gsearch2.best_params_, gsearch2.best_score_"
   ]
  },
  {
   "cell_type": "markdown",
   "metadata": {},
   "source": [
    "Here, we get the optimum values as 5 for max_depth and 6 for min_child_weight. You would have noticed that here we got 6 as optimum value for min_child_weight but we haven’t tried values more than 6. We can do that as follow:"
   ]
  },
  {
   "cell_type": "code",
   "execution_count": 10,
   "metadata": {},
   "outputs": [
    {
     "name": "stderr",
     "output_type": "stream",
     "text": [
      "C:\\Users\\Kerry\\Anaconda3\\lib\\site-packages\\sklearn\\model_selection\\_search.py:823: FutureWarning: The parameter 'iid' is deprecated in 0.22 and will be removed in 0.24.\n",
      "  \"removed in 0.24.\", FutureWarning\n"
     ]
    },
    {
     "data": {
      "text/plain": [
       "({'mean_fit_time': array([19.65211635, 19.10586996, 18.87075505, 18.90621424]),\n",
       "  'std_fit_time': array([0.11275776, 0.18483991, 0.28082801, 0.08628788]),\n",
       "  'mean_score_time': array([0.1139771 , 0.13400064, 0.10847912, 0.10000267]),\n",
       "  'std_score_time': array([0.02062389, 0.01959428, 0.00795943, 0.02097604]),\n",
       "  'param_min_child_weight': masked_array(data=[6, 8, 10, 12],\n",
       "               mask=[False, False, False, False],\n",
       "         fill_value='?',\n",
       "              dtype=object),\n",
       "  'params': [{'min_child_weight': 6},\n",
       "   {'min_child_weight': 8},\n",
       "   {'min_child_weight': 10},\n",
       "   {'min_child_weight': 12}],\n",
       "  'split0_test_score': array([0.83204874, 0.83285726, 0.83034308, 0.83099757]),\n",
       "  'split1_test_score': array([0.83345274, 0.83143328, 0.83091906, 0.83168878]),\n",
       "  'split2_test_score': array([0.84533552, 0.84870026, 0.84868574, 0.84886376]),\n",
       "  'split3_test_score': array([0.84932832, 0.84942128, 0.84906957, 0.84892539]),\n",
       "  'split4_test_score': array([0.8429566 , 0.84213222, 0.83787702, 0.83971603]),\n",
       "  'mean_test_score': array([0.84062438, 0.84090886, 0.83937889, 0.84003831]),\n",
       "  'std_test_score': array([0.00675821, 0.0076063 , 0.00819752, 0.00785395]),\n",
       "  'rank_test_score': array([2, 1, 4, 3])},\n",
       " {'min_child_weight': 8},\n",
       " 0.8409088594242944)"
      ]
     },
     "execution_count": 10,
     "metadata": {},
     "output_type": "execute_result"
    }
   ],
   "source": [
    "param_test2b = {\n",
    " 'min_child_weight':[6,8,10,12]\n",
    "}\n",
    "gsearch2b = GridSearchCV(estimator = XGBClassifier( learning_rate=0.1, n_estimators=100, max_depth=5,\n",
    " min_child_weight=2, gamma=0, subsample=0.8, colsample_bytree=0.8,\n",
    " objective= 'binary:logistic', nthread=4, scale_pos_weight=1,seed=27), \n",
    " param_grid = param_test2b, scoring='roc_auc',n_jobs=4,iid=False, cv=5)\n",
    "gsearch2b.fit(train[predictors],train[target])\n",
    "gsearch2b.cv_results_, gsearch2b.best_params_, gsearch2b.best_score_"
   ]
  },
  {
   "cell_type": "markdown",
   "metadata": {},
   "source": [
    "Looks like param test 1 has the best result "
   ]
  },
  {
   "cell_type": "markdown",
   "metadata": {},
   "source": [
    "### Step 3: Tune gamma"
   ]
  },
  {
   "cell_type": "markdown",
   "metadata": {},
   "source": [
    "Now lets tune gamma value using the parameters already tuned above. Gamma can take various values but we check for 5 values here. You can go into more precise values as you think it fits. "
   ]
  },
  {
   "cell_type": "code",
   "execution_count": 11,
   "metadata": {},
   "outputs": [
    {
     "name": "stderr",
     "output_type": "stream",
     "text": [
      "C:\\Users\\Kerry\\Anaconda3\\lib\\site-packages\\sklearn\\model_selection\\_search.py:823: FutureWarning: The parameter 'iid' is deprecated in 0.22 and will be removed in 0.24.\n",
      "  \"removed in 0.24.\", FutureWarning\n"
     ]
    },
    {
     "data": {
      "text/plain": [
       "({'mean_fit_time': array([18.83288164, 18.50552077, 18.5871973 , 18.50213237, 15.80032935]),\n",
       "  'std_fit_time': array([0.17235805, 0.13813395, 0.30280387, 0.39498867, 4.91919591]),\n",
       "  'mean_score_time': array([0.11545339, 0.11315842, 0.12873168, 0.1099999 , 0.10237622]),\n",
       "  'std_score_time': array([0.02514617, 0.01405223, 0.0134642 , 0.01673244, 0.03146563]),\n",
       "  'param_gamma': masked_array(data=[0.0, 0.1, 0.2, 0.3, 0.4],\n",
       "               mask=[False, False, False, False, False],\n",
       "         fill_value='?',\n",
       "              dtype=object),\n",
       "  'params': [{'gamma': 0.0},\n",
       "   {'gamma': 0.1},\n",
       "   {'gamma': 0.2},\n",
       "   {'gamma': 0.3},\n",
       "   {'gamma': 0.4}],\n",
       "  'split0_test_score': array([0.83318025, 0.83156436, 0.83261725, 0.83258442, 0.83221724]),\n",
       "  'split1_test_score': array([0.8334019 , 0.83331501, 0.83615631, 0.8321704 , 0.8323257 ]),\n",
       "  'split2_test_score': array([0.84827801, 0.84599068, 0.84698599, 0.84644814, 0.84694048]),\n",
       "  'split3_test_score': array([0.84987291, 0.84912846, 0.84999651, 0.84860227, 0.84946564]),\n",
       "  'split4_test_score': array([0.84224382, 0.8437612 , 0.84251686, 0.8409239 , 0.84223421]),\n",
       "  'mean_test_score': array([0.84139538, 0.84075194, 0.84165458, 0.84014583, 0.84063666]),\n",
       "  'std_test_score': array([0.00709004, 0.00701977, 0.00649091, 0.00682083, 0.00721387]),\n",
       "  'rank_test_score': array([2, 3, 1, 5, 4])},\n",
       " {'gamma': 0.2},\n",
       " 0.8416545836104504)"
      ]
     },
     "execution_count": 11,
     "metadata": {},
     "output_type": "execute_result"
    }
   ],
   "source": [
    "param_test3 = {\n",
    " 'gamma':[i/10.0 for i in range(0,5)]\n",
    "}\n",
    "gsearch3 = GridSearchCV(estimator = XGBClassifier( learning_rate =0.1, n_estimators=100, max_depth=5,\n",
    " min_child_weight=1, gamma=0, subsample=0.8, colsample_bytree=0.8,\n",
    " objective= 'binary:logistic', nthread=4, scale_pos_weight=1,seed=27), \n",
    " param_grid = param_test3, scoring='roc_auc',n_jobs=4,iid=False, cv=5)\n",
    "gsearch3.fit(train[predictors],train[target])\n",
    "gsearch3.cv_results_, gsearch3.best_params_, gsearch3.best_score_"
   ]
  },
  {
   "cell_type": "markdown",
   "metadata": {},
   "source": [
    "Gamma = 0.2 is the optimum one. "
   ]
  },
  {
   "cell_type": "markdown",
   "metadata": {},
   "source": [
    "### Step 4: Tune subsample and colsample_bytree"
   ]
  },
  {
   "cell_type": "markdown",
   "metadata": {},
   "source": [
    "The next step would be try different subsample and colsample_bytree values. Lets do this in 2 stages as well and take values 0.6,0.7,0.8,0.9 for both to start with."
   ]
  },
  {
   "cell_type": "code",
   "execution_count": 18,
   "metadata": {},
   "outputs": [
    {
     "name": "stderr",
     "output_type": "stream",
     "text": [
      "C:\\Users\\Kerry\\Anaconda3\\lib\\site-packages\\sklearn\\model_selection\\_search.py:823: FutureWarning: The parameter 'iid' is deprecated in 0.22 and will be removed in 0.24.\n",
      "  \"removed in 0.24.\", FutureWarning\n"
     ]
    },
    {
     "data": {
      "text/plain": [
       "({'mean_fit_time': array([17.98351588, 17.10402708, 15.15031333, 15.1000092 , 17.48800912,\n",
       "         17.30001364, 16.82445345, 16.18710232, 19.37178855, 19.31191792,\n",
       "         19.59068737, 20.31479421, 24.14257698, 20.79513865, 20.10001149,\n",
       "         17.6420104 ]),\n",
       "  'std_fit_time': array([0.70574359, 0.47772109, 0.64892252, 0.43621156, 0.45512192,\n",
       "         0.28531522, 0.32007388, 0.67302103, 0.34695951, 0.2711337 ,\n",
       "         0.74995223, 0.8401381 , 1.18650712, 0.17954888, 0.34461579,\n",
       "         2.43568122]),\n",
       "  'mean_score_time': array([0.14893656, 0.11206779, 0.10800238, 0.11200409, 0.12200437,\n",
       "         0.10599689, 0.11800237, 0.11073899, 0.10600057, 0.10599966,\n",
       "         0.11566057, 0.1131907 , 0.15968623, 0.12000084, 0.11200051,\n",
       "         0.08800192]),\n",
       "  'std_score_time': array([0.04703617, 0.01342869, 0.00748563, 0.01165762, 0.02481456,\n",
       "         0.01497212, 0.02713132, 0.00906557, 0.01356435, 0.01743577,\n",
       "         0.0346786 , 0.01168417, 0.0800001 , 0.01897377, 0.0116622 ,\n",
       "         0.01720476]),\n",
       "  'param_colsample_bytree': masked_array(data=[0.6, 0.6, 0.6, 0.6, 0.7, 0.7, 0.7, 0.7, 0.8, 0.8, 0.8,\n",
       "                     0.8, 0.9, 0.9, 0.9, 0.9],\n",
       "               mask=[False, False, False, False, False, False, False, False,\n",
       "                     False, False, False, False, False, False, False, False],\n",
       "         fill_value='?',\n",
       "              dtype=object),\n",
       "  'param_subsample': masked_array(data=[0.6, 0.7, 0.8, 0.9, 0.6, 0.7, 0.8, 0.9, 0.6, 0.7, 0.8,\n",
       "                     0.9, 0.6, 0.7, 0.8, 0.9],\n",
       "               mask=[False, False, False, False, False, False, False, False,\n",
       "                     False, False, False, False, False, False, False, False],\n",
       "         fill_value='?',\n",
       "              dtype=object),\n",
       "  'params': [{'colsample_bytree': 0.6, 'subsample': 0.6},\n",
       "   {'colsample_bytree': 0.6, 'subsample': 0.7},\n",
       "   {'colsample_bytree': 0.6, 'subsample': 0.8},\n",
       "   {'colsample_bytree': 0.6, 'subsample': 0.9},\n",
       "   {'colsample_bytree': 0.7, 'subsample': 0.6},\n",
       "   {'colsample_bytree': 0.7, 'subsample': 0.7},\n",
       "   {'colsample_bytree': 0.7, 'subsample': 0.8},\n",
       "   {'colsample_bytree': 0.7, 'subsample': 0.9},\n",
       "   {'colsample_bytree': 0.8, 'subsample': 0.6},\n",
       "   {'colsample_bytree': 0.8, 'subsample': 0.7},\n",
       "   {'colsample_bytree': 0.8, 'subsample': 0.8},\n",
       "   {'colsample_bytree': 0.8, 'subsample': 0.9},\n",
       "   {'colsample_bytree': 0.9, 'subsample': 0.6},\n",
       "   {'colsample_bytree': 0.9, 'subsample': 0.7},\n",
       "   {'colsample_bytree': 0.9, 'subsample': 0.8},\n",
       "   {'colsample_bytree': 0.9, 'subsample': 0.9}],\n",
       "  'split0_test_score': array([0.8297849 , 0.83172884, 0.82903228, 0.8292165 , 0.83169762,\n",
       "         0.83483357, 0.83241776, 0.82866785, 0.82973887, 0.83281089,\n",
       "         0.83261725, 0.82993113, 0.83413294, 0.83367278, 0.83114885,\n",
       "         0.83069064]),\n",
       "  'split1_test_score': array([0.83164792, 0.82814972, 0.82982278, 0.82540747, 0.8298206 ,\n",
       "         0.8298486 , 0.83153325, 0.8324468 , 0.83472854, 0.8275695 ,\n",
       "         0.83615631, 0.83426035, 0.82997314, 0.82911079, 0.83194601,\n",
       "         0.83371514]),\n",
       "  'split2_test_score': array([0.84728453, 0.84536994, 0.84587748, 0.84811439, 0.84439463,\n",
       "         0.84681242, 0.84651629, 0.84812583, 0.84628395, 0.84701297,\n",
       "         0.84698599, 0.84771112, 0.84947044, 0.85049949, 0.85047548,\n",
       "         0.84995409]),\n",
       "  'split3_test_score': array([0.85072004, 0.84985382, 0.84945226, 0.84966002, 0.84606523,\n",
       "         0.84696827, 0.85165647, 0.84949514, 0.84824794, 0.84718425,\n",
       "         0.84999651, 0.84841407, 0.84997193, 0.84784616, 0.84717911,\n",
       "         0.84780499]),\n",
       "  'split4_test_score': array([0.84438606, 0.83962387, 0.8396616 , 0.84271226, 0.84175079,\n",
       "         0.83932648, 0.84299753, 0.841593  , 0.84229596, 0.8401791 ,\n",
       "         0.84251686, 0.84495958, 0.8411392 , 0.84025388, 0.84112708,\n",
       "         0.84419077]),\n",
       "  'mean_test_score': array([0.84076469, 0.83894524, 0.83876928, 0.83902213, 0.83874577,\n",
       "         0.83955787, 0.84102426, 0.84006572, 0.84025905, 0.83895134,\n",
       "         0.84165458, 0.84105525, 0.84093753, 0.84027662, 0.8403753 ,\n",
       "         0.84127113]),\n",
       "  'std_test_score': array([0.00846644, 0.00811608, 0.00824982, 0.00990919, 0.00669103,\n",
       "         0.00669604, 0.00788988, 0.00829664, 0.00700759, 0.00776569,\n",
       "         0.00649091, 0.00753145, 0.00801239, 0.00812517, 0.0078109 ,\n",
       "         0.00768959]),\n",
       "  'rank_test_score': array([ 6, 14, 15, 12, 16, 11,  4, 10,  9, 13,  1,  3,  5,  8,  7,  2])},\n",
       " {'colsample_bytree': 0.8, 'subsample': 0.8},\n",
       " 0.8416545836104504)"
      ]
     },
     "execution_count": 18,
     "metadata": {},
     "output_type": "execute_result"
    }
   ],
   "source": [
    "param_test4 = {\n",
    " 'subsample':[i/10.0 for i in range(6,10)],\n",
    " 'colsample_bytree':[i/10.0 for i in range(6,10)]\n",
    "}\n",
    "gsearch4 = GridSearchCV(estimator = XGBClassifier( learning_rate =0.1, n_estimators=100, max_depth=5,\n",
    " min_child_weight=1, gamma=0.2, subsample=0.8, colsample_bytree=0.8,\n",
    " objective= 'binary:logistic', nthread=4, scale_pos_weight=1,seed=27), \n",
    " param_grid = param_test4, scoring='roc_auc',n_jobs=4,iid=False, cv=5)\n",
    "gsearch4.fit(train[predictors],train[target])\n",
    "gsearch4.cv_results_, gsearch4.best_params_, gsearch4.best_score_"
   ]
  },
  {
   "cell_type": "markdown",
   "metadata": {},
   "source": [
    "Here, we found 0.8 as the optimum value for both subsample and colsample_bytree. Now we should try values in 0.05 interval around these."
   ]
  },
  {
   "cell_type": "code",
   "execution_count": 21,
   "metadata": {},
   "outputs": [
    {
     "name": "stderr",
     "output_type": "stream",
     "text": [
      "C:\\Users\\Kerry\\Anaconda3\\lib\\site-packages\\sklearn\\model_selection\\_search.py:823: FutureWarning: The parameter 'iid' is deprecated in 0.22 and will be removed in 0.24.\n",
      "  \"removed in 0.24.\", FutureWarning\n"
     ]
    },
    {
     "data": {
      "text/plain": [
       "({'mean_fit_time': array([18.02691169, 17.76771402, 17.82701688, 18.71653147, 18.5492106 ,\n",
       "         18.63058743, 19.42117314, 19.09799213, 16.07400823]),\n",
       "  'std_fit_time': array([0.17190648, 0.29493352, 0.2973735 , 0.52879093, 0.0782265 ,\n",
       "         0.51666169, 0.21042485, 0.22927737, 4.79636302]),\n",
       "  'mean_score_time': array([0.12000041, 0.11799955, 0.12199993, 0.12000141, 0.11600013,\n",
       "         0.1180006 , 0.0980011 , 0.10000105, 0.10200081]),\n",
       "  'std_score_time': array([0.00894394, 0.02785519, 0.01469682, 0.03794701, 0.0079991 ,\n",
       "         0.01599849, 0.01326659, 0.01414273, 0.03429315]),\n",
       "  'param_colsample_bytree': masked_array(data=[0.75, 0.75, 0.75, 0.8, 0.8, 0.8, 0.85, 0.85, 0.85],\n",
       "               mask=[False, False, False, False, False, False, False, False,\n",
       "                     False],\n",
       "         fill_value='?',\n",
       "              dtype=object),\n",
       "  'param_subsample': masked_array(data=[0.75, 0.8, 0.85, 0.75, 0.8, 0.85, 0.75, 0.8, 0.85],\n",
       "               mask=[False, False, False, False, False, False, False, False,\n",
       "                     False],\n",
       "         fill_value='?',\n",
       "              dtype=object),\n",
       "  'params': [{'colsample_bytree': 0.75, 'subsample': 0.75},\n",
       "   {'colsample_bytree': 0.75, 'subsample': 0.8},\n",
       "   {'colsample_bytree': 0.75, 'subsample': 0.85},\n",
       "   {'colsample_bytree': 0.8, 'subsample': 0.75},\n",
       "   {'colsample_bytree': 0.8, 'subsample': 0.8},\n",
       "   {'colsample_bytree': 0.8, 'subsample': 0.85},\n",
       "   {'colsample_bytree': 0.85, 'subsample': 0.75},\n",
       "   {'colsample_bytree': 0.85, 'subsample': 0.8},\n",
       "   {'colsample_bytree': 0.85, 'subsample': 0.85}],\n",
       "  'split0_test_score': array([0.83564415, 0.83443837, 0.83259406, 0.83255412, 0.83261725,\n",
       "         0.83562372, 0.83579716, 0.83385322, 0.83451643]),\n",
       "  'split1_test_score': array([0.83243406, 0.8331744 , 0.83457439, 0.82883864, 0.83615631,\n",
       "         0.83264962, 0.83125996, 0.83221345, 0.83114299]),\n",
       "  'split2_test_score': array([0.84620106, 0.84722724, 0.84738606, 0.849124  , 0.84698599,\n",
       "         0.84679093, 0.84605837, 0.84750074, 0.84697696]),\n",
       "  'split3_test_score': array([0.85261257, 0.84963532, 0.84740527, 0.8500642 , 0.84999651,\n",
       "         0.84853218, 0.85334719, 0.84857026, 0.84856546]),\n",
       "  'split4_test_score': array([0.8404335 , 0.84120437, 0.84411096, 0.84019751, 0.84251686,\n",
       "         0.84499594, 0.84085827, 0.845132  , 0.84780134]),\n",
       "  'mean_test_score': array([0.84146507, 0.84113594, 0.84121415, 0.84015569, 0.84165458,\n",
       "         0.84171848, 0.84146419, 0.84145393, 0.84180063]),\n",
       "  'std_test_score': array([0.00725538, 0.00659684, 0.00637505, 0.0085378 , 0.00649091,\n",
       "         0.00636063, 0.00773202, 0.00698415, 0.00741904]),\n",
       "  'rank_test_score': array([4, 8, 7, 9, 3, 2, 5, 6, 1])},\n",
       " {'colsample_bytree': 0.8, 'subsample': 0.8},\n",
       " 0.8416545836104504)"
      ]
     },
     "execution_count": 21,
     "metadata": {},
     "output_type": "execute_result"
    }
   ],
   "source": [
    "param_test5 = {\n",
    " 'subsample':[i/100.0 for i in range(75,90,5)],\n",
    " 'colsample_bytree':[i/100.0 for i in range(75,90,5)]\n",
    "}\n",
    "gsearch5 = GridSearchCV(estimator = XGBClassifier( learning_rate =0.1, n_estimators=100, max_depth=5,\n",
    " min_child_weight=1, gamma=0.2, subsample=0.8, colsample_bytree=0.8,\n",
    " objective= 'binary:logistic', nthread=4, scale_pos_weight=1,seed=27), \n",
    " param_grid = param_test5, scoring='roc_auc',n_jobs=4,iid=False, cv=5)\n",
    "gsearch5.fit(train[predictors],train[target])\n",
    "gsearch5.cv_results_, gsearch4.best_params_, gsearch4.best_score_"
   ]
  },
  {
   "cell_type": "markdown",
   "metadata": {},
   "source": [
    "Again we got the same values as before. Thus the optimum values are:\n",
    "\n",
    "- subsample: 0.8\n",
    "- colsample_bytree: 0.8"
   ]
  },
  {
   "cell_type": "markdown",
   "metadata": {},
   "source": [
    "### Step 5: Tuning Regularization Parameters"
   ]
  },
  {
   "cell_type": "markdown",
   "metadata": {},
   "source": [
    "Next step is to apply regularization to reduce overfitting. Though many people don’t use this parameters much as gamma provides a substantial way of controlling complexity. But we should always try it. I’ll tune ‘reg_alpha’ value here. We can also try different values of ‘reg_lambda’."
   ]
  },
  {
   "cell_type": "code",
   "execution_count": 22,
   "metadata": {},
   "outputs": [
    {
     "name": "stderr",
     "output_type": "stream",
     "text": [
      "C:\\Users\\Kerry\\Anaconda3\\lib\\site-packages\\sklearn\\model_selection\\_search.py:823: FutureWarning: The parameter 'iid' is deprecated in 0.22 and will be removed in 0.24.\n",
      "  \"removed in 0.24.\", FutureWarning\n"
     ]
    },
    {
     "data": {
      "text/plain": [
       "({'mean_fit_time': array([20.55802722, 19.45217719, 20.7226408 , 20.89133644, 13.37146177]),\n",
       "  'std_fit_time': array([0.39901372, 0.55508019, 1.130118  , 0.31293087, 3.78165365]),\n",
       "  'mean_score_time': array([0.1804348 , 0.11554003, 0.15900617, 0.14966922, 0.08078604]),\n",
       "  'std_score_time': array([0.08254758, 0.01631703, 0.03302374, 0.02523159, 0.02592432]),\n",
       "  'param_reg_alpha': masked_array(data=[1e-05, 0.01, 0.1, 1, 100],\n",
       "               mask=[False, False, False, False, False],\n",
       "         fill_value='?',\n",
       "              dtype=object),\n",
       "  'params': [{'reg_alpha': 1e-05},\n",
       "   {'reg_alpha': 0.01},\n",
       "   {'reg_alpha': 0.1},\n",
       "   {'reg_alpha': 1},\n",
       "   {'reg_alpha': 100}],\n",
       "  'split0_test_score': array([0.83261725, 0.83174238, 0.83410287, 0.83137152, 0.79018273]),\n",
       "  'split1_test_score': array([0.83615631, 0.83403033, 0.83183869, 0.8322022 , 0.79435608]),\n",
       "  'split2_test_score': array([0.84698599, 0.84590206, 0.84677161, 0.84611576, 0.82339381]),\n",
       "  'split3_test_score': array([0.84999651, 0.84981963, 0.84700977, 0.84879791, 0.83416549]),\n",
       "  'split4_test_score': array([0.84251674, 0.84371375, 0.84193465, 0.83968184, 0.81883972]),\n",
       "  'mean_test_score': array([0.84165456, 0.84104163, 0.84033152, 0.83963385, 0.81218756]),\n",
       "  'std_test_score': array([0.00649091, 0.00697785, 0.00631772, 0.00706389, 0.01705893]),\n",
       "  'rank_test_score': array([1, 2, 3, 4, 5])},\n",
       " {'reg_alpha': 1e-05},\n",
       " 0.8416545607428276)"
      ]
     },
     "execution_count": 22,
     "metadata": {},
     "output_type": "execute_result"
    }
   ],
   "source": [
    "param_test6 = {\n",
    " 'reg_alpha':[1e-5, 1e-2, 0.1, 1, 100]\n",
    "}\n",
    "gsearch6 = GridSearchCV(estimator = XGBClassifier( learning_rate =0.1, n_estimators=100, max_depth=5,\n",
    " min_child_weight=1, gamma=0.2, subsample=0.8, colsample_bytree=0.8,\n",
    " objective= 'binary:logistic', nthread=4, scale_pos_weight=1,seed=27), \n",
    " param_grid = param_test6, scoring='roc_auc',n_jobs=4,iid=False, cv=5)\n",
    "gsearch6.fit(train[predictors],train[target])\n",
    "gsearch6.cv_results_, gsearch6.best_params_, gsearch6.best_score_"
   ]
  },
  {
   "cell_type": "markdown",
   "metadata": {},
   "source": [
    "reg_alpha = 0.00001"
   ]
  },
  {
   "cell_type": "markdown",
   "metadata": {},
   "source": [
    "### Step 6: Reducing Learning Rate"
   ]
  },
  {
   "cell_type": "markdown",
   "metadata": {},
   "source": [
    "Lastly, we should lower the learning rate and add more trees. Lets use the cv function of XGBoost to do the job again."
   ]
  },
  {
   "cell_type": "code",
   "execution_count": 23,
   "metadata": {},
   "outputs": [
    {
     "name": "stdout",
     "output_type": "stream",
     "text": [
      "\n",
      "Model Report\n",
      "Accuracy : 0.9854\n",
      "AUC Score (Train): 0.900821\n"
     ]
    },
    {
     "data": {
      "image/png": "[encoded data removed]",
      "text/plain": [
       "<Figure size 432x288 with 1 Axes>"
      ]
     },
     "metadata": {
      "needs_background": "light"
     },
     "output_type": "display_data"
    }
   ],
   "source": [
    "xgb3 = XGBClassifier(\n",
    " learning_rate =0.01,\n",
    " n_estimators=5000,\n",
    " max_depth=5,\n",
    " min_child_weight=1,\n",
    " gamma=0.2,\n",
    " subsample=0.8,\n",
    " colsample_bytree=0.8,\n",
    " reg_alpha=0.00001,\n",
    " objective= 'binary:logistic',\n",
    " nthread=4,\n",
    " scale_pos_weight=1,\n",
    " seed=27)\n",
    "modelfit(xgb3, train, predictors)"
   ]
  },
  {
   "cell_type": "markdown",
   "metadata": {},
   "source": [
    "The score improved."
   ]
  }
 ],
 "metadata": {
  "kernelspec": {
   "display_name": "Python 3",
   "language": "python",
   "name": "python3"
  },
  "language_info": {
   "codemirror_mode": {
    "name": "ipython",
    "version": 3
   },
   "file_extension": ".py",
   "mimetype": "text/x-python",
   "name": "python",
   "nbconvert_exporter": "python",
   "pygments_lexer": "ipython3",
   "version": "3.7.4"
  }
 },
 "nbformat": 4,
 "nbformat_minor": 2
}
