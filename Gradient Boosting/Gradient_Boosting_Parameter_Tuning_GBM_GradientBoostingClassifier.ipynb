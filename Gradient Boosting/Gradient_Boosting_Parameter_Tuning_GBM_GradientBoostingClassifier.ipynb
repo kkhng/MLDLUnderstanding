{
 "cells": [
  {
   "cell_type": "markdown",
   "metadata": {},
   "source": [
    "Boosting algorithms play a crucial role in dealing with bias variance trade-off.  Unlike bagging algorithms, which only controls for high variance in a model, boosting controls both the aspects (bias & variance), and is considered to be more effective. \n",
    "<br /><br />\n",
    "Boosting is a sequential technique which works on the principle of ensemble. It combines a set of weak learners and delivers improved prediction accuracy. "
   ]
  },
  {
   "cell_type": "markdown",
   "metadata": {},
   "source": [
    "### Objective\n",
    "\n",
    "- Learn parameter tuning in gradient boosting algorithm using Python\n",
    "- Understand how to adjust bias-variance trade-off in machine learning for gradient boosting"
   ]
  },
  {
   "cell_type": "markdown",
   "metadata": {},
   "source": [
    "### The overall parameters can be divided into 3 categories:\n",
    "<br /><br />\n",
    "<b>Tree-Specific Parameters:</b> These affect each individual tree in the model.\n",
    "<br />\n",
    "<b>Boosting Parameters:</b> These affect the boosting operation in the model.\n",
    "<br />\n",
    "<b>Miscellaneous Parameters:</b> Other parameters for overall functioning."
   ]
  },
  {
   "cell_type": "markdown",
   "metadata": {},
   "source": [
    "1. min_samples_split\n",
    "\n",
    "    - Defines the minimum number of samples (or observations) which are required in a node to be considered for splitting.\n",
    "    - Used to control over-fitting. Higher values prevent a model from learning relations which might be highly specific to the particular sample selected for a tree.\n",
    "    - Too high values can lead to under-fitting hence, it should be tuned using CV.\n",
    "<br /><br />\n",
    "2. min_samples_leaf\n",
    "\n",
    "    - Defines the minimum samples (or observations) required in a terminal node or leaf.\n",
    "    - Used to control over-fitting similar to min_samples_split.\n",
    "    - Generally lower values should be chosen for imbalanced class problems because the regions in which the minority class will be in majority will be very small.\n",
    "<br /><br />\n",
    "3. min_weight_fraction_leaf\n",
    "\n",
    "    - Similar to min_samples_leaf but defined as a fraction of the total number of observations instead of an integer.\n",
    "    - Only one of #2 and #3 should be defined.\n",
    "<br /><br />\n",
    "4. max_depth\n",
    "\n",
    "    - The maximum depth of a tree.\n",
    "    - Used to control over-fitting as higher depth will allow model to learn relations very specific to a particular sample.\n",
    "    - Should be tuned using CV.\n",
    "<br /><br />\n",
    "5. max_leaf_nodes\n",
    "\n",
    "    - The maximum number of terminal nodes or leaves in a tree.\n",
    "    - Can be defined in place of max_depth. Since binary trees are created, a depth of ‘n’ would produce a maximum of 2^n leaves.\n",
    "    - If this is defined, GBM will ignore max_depth.\n",
    "<br /><br />\n",
    "6. max_features\n",
    "\n",
    "    - The number of features to consider while searching for a best split. These will be randomly selected.\n",
    "    - As a thumb-rule, square root of the total number of features works great but we should check upto 30-40% of the total number of features.\n",
    "    - Higher values can lead to over-fitting but depends on case to case."
   ]
  },
  {
   "cell_type": "markdown",
   "metadata": {},
   "source": [
    "#### overall pseudo-code of the GBM algorithm for 2 classes:\n",
    "\n",
    "1. Initialize the outcome\n",
    "2. Iterate from 1 to total number of trees\n",
    "<br />\n",
    "  2.1 Update the weights for targets based on previous run (higher for the ones mis-classified)\n",
    "  <br />\n",
    "  2.2 Fit the model on selected subsample of data\n",
    "  <br />\n",
    "  2.3 Make predictions on the full set of observations\n",
    "  <br />\n",
    "  2.4 Update the output with current results taking into account the learning rate\n",
    "3. Return the final output"
   ]
  },
  {
   "cell_type": "markdown",
   "metadata": {},
   "source": [
    "This is an extremely simplified (probably naive) explanation of GBM’s working. The parameters which we have considered so far will affect step 2.2, i.e. model building. Lets consider another set of parameters for managing boosting:"
   ]
  },
  {
   "cell_type": "markdown",
   "metadata": {},
   "source": [
    "7. learning_rate\n",
    "\n",
    "    - This determines the impact of each tree on the final outcome (step 2.4). GBM works by starting with an initial estimate which is updated using the output of each tree. The learning parameter controls the magnitude of this change in the estimates.\n",
    "    - Lower values are generally preferred as they make the model robust to the specific characteristics of tree and thus allowing it to generalize well.\n",
    "    - Lower values would require higher number of trees to model all the relations and will be computationally expensive.\n",
    "<br /><br />\n",
    "8. n_estimators\n",
    "    - The number of sequential trees to be modeled (step 2)\n",
    "    - Though GBM is fairly robust at higher number of trees but it can still overfit at a point. Hence, this should be tuned using CV for a particular learning rate.\n",
    "<br /><br />\n",
    "9. subsample\n",
    "    - The fraction of observations to be selected for each tree. Selection is done by random sampling.\n",
    "    - Values slightly less than 1 make the model robust by reducing the variance.\n",
    "    - Typical values ~0.8 generally work fine but can be fine-tuned further.\n",
    "\n",
    "<br /><br />\n",
    "#### Apart from these, there are certain miscellaneous parameters which affect overall functionality:\n",
    "<br /><br />\n",
    "\n",
    "10. loss\n",
    "    - It refers to the loss function to be minimized in each split.\n",
    "    - It can have various values for classification and regression case. Generally the default values work fine. Other values should be chosen only if you understand their impact on the model.\n",
    "<br /><br />\n",
    "11. init\n",
    "    - This affects initialization of the output.\n",
    "    - This can be used if we have made another model whose outcome is to be used as the initial estimates for GBM.\n",
    "<br /><br />\n",
    "12. random_state\n",
    "    - The random number seed so that same random numbers are generated every time.\n",
    "    - This is important for parameter tuning. If we don’t fix the random number, then we’ll have different outcomes for subsequent runs on the same parameters and it becomes difficult to compare models.\n",
    "    - It can potentially result in overfitting to a particular random sample selected. We can try running models for different random samples, which is computationally expensive and generally not used.\n",
    "<br /><br />\n",
    "13. verbose\n",
    "    - The type of output to be printed when the model fits. The different values can be:\n",
    "      - 0: no output generated (default)\n",
    "      - 1: output generated for trees in certain intervals\n",
    "      - greater than 1: output generated for all trees\n",
    "<br /><br />\n",
    "14. warm_start\n",
    "    - This parameter has an interesting application and can help a lot if used judicially.\n",
    "    - Using this, we can fit additional trees on previous fits of a model. It can save a lot of time and you should explore this option for advanced applications\n",
    "<br /><br />\n",
    "15. presort \n",
    "    - Select whether to presort data for faster splits.\n",
    "    - It makes the selection automatically by default but it can be changed if needed."
   ]
  },
  {
   "cell_type": "markdown",
   "metadata": {},
   "source": [
    "### Data Preparation"
   ]
  },
  {
   "cell_type": "code",
   "execution_count": 1,
   "metadata": {},
   "outputs": [],
   "source": [
    "import pandas as pd\n",
    "import numpy as np\n",
    "%matplotlib inline"
   ]
  },
  {
   "cell_type": "code",
   "execution_count": 2,
   "metadata": {},
   "outputs": [],
   "source": [
    "#Load data:\n",
    "train = pd.read_csv('Train_nyOWmfK.csv', encoding='latin1')\n",
    "test = pd.read_csv('Test_bCtAN1w.csv', encoding='latin1')"
   ]
  },
  {
   "cell_type": "code",
   "execution_count": 3,
   "metadata": {},
   "outputs": [
    {
     "data": {
      "text/plain": [
       "((87020, 26), (37717, 24))"
      ]
     },
     "execution_count": 3,
     "metadata": {},
     "output_type": "execute_result"
    }
   ],
   "source": [
    "train.shape, test.shape"
   ]
  },
  {
   "cell_type": "code",
   "execution_count": 4,
   "metadata": {},
   "outputs": [
    {
     "data": {
      "text/plain": [
       "ID                        object\n",
       "Gender                    object\n",
       "City                      object\n",
       "Monthly_Income             int64\n",
       "DOB                       object\n",
       "Lead_Creation_Date        object\n",
       "Loan_Amount_Applied      float64\n",
       "Loan_Tenure_Applied      float64\n",
       "Existing_EMI             float64\n",
       "Employer_Name             object\n",
       "Salary_Account            object\n",
       "Mobile_Verified           object\n",
       "Var5                       int64\n",
       "Var1                      object\n",
       "Loan_Amount_Submitted    float64\n",
       "Loan_Tenure_Submitted    float64\n",
       "Interest_Rate            float64\n",
       "Processing_Fee           float64\n",
       "EMI_Loan_Submitted       float64\n",
       "Filled_Form               object\n",
       "Device_Type               object\n",
       "Var2                      object\n",
       "Source                    object\n",
       "Var4                       int64\n",
       "LoggedIn                   int64\n",
       "Disbursed                  int64\n",
       "dtype: object"
      ]
     },
     "execution_count": 4,
     "metadata": {},
     "output_type": "execute_result"
    }
   ],
   "source": [
    "train.dtypes"
   ]
  },
  {
   "cell_type": "code",
   "execution_count": 5,
   "metadata": {},
   "outputs": [
    {
     "name": "stderr",
     "output_type": "stream",
     "text": [
      "C:\\Users\\Kerry\\Anaconda3\\lib\\site-packages\\ipykernel_launcher.py:4: FutureWarning: Sorting because non-concatenation axis is not aligned. A future version\n",
      "of pandas will change to not sort by default.\n",
      "\n",
      "To accept the future behavior, pass 'sort=False'.\n",
      "\n",
      "To retain the current behavior and silence the warning, pass 'sort=True'.\n",
      "\n",
      "  after removing the cwd from sys.path.\n"
     ]
    },
    {
     "data": {
      "text/plain": [
       "(124737, 27)"
      ]
     },
     "execution_count": 5,
     "metadata": {},
     "output_type": "execute_result"
    }
   ],
   "source": [
    "#Combine into data:\n",
    "train['source']= 'train'\n",
    "test['source'] = 'test'\n",
    "data=pd.concat([train, test],ignore_index=True)\n",
    "data.shape"
   ]
  },
  {
   "cell_type": "code",
   "execution_count": 7,
   "metadata": {},
   "outputs": [
    {
     "data": {
      "text/plain": [
       "City                      1401\n",
       "DOB                          0\n",
       "Device_Type                  0\n",
       "Disbursed                37717\n",
       "EMI_Loan_Submitted       84901\n",
       "Employer_Name              113\n",
       "Existing_EMI               111\n",
       "Filled_Form                  0\n",
       "Gender                       0\n",
       "ID                           0\n",
       "Interest_Rate            84901\n",
       "Lead_Creation_Date           0\n",
       "Loan_Amount_Applied        111\n",
       "Loan_Amount_Submitted    49535\n",
       "Loan_Tenure_Applied        111\n",
       "Loan_Tenure_Submitted    49535\n",
       "LoggedIn                 37717\n",
       "Mobile_Verified              0\n",
       "Monthly_Income               0\n",
       "Processing_Fee           85346\n",
       "Salary_Account           16801\n",
       "Source                       0\n",
       "Var1                         0\n",
       "Var2                         0\n",
       "Var4                         0\n",
       "Var5                         0\n",
       "source                       0\n",
       "dtype: int64"
      ]
     },
     "execution_count": 7,
     "metadata": {},
     "output_type": "execute_result"
    }
   ],
   "source": [
    "# Check Missing Values\n",
    "data.apply(lambda x: sum(x.isnull()))"
   ]
  },
  {
   "cell_type": "code",
   "execution_count": 25,
   "metadata": {},
   "outputs": [
    {
     "name": "stdout",
     "output_type": "stream",
     "text": [
      "\n",
      "Frequency count for variable Gender\n",
      "Male      71398\n",
      "Female    53339\n",
      "Name: Gender, dtype: int64\n",
      "\n",
      "Frequency count for variable Salary_Account\n",
      "HDFC Bank                                          25180\n",
      "ICICI Bank                                         19547\n",
      "State Bank of India                                17110\n",
      "Axis Bank                                          12590\n",
      "Citibank                                            3398\n",
      "Kotak Bank                                          2955\n",
      "IDBI Bank                                           2213\n",
      "Punjab National Bank                                1747\n",
      "Bank of India                                       1713\n",
      "Bank of Baroda                                      1675\n",
      "Standard Chartered Bank                             1434\n",
      "Canara Bank                                         1385\n",
      "Union Bank of India                                 1330\n",
      "Yes Bank                                            1120\n",
      "ING Vysya                                            996\n",
      "Corporation bank                                     948\n",
      "Indian Overseas Bank                                 901\n",
      "State Bank of Hyderabad                              854\n",
      "Indian Bank                                          773\n",
      "Oriental Bank of Commerce                            761\n",
      "IndusInd Bank                                        711\n",
      "Andhra Bank                                          706\n",
      "Central Bank of India                                648\n",
      "Syndicate Bank                                       614\n",
      "Bank of Maharasthra                                  576\n",
      "HSBC                                                 474\n",
      "State Bank of Bikaner & Jaipur                       448\n",
      "Karur Vysya Bank                                     435\n",
      "State Bank of Mysore                                 385\n",
      "Federal Bank                                         377\n",
      "Vijaya Bank                                          354\n",
      "Allahabad Bank                                       345\n",
      "UCO Bank                                             344\n",
      "State Bank of Travancore                             333\n",
      "Karnataka Bank                                       279\n",
      "United Bank of India                                 276\n",
      "Dena Bank                                            268\n",
      "Saraswat Bank                                        265\n",
      "State Bank of Patiala                                263\n",
      "South Indian Bank                                    223\n",
      "Deutsche Bank                                        176\n",
      "Abhyuday Co-op Bank Ltd                              161\n",
      "The Ratnakar Bank Ltd                                113\n",
      "Tamil Nadu Mercantile Bank                           103\n",
      "Punjab & Sind bank                                    84\n",
      "J&K Bank                                              78\n",
      "Lakshmi Vilas bank                                    69\n",
      "Dhanalakshmi Bank Ltd                                 66\n",
      "State Bank of Indore                                  32\n",
      "Catholic Syrian Bank                                  27\n",
      "India Bulls                                           21\n",
      "B N P Paribas                                         15\n",
      "Firstrand Bank Limited                                11\n",
      "GIC Housing Finance Ltd                               10\n",
      "Bank of Rajasthan                                      8\n",
      "Kerala Gramin Bank                                     4\n",
      "Industrial And Commercial Bank Of China Limited        3\n",
      "Ahmedabad Mercantile Cooperative Bank                  1\n",
      "Name: Salary_Account, dtype: int64\n",
      "\n",
      "Frequency count for variable Mobile_Verified\n",
      "Y    80928\n",
      "N    43809\n",
      "Name: Mobile_Verified, dtype: int64\n",
      "\n",
      "Frequency count for variable Var1\n",
      "HBXX    84901\n",
      "HBXC    12952\n",
      "HBXB     6502\n",
      "HAXA     4214\n",
      "HBXA     3042\n",
      "HAXB     2879\n",
      "HBXD     2818\n",
      "HAXC     2171\n",
      "HBXH     1387\n",
      "HCXF      990\n",
      "HAYT      710\n",
      "HAVC      570\n",
      "HAXM      386\n",
      "HCXD      348\n",
      "HCYS      318\n",
      "HVYS      252\n",
      "HAZD      161\n",
      "HCXG      114\n",
      "HAXF       22\n",
      "Name: Var1, dtype: int64\n",
      "\n",
      "Frequency count for variable Filled_Form\n",
      "N    96740\n",
      "Y    27997\n",
      "Name: Filled_Form, dtype: int64\n",
      "\n",
      "Frequency count for variable Device_Type\n",
      "Web-browser    92105\n",
      "Mobile         32632\n",
      "Name: Device_Type, dtype: int64\n",
      "\n",
      "Frequency count for variable Var2\n",
      "B    53481\n",
      "G    47338\n",
      "C    20366\n",
      "E     1855\n",
      "D      918\n",
      "F      770\n",
      "A        9\n",
      "Name: Var2, dtype: int64\n",
      "\n",
      "Frequency count for variable Source\n",
      "S122    55249\n",
      "S133    42900\n",
      "S159     7999\n",
      "S143     6140\n",
      "S127     2804\n",
      "S137     2450\n",
      "S134     1900\n",
      "S161     1109\n",
      "S151     1018\n",
      "S157      929\n",
      "S153      705\n",
      "S144      447\n",
      "S156      432\n",
      "S158      294\n",
      "S123      112\n",
      "S141       83\n",
      "S162       60\n",
      "S124       43\n",
      "S150       19\n",
      "S160       11\n",
      "S138        5\n",
      "S155        5\n",
      "S136        5\n",
      "S129        4\n",
      "S139        4\n",
      "S135        2\n",
      "S142        1\n",
      "S132        1\n",
      "S131        1\n",
      "S125        1\n",
      "S154        1\n",
      "S140        1\n",
      "S130        1\n",
      "S126        1\n",
      "Name: Source, dtype: int64\n"
     ]
    }
   ],
   "source": [
    "# Look at categories of all object variables\n",
    "var = ['Gender','Salary_Account','Mobile_Verified','Var1','Filled_Form','Device_Type','Var2','Source']\n",
    "for v in var:\n",
    "    print ('\\nFrequency count for variable %s' %v)\n",
    "    print (data[v].value_counts())"
   ]
  },
  {
   "cell_type": "markdown",
   "metadata": {},
   "source": [
    "### Handle Individual Variables"
   ]
  },
  {
   "cell_type": "code",
   "execution_count": 26,
   "metadata": {},
   "outputs": [],
   "source": [
    "# City Variable\n",
    "len(data['City'].unique())\n",
    "#drop city because too many unique\n",
    "data.drop('City',axis=1,inplace=True)"
   ]
  },
  {
   "cell_type": "code",
   "execution_count": 27,
   "metadata": {},
   "outputs": [],
   "source": [
    "# Determine Age from DOB\n",
    "data['DOB'].head()\n",
    "#Create age variable:\n",
    "data['Age'] = data['DOB'].apply(lambda x: 115 - int(x[-2:]))\n",
    "data['Age'].head()\n",
    "#drop DOB:\n",
    "data.drop('DOB',axis=1,inplace=True)"
   ]
  },
  {
   "cell_type": "code",
   "execution_count": 28,
   "metadata": {},
   "outputs": [
    {
     "data": {
      "text/plain": [
       "<matplotlib.axes._subplots.AxesSubplot at 0x22bdbc7e2c8>"
      ]
     },
     "execution_count": 28,
     "metadata": {},
     "output_type": "execute_result"
    },
    {
     "data": {
      "image/png": "[encoded data removed]",
      "text/plain": [
       "<Figure size 432x288 with 1 Axes>"
      ]
     },
     "metadata": {
      "needs_background": "light"
     },
     "output_type": "display_data"
    }
   ],
   "source": [
    "# EMI_Load_Submitted\n",
    "data.boxplot(column=['EMI_Loan_Submitted'],return_type='axes')"
   ]
  },
  {
   "cell_type": "code",
   "execution_count": 29,
   "metadata": {},
   "outputs": [
    {
     "data": {
      "text/html": [
       "<div>\n",
       "<style scoped>\n",
       "    .dataframe tbody tr th:only-of-type {\n",
       "        vertical-align: middle;\n",
       "    }\n",
       "\n",
       "    .dataframe tbody tr th {\n",
       "        vertical-align: top;\n",
       "    }\n",
       "\n",
       "    .dataframe thead th {\n",
       "        text-align: right;\n",
       "    }\n",
       "</style>\n",
       "<table border=\"1\" class=\"dataframe\">\n",
       "  <thead>\n",
       "    <tr style=\"text-align: right;\">\n",
       "      <th></th>\n",
       "      <th>EMI_Loan_Submitted</th>\n",
       "      <th>EMI_Loan_Submitted_Missing</th>\n",
       "    </tr>\n",
       "  </thead>\n",
       "  <tbody>\n",
       "    <tr>\n",
       "      <td>0</td>\n",
       "      <td>NaN</td>\n",
       "      <td>1</td>\n",
       "    </tr>\n",
       "    <tr>\n",
       "      <td>1</td>\n",
       "      <td>6762.90</td>\n",
       "      <td>0</td>\n",
       "    </tr>\n",
       "    <tr>\n",
       "      <td>2</td>\n",
       "      <td>NaN</td>\n",
       "      <td>1</td>\n",
       "    </tr>\n",
       "    <tr>\n",
       "      <td>3</td>\n",
       "      <td>NaN</td>\n",
       "      <td>1</td>\n",
       "    </tr>\n",
       "    <tr>\n",
       "      <td>4</td>\n",
       "      <td>NaN</td>\n",
       "      <td>1</td>\n",
       "    </tr>\n",
       "    <tr>\n",
       "      <td>5</td>\n",
       "      <td>6978.92</td>\n",
       "      <td>0</td>\n",
       "    </tr>\n",
       "    <tr>\n",
       "      <td>6</td>\n",
       "      <td>NaN</td>\n",
       "      <td>1</td>\n",
       "    </tr>\n",
       "    <tr>\n",
       "      <td>7</td>\n",
       "      <td>NaN</td>\n",
       "      <td>1</td>\n",
       "    </tr>\n",
       "    <tr>\n",
       "      <td>8</td>\n",
       "      <td>30824.65</td>\n",
       "      <td>0</td>\n",
       "    </tr>\n",
       "    <tr>\n",
       "      <td>9</td>\n",
       "      <td>10883.38</td>\n",
       "      <td>0</td>\n",
       "    </tr>\n",
       "  </tbody>\n",
       "</table>\n",
       "</div>"
      ],
      "text/plain": [
       "   EMI_Loan_Submitted  EMI_Loan_Submitted_Missing\n",
       "0                 NaN                           1\n",
       "1             6762.90                           0\n",
       "2                 NaN                           1\n",
       "3                 NaN                           1\n",
       "4                 NaN                           1\n",
       "5             6978.92                           0\n",
       "6                 NaN                           1\n",
       "7                 NaN                           1\n",
       "8            30824.65                           0\n",
       "9            10883.38                           0"
      ]
     },
     "execution_count": 29,
     "metadata": {},
     "output_type": "execute_result"
    }
   ],
   "source": [
    "#Majority values missing so Icreate a new variable stating whether this is missing or not:\n",
    "data['EMI_Loan_Submitted_Missing'] = data['EMI_Loan_Submitted'].apply(lambda x: 1 if pd.isnull(x) else 0)\n",
    "data[['EMI_Loan_Submitted','EMI_Loan_Submitted_Missing']].head(10)"
   ]
  },
  {
   "cell_type": "code",
   "execution_count": 30,
   "metadata": {},
   "outputs": [],
   "source": [
    "# drop original variable\n",
    "data.drop('EMI_Loan_Submitted',axis=1,inplace=True)"
   ]
  },
  {
   "cell_type": "code",
   "execution_count": 31,
   "metadata": {},
   "outputs": [],
   "source": [
    "# Employer Name\n",
    "len(data['Employer_Name'].value_counts())\n",
    "#Drop the variable because too many unique values. Another option could be to categorize them manually\n",
    "data.drop('Employer_Name',axis=1,inplace=True)"
   ]
  },
  {
   "cell_type": "code",
   "execution_count": 32,
   "metadata": {},
   "outputs": [
    {
     "data": {
      "text/plain": [
       "<matplotlib.axes._subplots.AxesSubplot at 0x22bde67d548>"
      ]
     },
     "execution_count": 32,
     "metadata": {},
     "output_type": "execute_result"
    },
    {
     "data": {
      "image/png": "[encoded data removed]",
      "text/plain": [
       "<Figure size 432x288 with 1 Axes>"
      ]
     },
     "metadata": {
      "needs_background": "light"
     },
     "output_type": "display_data"
    }
   ],
   "source": [
    "# Existing EMI\n",
    "data.boxplot(column='Existing_EMI',return_type='axes')"
   ]
  },
  {
   "cell_type": "code",
   "execution_count": 33,
   "metadata": {},
   "outputs": [
    {
     "data": {
      "text/plain": [
       "count    1.246260e+05\n",
       "mean     3.636342e+03\n",
       "std      3.369124e+04\n",
       "min      0.000000e+00\n",
       "25%      0.000000e+00\n",
       "50%      0.000000e+00\n",
       "75%      3.500000e+03\n",
       "max      1.000000e+07\n",
       "Name: Existing_EMI, dtype: float64"
      ]
     },
     "execution_count": 33,
     "metadata": {},
     "output_type": "execute_result"
    }
   ],
   "source": [
    "data['Existing_EMI'].describe()"
   ]
  },
  {
   "cell_type": "code",
   "execution_count": 34,
   "metadata": {},
   "outputs": [],
   "source": [
    "# Impute by median (0) because just 111 missing:\n",
    "data['Existing_EMI'].fillna(0, inplace=True)"
   ]
  },
  {
   "cell_type": "code",
   "execution_count": 36,
   "metadata": {},
   "outputs": [
    {
     "data": {
      "text/html": [
       "<div>\n",
       "<style scoped>\n",
       "    .dataframe tbody tr th:only-of-type {\n",
       "        vertical-align: middle;\n",
       "    }\n",
       "\n",
       "    .dataframe tbody tr th {\n",
       "        vertical-align: top;\n",
       "    }\n",
       "\n",
       "    .dataframe thead th {\n",
       "        text-align: right;\n",
       "    }\n",
       "</style>\n",
       "<table border=\"1\" class=\"dataframe\">\n",
       "  <thead>\n",
       "    <tr style=\"text-align: right;\">\n",
       "      <th></th>\n",
       "      <th>Interest_Rate</th>\n",
       "      <th>Interest_Rate_Missing</th>\n",
       "    </tr>\n",
       "  </thead>\n",
       "  <tbody>\n",
       "    <tr>\n",
       "      <td>0</td>\n",
       "      <td>NaN</td>\n",
       "      <td>1</td>\n",
       "    </tr>\n",
       "    <tr>\n",
       "      <td>1</td>\n",
       "      <td>13.25</td>\n",
       "      <td>0</td>\n",
       "    </tr>\n",
       "    <tr>\n",
       "      <td>2</td>\n",
       "      <td>NaN</td>\n",
       "      <td>1</td>\n",
       "    </tr>\n",
       "    <tr>\n",
       "      <td>3</td>\n",
       "      <td>NaN</td>\n",
       "      <td>1</td>\n",
       "    </tr>\n",
       "    <tr>\n",
       "      <td>4</td>\n",
       "      <td>NaN</td>\n",
       "      <td>1</td>\n",
       "    </tr>\n",
       "    <tr>\n",
       "      <td>5</td>\n",
       "      <td>13.99</td>\n",
       "      <td>0</td>\n",
       "    </tr>\n",
       "    <tr>\n",
       "      <td>6</td>\n",
       "      <td>NaN</td>\n",
       "      <td>1</td>\n",
       "    </tr>\n",
       "    <tr>\n",
       "      <td>7</td>\n",
       "      <td>NaN</td>\n",
       "      <td>1</td>\n",
       "    </tr>\n",
       "    <tr>\n",
       "      <td>8</td>\n",
       "      <td>14.85</td>\n",
       "      <td>0</td>\n",
       "    </tr>\n",
       "    <tr>\n",
       "      <td>9</td>\n",
       "      <td>18.25</td>\n",
       "      <td>0</td>\n",
       "    </tr>\n",
       "  </tbody>\n",
       "</table>\n",
       "</div>"
      ],
      "text/plain": [
       "   Interest_Rate  Interest_Rate_Missing\n",
       "0            NaN                      1\n",
       "1          13.25                      0\n",
       "2            NaN                      1\n",
       "3            NaN                      1\n",
       "4            NaN                      1\n",
       "5          13.99                      0\n",
       "6            NaN                      1\n",
       "7            NaN                      1\n",
       "8          14.85                      0\n",
       "9          18.25                      0"
      ]
     },
     "execution_count": 36,
     "metadata": {},
     "output_type": "execute_result"
    }
   ],
   "source": [
    "# Interest Rate\n",
    "#Majority values missing so create a new variable stating whether this is missing or not:\n",
    "data['Interest_Rate_Missing'] = data['Interest_Rate'].apply(lambda x: 1 if pd.isnull(x) else 0)\n",
    "data[['Interest_Rate','Interest_Rate_Missing']].head(10)"
   ]
  },
  {
   "cell_type": "code",
   "execution_count": 37,
   "metadata": {},
   "outputs": [],
   "source": [
    "data.drop('Interest_Rate',axis=1,inplace=True)"
   ]
  },
  {
   "cell_type": "code",
   "execution_count": 38,
   "metadata": {},
   "outputs": [],
   "source": [
    "# Lead Creation Date\n",
    "#Drop this variable because doesn't appear to affect much intuitively\n",
    "data.drop('Lead_Creation_Date',axis=1,inplace=True)"
   ]
  },
  {
   "cell_type": "code",
   "execution_count": 39,
   "metadata": {},
   "outputs": [],
   "source": [
    "# Loan Amount and Tenure applied\n",
    "#Impute with median because only 111 missing:\n",
    "data['Loan_Amount_Applied'].fillna(data['Loan_Amount_Applied'].median(),inplace=True)\n",
    "data['Loan_Tenure_Applied'].fillna(data['Loan_Tenure_Applied'].median(),inplace=True)"
   ]
  },
  {
   "cell_type": "code",
   "execution_count": 40,
   "metadata": {},
   "outputs": [],
   "source": [
    "# Loan Amount and Tenure selected\n",
    "\n",
    "#High proportion missing so create a new var whether present or not\n",
    "data['Loan_Amount_Submitted_Missing'] = data['Loan_Amount_Submitted'].apply(lambda x: 1 if pd.isnull(x) else 0)\n",
    "data['Loan_Tenure_Submitted_Missing'] = data['Loan_Tenure_Submitted'].apply(lambda x: 1 if pd.isnull(x) else 0)"
   ]
  },
  {
   "cell_type": "code",
   "execution_count": 41,
   "metadata": {},
   "outputs": [],
   "source": [
    "#Remove old vars\n",
    "data.drop(['Loan_Amount_Submitted','Loan_Tenure_Submitted'],axis=1,inplace=True)"
   ]
  },
  {
   "cell_type": "code",
   "execution_count": 42,
   "metadata": {},
   "outputs": [],
   "source": [
    "# Remove logged-in\n",
    "data.drop('LoggedIn',axis=1,inplace=True)"
   ]
  },
  {
   "cell_type": "code",
   "execution_count": 43,
   "metadata": {},
   "outputs": [],
   "source": [
    "# Remove salary account\n",
    "#Salary account has mnay banks which have to be manually grouped\n",
    "data.drop('Salary_Account',axis=1,inplace=True)"
   ]
  },
  {
   "cell_type": "code",
   "execution_count": 44,
   "metadata": {},
   "outputs": [],
   "source": [
    "# Processing_Fee\n",
    "\n",
    "#High proportion missing so create a new var whether present or not\n",
    "data['Processing_Fee_Missing'] = data['Processing_Fee'].apply(lambda x: 1 if pd.isnull(x) else 0)\n",
    "#drop old\n",
    "data.drop('Processing_Fee',axis=1,inplace=True)"
   ]
  },
  {
   "cell_type": "code",
   "execution_count": 45,
   "metadata": {},
   "outputs": [
    {
     "data": {
      "text/plain": [
       "S122      55249\n",
       "S133      42900\n",
       "others    26588\n",
       "Name: Source, dtype: int64"
      ]
     },
     "execution_count": 45,
     "metadata": {},
     "output_type": "execute_result"
    }
   ],
   "source": [
    "# Source\n",
    "data['Source'] = data['Source'].apply(lambda x: 'others' if x not in ['S122','S133'] else x)\n",
    "data['Source'].value_counts()"
   ]
  },
  {
   "cell_type": "markdown",
   "metadata": {},
   "source": [
    "### Final Data"
   ]
  },
  {
   "cell_type": "code",
   "execution_count": 46,
   "metadata": {},
   "outputs": [
    {
     "data": {
      "text/plain": [
       "Device_Type                          0\n",
       "Disbursed                        37717\n",
       "Existing_EMI                         0\n",
       "Filled_Form                          0\n",
       "Gender                               0\n",
       "ID                                   0\n",
       "Loan_Amount_Applied                  0\n",
       "Loan_Tenure_Applied                  0\n",
       "Mobile_Verified                      0\n",
       "Monthly_Income                       0\n",
       "Source                               0\n",
       "Var1                                 0\n",
       "Var2                                 0\n",
       "Var4                                 0\n",
       "Var5                                 0\n",
       "source                               0\n",
       "Age                                  0\n",
       "EMI_Loan_Submitted_Missing           0\n",
       "Interest_Rate_Missing                0\n",
       "Loan_Amount_Submitted_Missing        0\n",
       "Loan_Tenure_Submitted_Missing        0\n",
       "Processing_Fee_Missing               0\n",
       "dtype: int64"
      ]
     },
     "execution_count": 46,
     "metadata": {},
     "output_type": "execute_result"
    }
   ],
   "source": [
    "data.apply(lambda x: sum(x.isnull()))"
   ]
  },
  {
   "cell_type": "code",
   "execution_count": 47,
   "metadata": {},
   "outputs": [
    {
     "data": {
      "text/plain": [
       "Device_Type                       object\n",
       "Disbursed                        float64\n",
       "Existing_EMI                     float64\n",
       "Filled_Form                       object\n",
       "Gender                            object\n",
       "ID                                object\n",
       "Loan_Amount_Applied              float64\n",
       "Loan_Tenure_Applied              float64\n",
       "Mobile_Verified                   object\n",
       "Monthly_Income                     int64\n",
       "Source                            object\n",
       "Var1                              object\n",
       "Var2                              object\n",
       "Var4                               int64\n",
       "Var5                               int64\n",
       "source                            object\n",
       "Age                                int64\n",
       "EMI_Loan_Submitted_Missing         int64\n",
       "Interest_Rate_Missing              int64\n",
       "Loan_Amount_Submitted_Missing      int64\n",
       "Loan_Tenure_Submitted_Missing      int64\n",
       "Processing_Fee_Missing             int64\n",
       "dtype: object"
      ]
     },
     "execution_count": 47,
     "metadata": {},
     "output_type": "execute_result"
    }
   ],
   "source": [
    "data.dtypes"
   ]
  },
  {
   "cell_type": "markdown",
   "metadata": {},
   "source": [
    "#### Numerical Coding"
   ]
  },
  {
   "cell_type": "code",
   "execution_count": 48,
   "metadata": {},
   "outputs": [],
   "source": [
    "from sklearn.preprocessing import LabelEncoder\n",
    "le = LabelEncoder()\n",
    "var_to_encode = ['Device_Type','Filled_Form','Gender','Var1','Var2','Mobile_Verified','Source']\n",
    "for col in var_to_encode:\n",
    "    data[col] = le.fit_transform(data[col])"
   ]
  },
  {
   "cell_type": "markdown",
   "metadata": {},
   "source": [
    "#### One-Hot Coding"
   ]
  },
  {
   "cell_type": "code",
   "execution_count": 49,
   "metadata": {},
   "outputs": [
    {
     "data": {
      "text/plain": [
       "Index(['Disbursed', 'Existing_EMI', 'ID', 'Loan_Amount_Applied',\n",
       "       'Loan_Tenure_Applied', 'Monthly_Income', 'Var4', 'Var5', 'source',\n",
       "       'Age', 'EMI_Loan_Submitted_Missing', 'Interest_Rate_Missing',\n",
       "       'Loan_Amount_Submitted_Missing', 'Loan_Tenure_Submitted_Missing',\n",
       "       'Processing_Fee_Missing', 'Device_Type_0', 'Device_Type_1',\n",
       "       'Filled_Form_0', 'Filled_Form_1', 'Gender_0', 'Gender_1', 'Var1_0',\n",
       "       'Var1_1', 'Var1_2', 'Var1_3', 'Var1_4', 'Var1_5', 'Var1_6', 'Var1_7',\n",
       "       'Var1_8', 'Var1_9', 'Var1_10', 'Var1_11', 'Var1_12', 'Var1_13',\n",
       "       'Var1_14', 'Var1_15', 'Var1_16', 'Var1_17', 'Var1_18', 'Var2_0',\n",
       "       'Var2_1', 'Var2_2', 'Var2_3', 'Var2_4', 'Var2_5', 'Var2_6',\n",
       "       'Mobile_Verified_0', 'Mobile_Verified_1', 'Source_0', 'Source_1',\n",
       "       'Source_2'],\n",
       "      dtype='object')"
      ]
     },
     "execution_count": 49,
     "metadata": {},
     "output_type": "execute_result"
    }
   ],
   "source": [
    "data = pd.get_dummies(data, columns=var_to_encode)\n",
    "data.columns"
   ]
  },
  {
   "cell_type": "markdown",
   "metadata": {},
   "source": [
    "#### Separate train & test"
   ]
  },
  {
   "cell_type": "code",
   "execution_count": 51,
   "metadata": {},
   "outputs": [],
   "source": [
    "train = data.loc[data['source']=='train']\n",
    "test = data.loc[data['source']=='test']"
   ]
  },
  {
   "cell_type": "code",
   "execution_count": 52,
   "metadata": {},
   "outputs": [
    {
     "name": "stderr",
     "output_type": "stream",
     "text": [
      "C:\\Users\\Kerry\\Anaconda3\\lib\\site-packages\\pandas\\core\\frame.py:4102: SettingWithCopyWarning: \n",
      "A value is trying to be set on a copy of a slice from a DataFrame\n",
      "\n",
      "See the caveats in the documentation: http://pandas.pydata.org/pandas-docs/stable/user_guide/indexing.html#returning-a-view-versus-a-copy\n",
      "  errors=errors,\n"
     ]
    }
   ],
   "source": [
    "train.drop('source',axis=1,inplace=True)\n",
    "test.drop(['source','Disbursed'],axis=1,inplace=True)"
   ]
  },
  {
   "cell_type": "code",
   "execution_count": 53,
   "metadata": {},
   "outputs": [],
   "source": [
    "train.to_csv('train_modified.csv',index=False)\n",
    "test.to_csv('test_modified.csv',index=False)"
   ]
  },
  {
   "cell_type": "markdown",
   "metadata": {},
   "source": [
    "1. City variable dropped because of too many categories\n",
    "2. DOB converted to Age | DOB dropped\n",
    "3. EMI_Loan_Submitted_Missing created which is 1 if EMI_Loan_Submitted was missing else 0 | Original variable EMI_Loan_Submitted dropped\n",
    "4. EmployerName dropped because of too many categories\n",
    "5. Existing_EMI imputed with 0 (median) since only 111 values were missing\n",
    "6. Interest_Rate_Missing created which is 1 if Interest_Rate was missing else 0 | Original variable Interest_Rate dropped\n",
    "7. Lead_Creation_Date dropped because made little intuitive impact on outcome\n",
    "8. Loan_Amount_Applied, Loan_Tenure_Applied imputed with median values\n",
    "9. Loan_Amount_Submitted_Missing created which is 1 if Loan_Amount_Submitted was missing else 0 | Original variable Loan_Amount_Submitted dropped\n",
    "10. Loan_Tenure_Submitted_Missing created which is 1 if Loan_Tenure_Submitted was missing else 0 | Original variable Loan_Tenure_Submitted dropped\n",
    "11. LoggedIn, Salary_Account dropped\n",
    "12. Processing_Fee_Missing created which is 1 if Processing_Fee was missing else 0 | Original variable Processing_Fee dropped\n",
    "13. Source – top 2 kept as is and all others combined into different category\n",
    "14. Numerical and One-Hot-Coding performed"
   ]
  },
  {
   "cell_type": "markdown",
   "metadata": {},
   "source": [
    "### Parameter Tuning"
   ]
  },
  {
   "cell_type": "code",
   "execution_count": 2,
   "metadata": {},
   "outputs": [],
   "source": [
    "#Import libraries:\n",
    "import pandas as pd\n",
    "import numpy as np\n",
    "from sklearn.ensemble import GradientBoostingClassifier  #GBM algorithm\n",
    "from sklearn.model_selection import cross_validate, GridSearchCV   #Additional sklearn function & performing grid search\n",
    "from sklearn import metrics \n",
    "\n",
    "import matplotlib.pylab as plt\n",
    "%matplotlib inline\n",
    "from matplotlib.pylab import rcParams\n",
    "rcParams['figure.figsize'] = 12, 4\n",
    "\n",
    "train = pd.read_csv('train_modified.csv')\n",
    "target = 'Disbursed'\n",
    "IDcol = 'ID'"
   ]
  },
  {
   "cell_type": "markdown",
   "metadata": {},
   "source": [
    "Before proceeding further, define a function which will help us create GBM models and perform cross-validation."
   ]
  },
  {
   "cell_type": "code",
   "execution_count": 3,
   "metadata": {},
   "outputs": [],
   "source": [
    "from sklearn.model_selection import cross_val_score\n",
    "\n",
    "def modelfit(alg, dtrain, predictors, performCV=True, printFeatureImportance=True, cv_folds=5):\n",
    "    #Fit the algorithm on the data\n",
    "    alg.fit(dtrain[predictors], dtrain['Disbursed'])\n",
    "        \n",
    "    #Predict training set:\n",
    "    dtrain_predictions = alg.predict(dtrain[predictors])\n",
    "    dtrain_predprob = alg.predict_proba(dtrain[predictors])[:,1]\n",
    "    \n",
    "    #Perform cross-validation:\n",
    "    if performCV:\n",
    "        cv_score =cross_val_score(alg, dtrain[predictors], dtrain['Disbursed'], cv=cv_folds, scoring='roc_auc')\n",
    "    \n",
    "    #Print model report:\n",
    "    print (\"\\nModel Report\")\n",
    "    print (\"Accuracy : %.4g\" % metrics.accuracy_score(dtrain['Disbursed'].values, dtrain_predictions))\n",
    "    print (\"AUC Score (Train): %f\" % metrics.roc_auc_score(dtrain['Disbursed'], dtrain_predprob))\n",
    "    \n",
    "    if performCV:\n",
    "        print (\"CV Score : Mean - %.7g | Std - %.7g | Min - %.7g | Max - %.7g\" % (np.mean(cv_score),np.std(cv_score),np.min(cv_score),np.max(cv_score)))\n",
    "        \n",
    "    #Print Feature Importance:\n",
    "    if printFeatureImportance:\n",
    "        feat_imp = pd.Series(alg.feature_importances_, predictors).sort_values(ascending=False)\n",
    "        feat_imp.plot(kind='bar', title='Feature Importances')\n",
    "        plt.ylabel('Feature Importance Score')"
   ]
  },
  {
   "cell_type": "markdown",
   "metadata": {},
   "source": [
    "Start by creating a <b>baseline model</b>. In this case, the evaluation metric is AUC so using any constant value will give 0.5 as result. Typically, a good baseline can be a GBM model with default parameters, i.e. without any tuning"
   ]
  },
  {
   "cell_type": "code",
   "execution_count": 4,
   "metadata": {},
   "outputs": [
    {
     "name": "stdout",
     "output_type": "stream",
     "text": [
      "\n",
      "Model Report\n",
      "Accuracy : 0.9856\n",
      "AUC Score (Train): 0.862264\n",
      "CV Score : Mean - 0.831884 | Std - 0.009558427 | Min - 0.8195451 | Max - 0.8438424\n"
     ]
    },
    {
     "data": {
      "image/png": "[encoded data removed]",
      "text/plain": [
       "<Figure size 432x288 with 1 Axes>"
      ]
     },
     "metadata": {
      "needs_background": "light"
     },
     "output_type": "display_data"
    }
   ],
   "source": [
    "#Choose all predictors except target & IDcols\n",
    "predictors = [x for x in train.columns if x not in [target, IDcol]]\n",
    "gbm0 = GradientBoostingClassifier(random_state=10)\n",
    "modelfit(gbm0, train, predictors)"
   ]
  },
  {
   "cell_type": "markdown",
   "metadata": {},
   "source": [
    "So, the mean CV score is 0.8319 and we should expect our model to do better than this."
   ]
  },
  {
   "cell_type": "markdown",
   "metadata": {},
   "source": [
    "### General Approach for Parameter Tuning"
   ]
  },
  {
   "cell_type": "markdown",
   "metadata": {},
   "source": [
    "There are two types of parameter to be tuned here – tree based and boosting parameters. There are no optimum values for learning rate as low values always work better, given that we train on sufficient number of trees.\n",
    "<br /><br />\n",
    "Though, GBM is robust enough to not overfit with increasing trees, but a high number for pa particular learning rate can lead to overfitting. But as we reduce the learning rate and increase trees, the computation becomes expensive and would take a long time to run on standard personal computers.\n",
    "<br /><br />\n",
    "Keeping all this in mind, we can take the following approach:\n",
    "<br /><br />\n",
    "1. Choose a relatively <b>high learning rate</b>. Generally the default value of 0.1 works but somewhere between 0.05 to 0.2 should work for different problems\n",
    "2. Determine the <b>optimum number of trees for this learning rate</b>. This should range around 40-70. Remember to choose a value on which your system can work fairly fast. This is because it will be used for testing various scenarios and determining the tree parameters.\n",
    "3. <b>Tune tree-specific parameters</b> for decided learning rate and number of trees. Note that we can choose different parameters to define a tree and I’ll take up an example here.\n",
    "4. <b>Lower the learning rate</b> and increase the estimators proportionally to get more robust models."
   ]
  },
  {
   "cell_type": "markdown",
   "metadata": {},
   "source": [
    "### Fix learning rate and number of estimators for tuning tree-based parameters"
   ]
  },
  {
   "cell_type": "markdown",
   "metadata": {},
   "source": [
    "In order to decide on boosting parameters, we need to set some initial values of other parameters. Lets take the following values:\n",
    "<br /><br />\n",
    "1. min_samples_split = 500 : This should be ~0.5-1% of total values. Since this is imbalanced class problem, we’ll take a small value from the range.\n",
    "2. min_samples_leaf = 50 : Can be selected based on intuition. This is just used for preventing overfitting and again a small value because of imbalanced classes.\n",
    "3. max_depth = 8 : Should be chosen (5-8) based on the number of observations and predictors. This has 87K rows and 49 columns so lets take 8 here.\n",
    "4. max_features = ‘sqrt’ : Its a general thumb-rule to start with square root.\n",
    "5. subsample = 0.8 : This is a commonly used used start value\n",
    "<br /><br />\n",
    "\n",
    "Note that all the above are just initial estimates and will be tuned later. Lets take the default learning rate of 0.1 here and check the optimum number of trees for that. For this purpose, we can do a grid search and test out values from 20 to 80 in steps of 10."
   ]
  },
  {
   "cell_type": "code",
   "execution_count": 62,
   "metadata": {},
   "outputs": [
    {
     "name": "stderr",
     "output_type": "stream",
     "text": [
      "C:\\Users\\Kerry\\Anaconda3\\lib\\site-packages\\sklearn\\model_selection\\_search.py:823: FutureWarning: The parameter 'iid' is deprecated in 0.22 and will be removed in 0.24.\n",
      "  \"removed in 0.24.\", FutureWarning\n"
     ]
    },
    {
     "data": {
      "text/plain": [
       "GridSearchCV(cv=5, error_score=nan,\n",
       "             estimator=GradientBoostingClassifier(ccp_alpha=0.0,\n",
       "                                                  criterion='friedman_mse',\n",
       "                                                  init=None, learning_rate=0.1,\n",
       "                                                  loss='deviance', max_depth=8,\n",
       "                                                  max_features='sqrt',\n",
       "                                                  max_leaf_nodes=None,\n",
       "                                                  min_impurity_decrease=0.0,\n",
       "                                                  min_impurity_split=None,\n",
       "                                                  min_samples_leaf=50,\n",
       "                                                  min_samples_split=500,\n",
       "                                                  min_weight_fraction_leaf=0.0,\n",
       "                                                  n_estimators=100,\n",
       "                                                  n_iter_no_change=None,\n",
       "                                                  presort='deprecated',\n",
       "                                                  random_state=10,\n",
       "                                                  subsample=0.8, tol=0.0001,\n",
       "                                                  validation_fraction=0.1,\n",
       "                                                  verbose=0, warm_start=False),\n",
       "             iid=False, n_jobs=4,\n",
       "             param_grid={'n_estimators': range(20, 81, 10)},\n",
       "             pre_dispatch='2*n_jobs', refit=True, return_train_score=False,\n",
       "             scoring='roc_auc', verbose=0)"
      ]
     },
     "execution_count": 62,
     "metadata": {},
     "output_type": "execute_result"
    }
   ],
   "source": [
    "#Choose all predictors except target & IDcols\n",
    "predictors = [x for x in train.columns if x not in [target, IDcol]]\n",
    "param_test1 = {'n_estimators':range(20,81,10)}\n",
    "gsearch1 = GridSearchCV(estimator = GradientBoostingClassifier(learning_rate=0.1, min_samples_split=500,min_samples_leaf=50,max_depth=8,max_features='sqrt',subsample=0.8,random_state=10), \n",
    "param_grid = param_test1, scoring='roc_auc',n_jobs=4,iid=False, cv=5)\n",
    "gsearch1.fit(train[predictors],train[target])"
   ]
  },
  {
   "cell_type": "markdown",
   "metadata": {},
   "source": [
    "The output can be checked using following command"
   ]
  },
  {
   "cell_type": "code",
   "execution_count": 64,
   "metadata": {},
   "outputs": [
    {
     "data": {
      "text/plain": [
       "({'mean_fit_time': array([ 4.4454422 ,  5.22652049,  7.06172681,  8.72319546, 10.90400162,\n",
       "         12.25440745, 11.78960671]),\n",
       "  'std_fit_time': array([0.52773061, 0.39988444, 0.09895584, 0.21542289, 0.54919863,\n",
       "         0.25755247, 1.69314316]),\n",
       "  'mean_score_time': array([0.07040024, 0.07760034, 0.0824007 , 0.10640182, 0.12080407,\n",
       "         0.12960129, 0.1071991 ]),\n",
       "  'std_score_time': array([0.00966508, 0.01175767, 0.00320747, 0.00823801, 0.01567504,\n",
       "         0.02434653, 0.02122479]),\n",
       "  'param_n_estimators': masked_array(data=[20, 30, 40, 50, 60, 70, 80],\n",
       "               mask=[False, False, False, False, False, False, False],\n",
       "         fill_value='?',\n",
       "              dtype=object),\n",
       "  'params': [{'n_estimators': 20},\n",
       "   {'n_estimators': 30},\n",
       "   {'n_estimators': 40},\n",
       "   {'n_estimators': 50},\n",
       "   {'n_estimators': 60},\n",
       "   {'n_estimators': 70},\n",
       "   {'n_estimators': 80}],\n",
       "  'split0_test_score': array([0.81480717, 0.81575033, 0.81904375, 0.81995696, 0.82005096,\n",
       "         0.82014704, 0.82051296]),\n",
       "  'split1_test_score': array([0.82557666, 0.83199743, 0.83483127, 0.83665641, 0.83782225,\n",
       "         0.83635144, 0.83551307]),\n",
       "  'split2_test_score': array([0.83888251, 0.84378681, 0.84478773, 0.8471089 , 0.84801766,\n",
       "         0.84872347, 0.84750852]),\n",
       "  'split3_test_score': array([0.84449365, 0.84647398, 0.84627401, 0.84634901, 0.84576509,\n",
       "         0.84479859, 0.84369911]),\n",
       "  'split4_test_score': array([0.83379434, 0.83605469, 0.83570516, 0.83692115, 0.83580784,\n",
       "         0.83452874, 0.83425513]),\n",
       "  'mean_test_score': array([0.83151087, 0.83481265, 0.83612838, 0.83739849, 0.83749276,\n",
       "         0.83690985, 0.83629776]),\n",
       "  'std_test_score': array([0.01041476, 0.01085691, 0.00971251, 0.00979173, 0.00986275,\n",
       "         0.00988704, 0.00932104]),\n",
       "  'rank_test_score': array([7, 6, 5, 2, 1, 3, 4])},\n",
       " {'n_estimators': 60},\n",
       " 0.8374927603585836)"
      ]
     },
     "execution_count": 64,
     "metadata": {},
     "output_type": "execute_result"
    }
   ],
   "source": [
    "gsearch1.cv_results_, gsearch1.best_params_, gsearch1.best_score_"
   ]
  },
  {
   "cell_type": "markdown",
   "metadata": {},
   "source": [
    "Here we got 60 as the optimal estimators for 0.1 learning rate. Note that 60 is a reasonable value and can be used as it is. \n",
    "<br /><br />\n",
    "But it might not be the same in all cases. Other situations:\n",
    "1. If the value is around 20, you might want to try lowering the learning rate to 0.05 and re-run grid search\n",
    "2. If the values are too high ~100, tuning the other parameters will take long time and you can try a higher learning rate"
   ]
  },
  {
   "cell_type": "markdown",
   "metadata": {},
   "source": [
    "### Tuning tree-specific parameters"
   ]
  },
  {
   "cell_type": "markdown",
   "metadata": {},
   "source": [
    "Steps\n",
    "1. Tune max_depth and num_samples_split\n",
    "2. Tune min_samples_leaf\n",
    "3. Tune max_features"
   ]
  },
  {
   "cell_type": "markdown",
   "metadata": {},
   "source": [
    "The order of tuning variables should be decided carefully. You should take the variables with a higher impact on outcome first. For instance, max_depth and min_samples_split have a significant impact and we’re tuning those first.\n",
    "<br /><br />\n",
    "<b>Important Note:</b> I’ll be doing some heavy-duty grid searched in this section. The time of running depending on your system. You can vary the number of values you are testing based on what your system can handle.\n",
    "<br /><br />\n",
    "To start with, we test max_depth values of 5 to 10 in steps of 2 and min_samples_split from 200 to 1000 in steps of 50. These are just based on my intuition. You can set wider ranges as well and then perform multiple iterations for smaller ranges."
   ]
  },
  {
   "cell_type": "code",
   "execution_count": 65,
   "metadata": {},
   "outputs": [
    {
     "name": "stderr",
     "output_type": "stream",
     "text": [
      "C:\\Users\\Kerry\\Anaconda3\\lib\\site-packages\\sklearn\\model_selection\\_search.py:823: FutureWarning: The parameter 'iid' is deprecated in 0.22 and will be removed in 0.24.\n",
      "  \"removed in 0.24.\", FutureWarning\n"
     ]
    },
    {
     "data": {
      "text/plain": [
       "({'mean_fit_time': array([ 8.53294492,  7.65840583,  7.57015977,  7.20685377,  7.90604324,\n",
       "          7.58772621,  7.57760239,  7.21235156,  7.37120466,  9.58251467,\n",
       "          9.52411313,  7.31680269,  7.02759218,  7.0043344 ,  6.97426338,\n",
       "          7.00372801,  7.01155558,  9.48311467,  9.43626332,  9.37801061,\n",
       "          9.39690328,  9.30579123,  9.2509594 ,  9.72720609,  9.15541182,\n",
       "          9.18875451,  9.21690326,  9.2703198 ,  9.1440033 ,  9.22601366,\n",
       "          9.284232  ,  9.10574126,  9.20616679,  9.69200888, 12.52148786,\n",
       "         11.68822789, 11.87360625, 11.85411191, 11.59035096, 11.53830328,\n",
       "         11.51440415, 11.37048578, 11.40030274, 11.41327629, 11.31921964,\n",
       "         11.32396088, 11.2957191 , 11.27355328, 11.24160728, 11.20400581,\n",
       "          9.93888602]),\n",
       "  'std_fit_time': array([0.50107396, 0.2755587 , 0.27417467, 0.07520316, 0.31346928,\n",
       "         0.42184348, 0.24681578, 0.10869603, 0.33660634, 1.62662827,\n",
       "         1.60949121, 0.45674368, 0.10588012, 0.10732588, 0.07369462,\n",
       "         0.07638783, 0.05521077, 0.08707498, 0.08671887, 0.08151553,\n",
       "         0.20914776, 0.16391804, 0.12818757, 0.19165746, 0.09729041,\n",
       "         0.0976163 , 0.09738498, 0.09549494, 0.06528796, 0.14769214,\n",
       "         0.09262009, 0.20643145, 0.11863646, 0.6717122 , 0.65511753,\n",
       "         0.26733722, 0.17252205, 0.16202783, 0.09610263, 0.11560529,\n",
       "         0.1481732 , 0.06417426, 0.08602972, 0.15940997, 0.17880232,\n",
       "         0.13541924, 0.14320532, 0.03615203, 0.15663724, 0.07119624,\n",
       "         1.23487575]),\n",
       "  'mean_score_time': array([0.09600039, 0.09440222, 0.09519968, 0.09280052, 0.09440136,\n",
       "         0.0936017 , 0.096803  , 0.09360223, 0.11440077, 0.17280531,\n",
       "         0.11359921, 0.11360207, 0.10051527, 0.10761604, 0.09850912,\n",
       "         0.09279933, 0.10005875, 0.12160044, 0.10840168, 0.10921683,\n",
       "         0.10599999, 0.10440192, 0.10640292, 0.11360121, 0.11480026,\n",
       "         0.09999933, 0.11611037, 0.11439996, 0.10480175, 0.11600161,\n",
       "         0.11359982, 0.1104012 , 0.11120176, 0.09920025, 0.12880287,\n",
       "         0.11920242, 0.12239914, 0.13040061, 0.11640434, 0.122402  ,\n",
       "         0.13161254, 0.1240006 , 0.11760583, 0.11561661, 0.11600347,\n",
       "         0.12008619, 0.11359997, 0.12479434, 0.12640085, 0.12000995,\n",
       "         0.08843975]),\n",
       "  'std_score_time': array([0.00619796, 0.00649747, 0.0029941 , 0.00640256, 0.00407877,\n",
       "         0.00407849, 0.01024731, 0.00598387, 0.02902174, 0.04965272,\n",
       "         0.01591793, 0.02001622, 0.00977149, 0.01200855, 0.01027229,\n",
       "         0.00466367, 0.00922013, 0.0089797 , 0.01410831, 0.01334789,\n",
       "         0.00505866, 0.00932859, 0.00823589, 0.0103066 , 0.01249397,\n",
       "         0.00829529, 0.01619524, 0.02049088, 0.00815872, 0.00565661,\n",
       "         0.0038785 , 0.0150939 , 0.0111391 , 0.00733258, 0.01114032,\n",
       "         0.01275072, 0.00861301, 0.01202633, 0.00720043, 0.01304712,\n",
       "         0.01815096, 0.01131312, 0.01031432, 0.00514609, 0.00357319,\n",
       "         0.00922288, 0.00823573, 0.01197443, 0.01030827, 0.01074094,\n",
       "         0.02510338]),\n",
       "  'param_max_depth': masked_array(data=[5, 5, 5, 5, 5, 5, 5, 5, 5, 5, 5, 5, 5, 5, 5, 5, 5, 7,\n",
       "                     7, 7, 7, 7, 7, 7, 7, 7, 7, 7, 7, 7, 7, 7, 7, 7, 9, 9,\n",
       "                     9, 9, 9, 9, 9, 9, 9, 9, 9, 9, 9, 9, 9, 9, 9],\n",
       "               mask=[False, False, False, False, False, False, False, False,\n",
       "                     False, False, False, False, False, False, False, False,\n",
       "                     False, False, False, False, False, False, False, False,\n",
       "                     False, False, False, False, False, False, False, False,\n",
       "                     False, False, False, False, False, False, False, False,\n",
       "                     False, False, False, False, False, False, False, False,\n",
       "                     False, False, False],\n",
       "         fill_value='?',\n",
       "              dtype=object),\n",
       "  'param_min_samples_split': masked_array(data=[200, 250, 300, 350, 400, 450, 500, 550, 600, 650, 700,\n",
       "                     750, 800, 850, 900, 950, 1000, 200, 250, 300, 350, 400,\n",
       "                     450, 500, 550, 600, 650, 700, 750, 800, 850, 900, 950,\n",
       "                     1000, 200, 250, 300, 350, 400, 450, 500, 550, 600, 650,\n",
       "                     700, 750, 800, 850, 900, 950, 1000],\n",
       "               mask=[False, False, False, False, False, False, False, False,\n",
       "                     False, False, False, False, False, False, False, False,\n",
       "                     False, False, False, False, False, False, False, False,\n",
       "                     False, False, False, False, False, False, False, False,\n",
       "                     False, False, False, False, False, False, False, False,\n",
       "                     False, False, False, False, False, False, False, False,\n",
       "                     False, False, False],\n",
       "         fill_value='?',\n",
       "              dtype=object),\n",
       "  'params': [{'max_depth': 5, 'min_samples_split': 200},\n",
       "   {'max_depth': 5, 'min_samples_split': 250},\n",
       "   {'max_depth': 5, 'min_samples_split': 300},\n",
       "   {'max_depth': 5, 'min_samples_split': 350},\n",
       "   {'max_depth': 5, 'min_samples_split': 400},\n",
       "   {'max_depth': 5, 'min_samples_split': 450},\n",
       "   {'max_depth': 5, 'min_samples_split': 500},\n",
       "   {'max_depth': 5, 'min_samples_split': 550},\n",
       "   {'max_depth': 5, 'min_samples_split': 600},\n",
       "   {'max_depth': 5, 'min_samples_split': 650},\n",
       "   {'max_depth': 5, 'min_samples_split': 700},\n",
       "   {'max_depth': 5, 'min_samples_split': 750},\n",
       "   {'max_depth': 5, 'min_samples_split': 800},\n",
       "   {'max_depth': 5, 'min_samples_split': 850},\n",
       "   {'max_depth': 5, 'min_samples_split': 900},\n",
       "   {'max_depth': 5, 'min_samples_split': 950},\n",
       "   {'max_depth': 5, 'min_samples_split': 1000},\n",
       "   {'max_depth': 7, 'min_samples_split': 200},\n",
       "   {'max_depth': 7, 'min_samples_split': 250},\n",
       "   {'max_depth': 7, 'min_samples_split': 300},\n",
       "   {'max_depth': 7, 'min_samples_split': 350},\n",
       "   {'max_depth': 7, 'min_samples_split': 400},\n",
       "   {'max_depth': 7, 'min_samples_split': 450},\n",
       "   {'max_depth': 7, 'min_samples_split': 500},\n",
       "   {'max_depth': 7, 'min_samples_split': 550},\n",
       "   {'max_depth': 7, 'min_samples_split': 600},\n",
       "   {'max_depth': 7, 'min_samples_split': 650},\n",
       "   {'max_depth': 7, 'min_samples_split': 700},\n",
       "   {'max_depth': 7, 'min_samples_split': 750},\n",
       "   {'max_depth': 7, 'min_samples_split': 800},\n",
       "   {'max_depth': 7, 'min_samples_split': 850},\n",
       "   {'max_depth': 7, 'min_samples_split': 900},\n",
       "   {'max_depth': 7, 'min_samples_split': 950},\n",
       "   {'max_depth': 7, 'min_samples_split': 1000},\n",
       "   {'max_depth': 9, 'min_samples_split': 200},\n",
       "   {'max_depth': 9, 'min_samples_split': 250},\n",
       "   {'max_depth': 9, 'min_samples_split': 300},\n",
       "   {'max_depth': 9, 'min_samples_split': 350},\n",
       "   {'max_depth': 9, 'min_samples_split': 400},\n",
       "   {'max_depth': 9, 'min_samples_split': 450},\n",
       "   {'max_depth': 9, 'min_samples_split': 500},\n",
       "   {'max_depth': 9, 'min_samples_split': 550},\n",
       "   {'max_depth': 9, 'min_samples_split': 600},\n",
       "   {'max_depth': 9, 'min_samples_split': 650},\n",
       "   {'max_depth': 9, 'min_samples_split': 700},\n",
       "   {'max_depth': 9, 'min_samples_split': 750},\n",
       "   {'max_depth': 9, 'min_samples_split': 800},\n",
       "   {'max_depth': 9, 'min_samples_split': 850},\n",
       "   {'max_depth': 9, 'min_samples_split': 900},\n",
       "   {'max_depth': 9, 'min_samples_split': 950},\n",
       "   {'max_depth': 9, 'min_samples_split': 1000}],\n",
       "  'split0_test_score': array([0.81910264, 0.81719302, 0.81971351, 0.81992206, 0.81861011,\n",
       "         0.81842072, 0.82234338, 0.81944974, 0.82070591, 0.82365051,\n",
       "         0.8219475 , 0.81940623, 0.81923716, 0.81802587, 0.81823374,\n",
       "         0.81986479, 0.81927756, 0.82295517, 0.82568926, 0.82635477,\n",
       "         0.82692879, 0.82036271, 0.82423533, 0.82183375, 0.82007312,\n",
       "         0.82323122, 0.81980923, 0.82672964, 0.8237832 , 0.82346985,\n",
       "         0.82525263, 0.82069156, 0.8178677 , 0.8235285 , 0.82127167,\n",
       "         0.8264793 , 0.82247262, 0.81800682, 0.82387273, 0.82688001,\n",
       "         0.82355697, 0.82408703, 0.8261135 , 0.8251887 , 0.82504212,\n",
       "         0.82661234, 0.82582505, 0.82413524, 0.82172161, 0.8251809 ,\n",
       "         0.82022095]),\n",
       "  'split1_test_score': array([0.82240938, 0.82237518, 0.82546865, 0.82480349, 0.82025482,\n",
       "         0.82824109, 0.82311379, 0.82479879, 0.82656034, 0.82579888,\n",
       "         0.82250649, 0.82909506, 0.82156057, 0.82283155, 0.82186463,\n",
       "         0.82261863, 0.8197841 , 0.82853171, 0.82894906, 0.83326313,\n",
       "         0.83513062, 0.83051732, 0.82863571, 0.83437387, 0.83396524,\n",
       "         0.83036007, 0.82853481, 0.83474851, 0.83112922, 0.82929937,\n",
       "         0.83340213, 0.82638197, 0.82748881, 0.82666215, 0.83150284,\n",
       "         0.82599206, 0.83437467, 0.83599011, 0.82725121, 0.83087934,\n",
       "         0.83060869, 0.83110443, 0.83467586, 0.82977055, 0.83357327,\n",
       "         0.83345952, 0.83226981, 0.82536087, 0.83147425, 0.83208719,\n",
       "         0.83002376]),\n",
       "  'split2_test_score': array([0.84170814, 0.84255344, 0.84354681, 0.84467956, 0.84422061,\n",
       "         0.84571935, 0.84387748, 0.84412468, 0.84921627, 0.84251365,\n",
       "         0.84235964, 0.84287028, 0.84150028, 0.8431512 , 0.84211987,\n",
       "         0.84279012, 0.83898461, 0.84129595, 0.84568597, 0.83808271,\n",
       "         0.85269123, 0.8490004 , 0.84601034, 0.84568459, 0.84843271,\n",
       "         0.84838663, 0.84881814, 0.84322061, 0.84899434, 0.84702555,\n",
       "         0.84735427, 0.84796804, 0.84204738, 0.84439429, 0.84751983,\n",
       "         0.84553275, 0.84348679, 0.84600085, 0.8386568 , 0.84654019,\n",
       "         0.84794574, 0.84780431, 0.8464454 , 0.84685942, 0.84227949,\n",
       "         0.83940457, 0.84462948, 0.84482763, 0.84600051, 0.84574599,\n",
       "         0.84816047]),\n",
       "  'split3_test_score': array([0.84745992, 0.84552361, 0.84602738, 0.8498433 , 0.85121559,\n",
       "         0.84587405, 0.84446255, 0.85087737, 0.84917865, 0.84989624,\n",
       "         0.85056832, 0.84995649, 0.8501455 , 0.84019522, 0.84294345,\n",
       "         0.82891897, 0.84354098, 0.8461703 , 0.84591316, 0.84605036,\n",
       "         0.8435706 , 0.84471352, 0.83912273, 0.8460634 , 0.84809598,\n",
       "         0.84769706, 0.85138195, 0.84664332, 0.84432717, 0.84831746,\n",
       "         0.8490387 , 0.84009163, 0.84817865, 0.84905002, 0.84055207,\n",
       "         0.84443522, 0.84519683, 0.83960981, 0.83972518, 0.83721431,\n",
       "         0.84136513, 0.84164972, 0.84364457, 0.84073627, 0.84192527,\n",
       "         0.84658867, 0.84739589, 0.84280636, 0.84334889, 0.8433529 ,\n",
       "         0.84038571]),\n",
       "  'split4_test_score': array([0.83399409, 0.8336895 , 0.83066342, 0.8333219 , 0.83172265,\n",
       "         0.83331115, 0.8322661 , 0.83210751, 0.83424918, 0.83241165,\n",
       "         0.83048586, 0.8326616 , 0.83391417, 0.83270722, 0.83079731,\n",
       "         0.83028405, 0.82886111, 0.83177422, 0.83036294, 0.82794   ,\n",
       "         0.83364353, 0.82998711, 0.83136226, 0.83330818, 0.83094401,\n",
       "         0.83224518, 0.83388513, 0.83202645, 0.82994184, 0.83303583,\n",
       "         0.82847259, 0.8310763 , 0.83311906, 0.82773305, 0.82897419,\n",
       "         0.83149443, 0.82439312, 0.8261912 , 0.8255851 , 0.82682658,\n",
       "         0.829684  , 0.82812569, 0.82870893, 0.83545488, 0.82774712,\n",
       "         0.83447317, 0.83056075, 0.83261506, 0.83591246, 0.83196173,\n",
       "         0.8311106 ]),\n",
       "  'mean_test_score': array([0.83293484, 0.83226695, 0.83308396, 0.83451406, 0.83320475,\n",
       "         0.83431327, 0.83321266, 0.83427162, 0.83598207, 0.83485419,\n",
       "         0.83357356, 0.83479793, 0.83327153, 0.83138221, 0.8311918 ,\n",
       "         0.82889531, 0.83008967, 0.83414547, 0.83532008, 0.83433819,\n",
       "         0.83839295, 0.83491621, 0.83387327, 0.83625276, 0.83630221,\n",
       "         0.83638403, 0.83648585, 0.83667371, 0.83563515, 0.83622961,\n",
       "         0.83670407, 0.8332419 , 0.83374032, 0.8342736 , 0.83396412,\n",
       "         0.83478675, 0.83398481, 0.83315976, 0.8310182 , 0.83366809,\n",
       "         0.83463211, 0.83455423, 0.83591765, 0.83560196, 0.83411345,\n",
       "         0.83610765, 0.8361362 , 0.83394903, 0.83569155, 0.83566574,\n",
       "         0.8339803 ]),\n",
       "  'std_test_score': array([0.01087369, 0.01103309, 0.01019436, 0.01137511, 0.01287354,\n",
       "         0.01052805, 0.00960544, 0.01172126, 0.01161402, 0.00998416,\n",
       "         0.01125341, 0.01066711, 0.01172148, 0.00968958, 0.01012509,\n",
       "         0.00794911, 0.00984554, 0.00846269, 0.00869   , 0.00716971,\n",
       "         0.00889804, 0.0104862 , 0.00776521, 0.00900352, 0.01080553,\n",
       "         0.00998461, 0.01201725, 0.0072999 , 0.00945733, 0.00983573,\n",
       "         0.00975054, 0.00972664, 0.01066658, 0.01036283, 0.00915657,\n",
       "         0.008553  , 0.00938808, 0.00992653, 0.00676648, 0.00746898,\n",
       "         0.00878541, 0.00881703, 0.0080021 , 0.00768836, 0.00708265,\n",
       "         0.00664178, 0.00838178, 0.00858653, 0.00869371, 0.00770924,\n",
       "         0.0095427 ]),\n",
       "  'rank_test_score': array([45, 46, 44, 24, 42, 26, 41, 28, 11, 19, 38, 20, 39, 47, 48, 51, 50,\n",
       "         29, 17, 25,  1, 18, 35,  7,  6,  5,  4,  3, 15,  8,  2, 40, 36, 27,\n",
       "         33, 21, 31, 43, 49, 37, 22, 23, 12, 16, 30, 10,  9, 34, 13, 14, 32])},\n",
       " {'max_depth': 7, 'min_samples_split': 350},\n",
       " 0.8383929546568357)"
      ]
     },
     "execution_count": 65,
     "metadata": {},
     "output_type": "execute_result"
    }
   ],
   "source": [
    "param_test2 = {'max_depth':range(5,11,2), 'min_samples_split':range(200,1001,50)}\n",
    "gsearch2 = GridSearchCV(estimator = GradientBoostingClassifier(learning_rate=0.1, n_estimators=60, max_features='sqrt', subsample=0.8, random_state=10), \n",
    "param_grid = param_test2, scoring='roc_auc',n_jobs=4,iid=False, cv=5)\n",
    "gsearch2.fit(train[predictors],train[target])\n",
    "gsearch2.cv_results_, gsearch2.best_params_, gsearch2.best_score_"
   ]
  },
  {
   "cell_type": "markdown",
   "metadata": {},
   "source": [
    "Here, we have run 51 combinations and the ideal values are 7 for max_depth and 350 for min_samples_split. "
   ]
  },
  {
   "cell_type": "markdown",
   "metadata": {},
   "source": [
    "Next, we try the max_depth of 9 for higher min_samples_split. Also, we can test for 5 values of min_samples_leaf, from 30 to 70 in steps of 10, along with higher min_samples_split."
   ]
  },
  {
   "cell_type": "code",
   "execution_count": 76,
   "metadata": {},
   "outputs": [
    {
     "name": "stderr",
     "output_type": "stream",
     "text": [
      "C:\\Users\\Kerry\\Anaconda3\\lib\\site-packages\\sklearn\\model_selection\\_search.py:823: FutureWarning: The parameter 'iid' is deprecated in 0.22 and will be removed in 0.24.\n",
      "  \"removed in 0.24.\", FutureWarning\n"
     ]
    },
    {
     "data": {
      "text/plain": [
       "({'mean_fit_time': array([11.07838492, 10.94154682, 10.85717683, 10.88330722, 10.69201884,\n",
       "         10.706778  , 10.70179219, 10.40269704, 10.72401233, 10.72255616,\n",
       "         10.59208527, 11.54513736, 13.19472046, 12.48008361, 11.76308088,\n",
       "         11.18050218, 11.4411612 , 11.3117743 , 10.48794794, 10.23400369,\n",
       "         10.14400506, 10.19400902, 10.6700078 , 10.67200613, 10.45800738,\n",
       "         10.56401577, 10.27200665, 10.49400473, 10.32401381, 10.82457843,\n",
       "         11.23250203, 10.37173648, 10.12400436, 10.64400668, 10.54801311,\n",
       "         10.55103235, 10.4519969 , 10.66601076, 10.26000719, 10.37800341,\n",
       "         10.14400644, 10.31800308, 10.18800602, 10.22200513, 10.63400688,\n",
       "         10.50800667, 10.51201477, 10.40800238, 10.44800949, 10.3260078 ,\n",
       "         10.29800615, 10.26800575, 10.24000134, 11.77628107, 13.95879183]),\n",
       "  'std_fit_time': array([0.13589239, 0.24494475, 0.10245681, 0.26818205, 0.23399563,\n",
       "         0.07189266, 0.19936281, 0.07827067, 0.13373839, 0.17344945,\n",
       "         0.12014606, 0.46537961, 0.42604668, 0.48543154, 0.59284758,\n",
       "         0.12677578, 0.3341874 , 0.47084758, 0.13812888, 0.1656048 ,\n",
       "         0.21219003, 0.12970741, 0.22864721, 0.0976556 , 0.10869858,\n",
       "         0.02059116, 0.24334183, 0.1670433 , 0.13455725, 0.79097514,\n",
       "         0.15917847, 0.22495033, 0.13529442, 0.10423027, 0.19773121,\n",
       "         0.17751411, 0.30655803, 0.14093627, 0.15006128, 0.19009283,\n",
       "         0.10384589, 0.12319247, 0.16484921, 0.12812589, 0.22535104,\n",
       "         0.19301855, 0.11770683, 0.18486585, 0.15829099, 0.16341044,\n",
       "         0.08588366, 0.17127696, 0.19727444, 2.03592576, 0.89127052]),\n",
       "  'mean_score_time': array([0.11389556, 0.12666302, 0.12227497, 0.11808815, 0.11828814,\n",
       "         0.1144949 , 0.11369696, 0.11354079, 0.12008114, 0.13065171,\n",
       "         0.11250119, 0.1488049 , 0.14361567, 0.14006643, 0.13522687,\n",
       "         0.11896992, 0.13543148, 0.11768785, 0.10799742, 0.11000023,\n",
       "         0.11800241, 0.10800009, 0.11399941, 0.11200533, 0.12400179,\n",
       "         0.10799508, 0.11400385, 0.12199979, 0.12399688, 0.12160764,\n",
       "         0.11600256, 0.11200233, 0.10800071, 0.11000004, 0.11199608,\n",
       "         0.12199283, 0.11600218, 0.10999851, 0.11799717, 0.11200066,\n",
       "         0.11000166, 0.12800179, 0.10999875, 0.11400642, 0.11599975,\n",
       "         0.10800099, 0.11199141, 0.12600355, 0.12599926, 0.11199856,\n",
       "         0.11400127, 0.11799965, 0.11800213, 0.14400363, 0.15950952]),\n",
       "  'std_score_time': array([0.00697787, 0.00777804, 0.00980491, 0.00348806, 0.00675901,\n",
       "         0.00593088, 0.00834478, 0.0065108 , 0.01104409, 0.01863789,\n",
       "         0.00665938, 0.02909109, 0.0310233 , 0.02110743, 0.04240606,\n",
       "         0.01108295, 0.02550913, 0.00848934, 0.0074822 , 0.01264669,\n",
       "         0.00748437, 0.00399902, 0.00489888, 0.00979246, 0.01200146,\n",
       "         0.00748865, 0.01743957, 0.01166105, 0.01356332, 0.01154618,\n",
       "         0.01019819, 0.01166278, 0.00748327, 0.00632266, 0.00979455,\n",
       "         0.0116692 , 0.00800114, 0.01095388, 0.01165861, 0.00748419,\n",
       "         0.00894736, 0.01469634, 0.01673495, 0.01497701, 0.01356432,\n",
       "         0.00748277, 0.00747711, 0.01199954, 0.0174344 , 0.01166   ,\n",
       "         0.01496532, 0.00748439, 0.01469506, 0.04630222, 0.03333498]),\n",
       "  'param_min_samples_leaf': masked_array(data=[30, 30, 30, 30, 30, 30, 30, 30, 30, 30, 30, 40, 40, 40,\n",
       "                     40, 40, 40, 40, 40, 40, 40, 40, 50, 50, 50, 50, 50, 50,\n",
       "                     50, 50, 50, 50, 50, 60, 60, 60, 60, 60, 60, 60, 60, 60,\n",
       "                     60, 60, 70, 70, 70, 70, 70, 70, 70, 70, 70, 70, 70],\n",
       "               mask=[False, False, False, False, False, False, False, False,\n",
       "                     False, False, False, False, False, False, False, False,\n",
       "                     False, False, False, False, False, False, False, False,\n",
       "                     False, False, False, False, False, False, False, False,\n",
       "                     False, False, False, False, False, False, False, False,\n",
       "                     False, False, False, False, False, False, False, False,\n",
       "                     False, False, False, False, False, False, False],\n",
       "         fill_value='?',\n",
       "              dtype=object),\n",
       "  'param_min_samples_split': masked_array(data=[1000, 1100, 1200, 1300, 1400, 1500, 1600, 1700, 1800,\n",
       "                     1900, 2000, 1000, 1100, 1200, 1300, 1400, 1500, 1600,\n",
       "                     1700, 1800, 1900, 2000, 1000, 1100, 1200, 1300, 1400,\n",
       "                     1500, 1600, 1700, 1800, 1900, 2000, 1000, 1100, 1200,\n",
       "                     1300, 1400, 1500, 1600, 1700, 1800, 1900, 2000, 1000,\n",
       "                     1100, 1200, 1300, 1400, 1500, 1600, 1700, 1800, 1900,\n",
       "                     2000],\n",
       "               mask=[False, False, False, False, False, False, False, False,\n",
       "                     False, False, False, False, False, False, False, False,\n",
       "                     False, False, False, False, False, False, False, False,\n",
       "                     False, False, False, False, False, False, False, False,\n",
       "                     False, False, False, False, False, False, False, False,\n",
       "                     False, False, False, False, False, False, False, False,\n",
       "                     False, False, False, False, False, False, False],\n",
       "         fill_value='?',\n",
       "              dtype=object),\n",
       "  'params': [{'min_samples_leaf': 30, 'min_samples_split': 1000},\n",
       "   {'min_samples_leaf': 30, 'min_samples_split': 1100},\n",
       "   {'min_samples_leaf': 30, 'min_samples_split': 1200},\n",
       "   {'min_samples_leaf': 30, 'min_samples_split': 1300},\n",
       "   {'min_samples_leaf': 30, 'min_samples_split': 1400},\n",
       "   {'min_samples_leaf': 30, 'min_samples_split': 1500},\n",
       "   {'min_samples_leaf': 30, 'min_samples_split': 1600},\n",
       "   {'min_samples_leaf': 30, 'min_samples_split': 1700},\n",
       "   {'min_samples_leaf': 30, 'min_samples_split': 1800},\n",
       "   {'min_samples_leaf': 30, 'min_samples_split': 1900},\n",
       "   {'min_samples_leaf': 30, 'min_samples_split': 2000},\n",
       "   {'min_samples_leaf': 40, 'min_samples_split': 1000},\n",
       "   {'min_samples_leaf': 40, 'min_samples_split': 1100},\n",
       "   {'min_samples_leaf': 40, 'min_samples_split': 1200},\n",
       "   {'min_samples_leaf': 40, 'min_samples_split': 1300},\n",
       "   {'min_samples_leaf': 40, 'min_samples_split': 1400},\n",
       "   {'min_samples_leaf': 40, 'min_samples_split': 1500},\n",
       "   {'min_samples_leaf': 40, 'min_samples_split': 1600},\n",
       "   {'min_samples_leaf': 40, 'min_samples_split': 1700},\n",
       "   {'min_samples_leaf': 40, 'min_samples_split': 1800},\n",
       "   {'min_samples_leaf': 40, 'min_samples_split': 1900},\n",
       "   {'min_samples_leaf': 40, 'min_samples_split': 2000},\n",
       "   {'min_samples_leaf': 50, 'min_samples_split': 1000},\n",
       "   {'min_samples_leaf': 50, 'min_samples_split': 1100},\n",
       "   {'min_samples_leaf': 50, 'min_samples_split': 1200},\n",
       "   {'min_samples_leaf': 50, 'min_samples_split': 1300},\n",
       "   {'min_samples_leaf': 50, 'min_samples_split': 1400},\n",
       "   {'min_samples_leaf': 50, 'min_samples_split': 1500},\n",
       "   {'min_samples_leaf': 50, 'min_samples_split': 1600},\n",
       "   {'min_samples_leaf': 50, 'min_samples_split': 1700},\n",
       "   {'min_samples_leaf': 50, 'min_samples_split': 1800},\n",
       "   {'min_samples_leaf': 50, 'min_samples_split': 1900},\n",
       "   {'min_samples_leaf': 50, 'min_samples_split': 2000},\n",
       "   {'min_samples_leaf': 60, 'min_samples_split': 1000},\n",
       "   {'min_samples_leaf': 60, 'min_samples_split': 1100},\n",
       "   {'min_samples_leaf': 60, 'min_samples_split': 1200},\n",
       "   {'min_samples_leaf': 60, 'min_samples_split': 1300},\n",
       "   {'min_samples_leaf': 60, 'min_samples_split': 1400},\n",
       "   {'min_samples_leaf': 60, 'min_samples_split': 1500},\n",
       "   {'min_samples_leaf': 60, 'min_samples_split': 1600},\n",
       "   {'min_samples_leaf': 60, 'min_samples_split': 1700},\n",
       "   {'min_samples_leaf': 60, 'min_samples_split': 1800},\n",
       "   {'min_samples_leaf': 60, 'min_samples_split': 1900},\n",
       "   {'min_samples_leaf': 60, 'min_samples_split': 2000},\n",
       "   {'min_samples_leaf': 70, 'min_samples_split': 1000},\n",
       "   {'min_samples_leaf': 70, 'min_samples_split': 1100},\n",
       "   {'min_samples_leaf': 70, 'min_samples_split': 1200},\n",
       "   {'min_samples_leaf': 70, 'min_samples_split': 1300},\n",
       "   {'min_samples_leaf': 70, 'min_samples_split': 1400},\n",
       "   {'min_samples_leaf': 70, 'min_samples_split': 1500},\n",
       "   {'min_samples_leaf': 70, 'min_samples_split': 1600},\n",
       "   {'min_samples_leaf': 70, 'min_samples_split': 1700},\n",
       "   {'min_samples_leaf': 70, 'min_samples_split': 1800},\n",
       "   {'min_samples_leaf': 70, 'min_samples_split': 1900},\n",
       "   {'min_samples_leaf': 70, 'min_samples_split': 2000}],\n",
       "  'split0_test_score': array([0.81752496, 0.82077615, 0.82342187, 0.8217681 , 0.81725695,\n",
       "         0.82312676, 0.8204799 , 0.81630794, 0.82199158, 0.82001067,\n",
       "         0.81762896, 0.82616125, 0.82290535, 0.82252451, 0.82362101,\n",
       "         0.82069638, 0.82068088, 0.82074619, 0.81795482, 0.82021545,\n",
       "         0.81860276, 0.82105197, 0.82525355, 0.82467391, 0.82330066,\n",
       "         0.82081047, 0.82406063, 0.81426115, 0.82052719, 0.82192294,\n",
       "         0.8219141 , 0.82369138, 0.8209753 , 0.82024827, 0.8215445 ,\n",
       "         0.82102994, 0.82043158, 0.82220404, 0.81952802, 0.81947579,\n",
       "         0.82226579, 0.81782409, 0.82313239, 0.81697091, 0.82662003,\n",
       "         0.82379479, 0.8219747 , 0.81913776, 0.82681975, 0.81919343,\n",
       "         0.82267315, 0.82383198, 0.81628831, 0.82023725, 0.82248869]),\n",
       "  'split1_test_score': array([0.82987512, 0.82823018, 0.83513142, 0.83397902, 0.83393069,\n",
       "         0.82981279, 0.82972188, 0.83064794, 0.83297307, 0.82601903,\n",
       "         0.83051307, 0.82637187, 0.83006256, 0.83356707, 0.83264939,\n",
       "         0.82951298, 0.83180287, 0.8293858 , 0.83387652, 0.82976699,\n",
       "         0.8289385 , 0.8298346 , 0.82995156, 0.83568513, 0.83181883,\n",
       "         0.82850382, 0.83033711, 0.83166112, 0.83484378, 0.83066378,\n",
       "         0.82971534, 0.82412961, 0.83028397, 0.83473554, 0.8327489 ,\n",
       "         0.83003937, 0.83040713, 0.82929122, 0.82955844, 0.8270935 ,\n",
       "         0.82872328, 0.83347513, 0.83241409, 0.83116354, 0.83131689,\n",
       "         0.83190721, 0.83488786, 0.82756778, 0.8298866 , 0.83061133,\n",
       "         0.83212656, 0.83336895, 0.83401758, 0.83141514, 0.83217304]),\n",
       "  'split2_test_score': array([0.84849148, 0.84901423, 0.846939  , 0.84862114, 0.84894746,\n",
       "         0.84763623, 0.84723353, 0.85233644, 0.85038137, 0.84973982,\n",
       "         0.84817419, 0.84678613, 0.84524416, 0.84810902, 0.85064001,\n",
       "         0.84439726, 0.85109336, 0.84676109, 0.84782626, 0.84642322,\n",
       "         0.85154579, 0.84720746, 0.84875743, 0.85067854, 0.84915624,\n",
       "         0.8547276 , 0.84866116, 0.84608535, 0.84810822, 0.85007701,\n",
       "         0.8508776 , 0.84731894, 0.85094083, 0.84984101, 0.8507851 ,\n",
       "         0.84932729, 0.8508768 , 0.84986914, 0.8457261 , 0.85132535,\n",
       "         0.8486336 , 0.84774737, 0.84816482, 0.85201881, 0.84907426,\n",
       "         0.85154282, 0.8498409 , 0.84718482, 0.8476519 , 0.8497747 ,\n",
       "         0.84893843, 0.84948885, 0.8516782 , 0.84869946, 0.85066791]),\n",
       "  'split3_test_score': array([0.85293866, 0.85151675, 0.84812068, 0.84742974, 0.84771467,\n",
       "         0.84947273, 0.84790607, 0.84817979, 0.84935553, 0.85253882,\n",
       "         0.85068563, 0.85084273, 0.84787577, 0.85256032, 0.84544025,\n",
       "         0.84834936, 0.84868117, 0.84612823, 0.84840218, 0.8529254 ,\n",
       "         0.84942711, 0.85054476, 0.84875903, 0.85032626, 0.85111725,\n",
       "         0.84689441, 0.85167077, 0.85291213, 0.85192826, 0.85324829,\n",
       "         0.85189693, 0.85035485, 0.84965739, 0.84566047, 0.84617202,\n",
       "         0.84856157, 0.84889818, 0.84884078, 0.84855585, 0.8539868 ,\n",
       "         0.84643099, 0.84700257, 0.85120004, 0.84721524, 0.84828419,\n",
       "         0.85074097, 0.85046313, 0.8513632 , 0.84794003, 0.8491806 ,\n",
       "         0.85054179, 0.85116402, 0.8484175 , 0.85078579, 0.84998805]),\n",
       "  'split4_test_score': array([0.83385174, 0.83036626, 0.83120356, 0.83475776, 0.8304017 ,\n",
       "         0.83605595, 0.83592698, 0.83303354, 0.82964936, 0.83243635,\n",
       "         0.83098163, 0.8303251 , 0.83307436, 0.83282979, 0.83232807,\n",
       "         0.83230292, 0.83263438, 0.83260168, 0.83173694, 0.83298929,\n",
       "         0.83245213, 0.83160671, 0.83022928, 0.83015622, 0.8293427 ,\n",
       "         0.82870653, 0.82794755, 0.83004303, 0.83496402, 0.83235277,\n",
       "         0.82867486, 0.83353697, 0.83222734, 0.82981481, 0.83186295,\n",
       "         0.83212386, 0.82975398, 0.83488616, 0.83497832, 0.8312446 ,\n",
       "         0.83019098, 0.82993189, 0.83711084, 0.83108682, 0.83590537,\n",
       "         0.83259665, 0.83143132, 0.82917451, 0.83243029, 0.83246745,\n",
       "         0.82981446, 0.83179034, 0.83351044, 0.83192046, 0.83062283]),\n",
       "  'mean_test_score': array([0.83653639, 0.83598072, 0.83696331, 0.83731115, 0.8356503 ,\n",
       "         0.83722089, 0.83625367, 0.83610113, 0.83687018, 0.83614894,\n",
       "         0.8355967 , 0.83609741, 0.83583244, 0.83791814, 0.83693575,\n",
       "         0.83505178, 0.83697853, 0.8351246 , 0.83595935, 0.83646407,\n",
       "         0.83619326, 0.8360491 , 0.83659017, 0.83830401, 0.83694714,\n",
       "         0.83592856, 0.83653544, 0.83499256, 0.83807429, 0.83765296,\n",
       "         0.83661576, 0.83580635, 0.83681697, 0.83606002, 0.83662269,\n",
       "         0.83621641, 0.83607353, 0.83701827, 0.83566934, 0.83662521,\n",
       "         0.83524893, 0.83519621, 0.83840443, 0.83569106, 0.83824015,\n",
       "         0.83811649, 0.83771958, 0.83488561, 0.83694571, 0.8362455 ,\n",
       "         0.83681888, 0.83792883, 0.83678241, 0.83661162, 0.83718811]),\n",
       "  'std_test_score': array([0.01284502, 0.01211621, 0.00942234, 0.00989456, 0.01175741,\n",
       "         0.01013379, 0.01046822, 0.01296455, 0.01119944, 0.01288551,\n",
       "         0.01229513, 0.01056699, 0.0093982 , 0.01095477, 0.00976749,\n",
       "         0.0100844 , 0.01137939, 0.01002522, 0.01133117, 0.01175672,\n",
       "         0.01254502, 0.01111667, 0.01009133, 0.01055167, 0.01113739,\n",
       "         0.01272395, 0.01134816, 0.01348739, 0.01114112, 0.0120162 ,\n",
       "         0.01235902, 0.01124693, 0.01165387, 0.01070376, 0.0105525 ,\n",
       "         0.01104384, 0.0118349 , 0.01085017, 0.01063545, 0.01364863,\n",
       "         0.01040112, 0.01121951, 0.01029355, 0.01258208, 0.00901854,\n",
       "         0.01107952, 0.01099806, 0.01230401, 0.00903607, 0.01172302,\n",
       "         0.01101257, 0.01063954, 0.01261442, 0.01152522, 0.01122381]),\n",
       "  'rank_test_score': array([28, 41, 15, 10, 48, 11, 31, 36, 19, 35, 49, 37, 44,  7, 18, 53, 14,\n",
       "         52, 42, 30, 34, 40, 27,  2, 16, 43, 29, 54,  5,  9, 25, 45, 21, 39,\n",
       "         24, 33, 38, 13, 47, 23, 50, 51,  1, 46,  3,  4,  8, 55, 17, 32, 20,\n",
       "          6, 22, 26, 12])},\n",
       " {'min_samples_leaf': 60, 'min_samples_split': 1900},\n",
       " 0.838404432554627)"
      ]
     },
     "execution_count": 76,
     "metadata": {},
     "output_type": "execute_result"
    }
   ],
   "source": [
    "param_test3 = {'min_samples_split':range(1000,2001,100), 'min_samples_leaf':range(30,71,10)}\n",
    "gsearch3 = GridSearchCV(estimator = GradientBoostingClassifier(learning_rate=0.1, n_estimators=60,max_depth=9,max_features='sqrt', subsample=0.8, random_state=10), \n",
    "param_grid = param_test3, scoring='roc_auc',n_jobs=4,iid=False, cv=5)\n",
    "gsearch3.fit(train[predictors],train[target])\n",
    "gsearch3.cv_results_, gsearch3.best_params_, gsearch3.best_score_"
   ]
  },
  {
   "cell_type": "markdown",
   "metadata": {},
   "source": [
    "Here we get the optimum values as 1900 for min_samples_split and 60 for min_samples_leaf. Also, we can see the CV score slightly increased to 0.83840. Let’s fit the model again on this and have a look at the feature importance."
   ]
  },
  {
   "cell_type": "code",
   "execution_count": 77,
   "metadata": {},
   "outputs": [
    {
     "name": "stdout",
     "output_type": "stream",
     "text": [
      "\n",
      "Model Report\n",
      "Accuracy : 0.9854\n",
      "AUC Score (Train): 0.887847\n",
      "CV Score : Mean - 0.8384044 | Std - 0.01029355 | Min - 0.8231324 | Max - 0.8512\n"
     ]
    },
    {
     "data": {
      "image/png": "[encoded data removed]",
      "text/plain": [
       "<Figure size 864x288 with 1 Axes>"
      ]
     },
     "metadata": {
      "needs_background": "light"
     },
     "output_type": "display_data"
    }
   ],
   "source": [
    "modelfit(gsearch3.best_estimator_, train, predictors)"
   ]
  },
  {
   "cell_type": "markdown",
   "metadata": {},
   "source": [
    "Comparing the feature importance of this model with the baseline model, we find that now we are able to derive value from many more variables. Also, earlier it placed too much importance on some variables but now the distribution is better.\n",
    "<br /><br />\n",
    "Now lets tune the last tree-parameters, i.e. max_features by trying 7 values from 7 to 19 in steps of 2."
   ]
  },
  {
   "cell_type": "code",
   "execution_count": 78,
   "metadata": {},
   "outputs": [
    {
     "name": "stderr",
     "output_type": "stream",
     "text": [
      "C:\\Users\\Kerry\\Anaconda3\\lib\\site-packages\\sklearn\\model_selection\\_search.py:823: FutureWarning: The parameter 'iid' is deprecated in 0.22 and will be removed in 0.24.\n",
      "  \"removed in 0.24.\", FutureWarning\n"
     ]
    },
    {
     "data": {
      "text/plain": [
       "({'mean_fit_time': array([10.10173779, 11.96000643, 13.58000779, 15.32800751, 16.99001079,\n",
       "         18.73624554, 17.76394982]),\n",
       "  'std_fit_time': array([0.30565849, 0.14435938, 0.20228913, 0.21976272, 0.1769733 ,\n",
       "         0.12053467, 2.20821401]),\n",
       "  'mean_score_time': array([0.11200023, 0.11600118, 0.10599995, 0.11600161, 0.11400075,\n",
       "         0.10800047, 0.09000072]),\n",
       "  'std_score_time': array([0.00979817, 0.00800052, 0.01199949, 0.00800038, 0.01019825,\n",
       "         0.00979709, 0.0244967 ]),\n",
       "  'param_max_features': masked_array(data=[7, 9, 11, 13, 15, 17, 19],\n",
       "               mask=[False, False, False, False, False, False, False],\n",
       "         fill_value='?',\n",
       "              dtype=object),\n",
       "  'params': [{'max_features': 7},\n",
       "   {'max_features': 9},\n",
       "   {'max_features': 11},\n",
       "   {'max_features': 13},\n",
       "   {'max_features': 15},\n",
       "   {'max_features': 17},\n",
       "   {'max_features': 19}],\n",
       "  'split0_test_score': array([0.82313239, 0.82281651, 0.82474656, 0.82091952, 0.82590058,\n",
       "         0.82876208, 0.82873763]),\n",
       "  'split1_test_score': array([0.83241409, 0.83322295, 0.83327208, 0.83045568, 0.82887112,\n",
       "         0.83182285, 0.82975517]),\n",
       "  'split2_test_score': array([0.84816482, 0.84837931, 0.8480435 , 0.84921604, 0.8460164 ,\n",
       "         0.84402795, 0.84732077]),\n",
       "  'split3_test_score': array([0.85120004, 0.84867705, 0.85232364, 0.84643019, 0.84531871,\n",
       "         0.84741041, 0.84328361]),\n",
       "  'split4_test_score': array([0.83711084, 0.83375776, 0.83390605, 0.83091657, 0.83157939,\n",
       "         0.83339382, 0.82907618]),\n",
       "  'mean_test_score': array([0.83840443, 0.83737072, 0.83845837, 0.8355876 , 0.83553724,\n",
       "         0.83708342, 0.83563467]),\n",
       "  'std_test_score': array([0.01029355, 0.00991065, 0.01019564, 0.01064522, 0.00846708,\n",
       "         0.00728567, 0.00800278]),\n",
       "  'rank_test_score': array([2, 3, 1, 6, 7, 4, 5])},\n",
       " {'max_features': 11},\n",
       " 0.8384583666311854)"
      ]
     },
     "execution_count": 78,
     "metadata": {},
     "output_type": "execute_result"
    }
   ],
   "source": [
    "param_test4 = {'max_features':range(7,20,2)}\n",
    "gsearch4 = GridSearchCV(estimator = GradientBoostingClassifier(learning_rate=0.1, n_estimators=60,max_depth=9, min_samples_split=1900, min_samples_leaf=60, subsample=0.8, random_state=10),\n",
    "param_grid = param_test4, scoring='roc_auc',n_jobs=4,iid=False, cv=5)\n",
    "gsearch4.fit(train[predictors],train[target])\n",
    "gsearch4.cv_results_, gsearch4.best_params_, gsearch4.best_score_"
   ]
  },
  {
   "cell_type": "markdown",
   "metadata": {},
   "source": [
    "With this we have the final tree-parameters as:\n",
    "<br /><br />\n",
    "- min_samples_split: 1900\n",
    "- min_samples_leaf: 60\n",
    "- max_depth: 9\n",
    "- max_features: 11"
   ]
  },
  {
   "cell_type": "markdown",
   "metadata": {},
   "source": [
    "### Tuning subsample and making models with lower learning rate"
   ]
  },
  {
   "cell_type": "markdown",
   "metadata": {},
   "source": [
    "The next step would be try different subsample values. Lets take values 0.6,0.7,0.75,0.8,0.85,0.9."
   ]
  },
  {
   "cell_type": "code",
   "execution_count": 5,
   "metadata": {},
   "outputs": [
    {
     "name": "stderr",
     "output_type": "stream",
     "text": [
      "C:\\Users\\Kerry\\Anaconda3\\lib\\site-packages\\sklearn\\model_selection\\_search.py:823: FutureWarning: The parameter 'iid' is deprecated in 0.22 and will be removed in 0.24.\n",
      "  \"removed in 0.24.\", FutureWarning\n"
     ]
    },
    {
     "data": {
      "text/plain": [
       "({'mean_fit_time': array([12.40387383, 13.2324441 , 14.46239443, 15.93590341, 15.00766344,\n",
       "         14.17087808]),\n",
       "  'std_fit_time': array([0.31661869, 0.37330191, 0.28059819, 0.3267584 , 0.98927329,\n",
       "         3.8531846 ]),\n",
       "  'mean_score_time': array([0.11279836, 0.12360468, 0.14863467, 0.11408477, 0.12319956,\n",
       "         0.09800119]),\n",
       "  'std_score_time': array([0.00992845, 0.02643129, 0.01911745, 0.00483416, 0.02118566,\n",
       "         0.02993485]),\n",
       "  'param_subsample': masked_array(data=[0.6, 0.7, 0.75, 0.8, 0.85, 0.9],\n",
       "               mask=[False, False, False, False, False, False],\n",
       "         fill_value='?',\n",
       "              dtype=object),\n",
       "  'params': [{'subsample': 0.6},\n",
       "   {'subsample': 0.7},\n",
       "   {'subsample': 0.75},\n",
       "   {'subsample': 0.8},\n",
       "   {'subsample': 0.85},\n",
       "   {'subsample': 0.9}],\n",
       "  'split0_test_score': array([0.81904479, 0.81779493, 0.82181539, 0.82474656, 0.82164034,\n",
       "         0.82606288]),\n",
       "  'split1_test_score': array([0.83241707, 0.83205631, 0.83182158, 0.83327208, 0.83157549,\n",
       "         0.83172035]),\n",
       "  'split2_test_score': array([0.8499366 , 0.84632146, 0.84830888, 0.8480435 , 0.85101881,\n",
       "         0.85231655]),\n",
       "  'split3_test_score': array([0.84463749, 0.84751149, 0.84861142, 0.85232364, 0.84496678,\n",
       "         0.84594997]),\n",
       "  'split4_test_score': array([0.83424438, 0.83399169, 0.8316178 , 0.83390605, 0.83438833,\n",
       "         0.83486695]),\n",
       "  'mean_test_score': array([0.83605606, 0.83553518, 0.83643502, 0.83845837, 0.83671795,\n",
       "         0.83818334]),\n",
       "  'std_test_score': array([0.01069783, 0.01085336, 0.010464  , 0.01019564, 0.01031275,\n",
       "         0.00958898]),\n",
       "  'rank_test_score': array([5, 6, 4, 1, 3, 2])},\n",
       " {'subsample': 0.8},\n",
       " 0.8384583666311854)"
      ]
     },
     "execution_count": 5,
     "metadata": {},
     "output_type": "execute_result"
    }
   ],
   "source": [
    "param_test5 = {'subsample':[0.6,0.7,0.75,0.8,0.85,0.9]}\n",
    "gsearch5 = GridSearchCV(estimator = GradientBoostingClassifier(learning_rate=0.1, n_estimators=60,max_depth=9,min_samples_split=1900, min_samples_leaf=60, subsample=0.8, random_state=10,max_features=11),\n",
    "param_grid = param_test5, scoring='roc_auc',n_jobs=4,iid=False, cv=5)\n",
    "gsearch5.fit(train[predictors],train[target])\n",
    "gsearch5.cv_results_, gsearch5.best_params_, gsearch5.best_score_"
   ]
  },
  {
   "cell_type": "markdown",
   "metadata": {},
   "source": [
    "Here, we found 0.8 as the optimum value. Finally, we have all the parameters needed. Now, we need to lower the learning rate and increase the number of estimators proportionally. Note that these trees might not be the most optimum values but a good benchmark.\n",
    "<br /><br />\n",
    "As trees increase, it will become increasingly computationally expensive to perform CV and find the optimum values. \n",
    "<br /><br />\n",
    "Lets decrease the learning rate to <b>half</b>, i.e. 0.05 with twice (120) the number of trees."
   ]
  },
  {
   "cell_type": "code",
   "execution_count": 7,
   "metadata": {},
   "outputs": [
    {
     "name": "stdout",
     "output_type": "stream",
     "text": [
      "\n",
      "Model Report\n",
      "Accuracy : 0.9854\n",
      "AUC Score (Train): 0.893434\n",
      "CV Score : Mean - 0.8403267 | Std - 0.01080803 | Min - 0.8268969 | Max - 0.8541909\n"
     ]
    },
    {
     "data": {
      "image/png": "[encoded data removed]",
      "text/plain": [
       "<Figure size 432x288 with 1 Axes>"
      ]
     },
     "metadata": {
      "needs_background": "light"
     },
     "output_type": "display_data"
    }
   ],
   "source": [
    "predictors = [x for x in train.columns if x not in [target, IDcol]]\n",
    "gbm_tuned_1 = GradientBoostingClassifier(learning_rate=0.05, n_estimators=120,max_depth=9, min_samples_split=1900,min_samples_leaf=60, subsample=0.80, random_state=10, max_features=11)\n",
    "modelfit(gbm_tuned_1, train, predictors)"
   ]
  },
  {
   "cell_type": "markdown",
   "metadata": {},
   "source": [
    "Now lets reduce to <b>one-tenth</b> of the original value, i.e. 0.01 for 600 trees."
   ]
  },
  {
   "cell_type": "code",
   "execution_count": 8,
   "metadata": {},
   "outputs": [
    {
     "name": "stdout",
     "output_type": "stream",
     "text": [
      "\n",
      "Model Report\n",
      "Accuracy : 0.9854\n",
      "AUC Score (Train): 0.894585\n",
      "CV Score : Mean - 0.8403162 | Std - 0.009755589 | Min - 0.8261789 | Max - 0.8523824\n"
     ]
    },
    {
     "data": {
      "image/png": "[encoded data removed]",
      "text/plain": [
       "<Figure size 432x288 with 1 Axes>"
      ]
     },
     "metadata": {
      "needs_background": "light"
     },
     "output_type": "display_data"
    }
   ],
   "source": [
    "predictors = [x for x in train.columns if x not in [target, IDcol]]\n",
    "gbm_tuned_2 = GradientBoostingClassifier(learning_rate=0.01, n_estimators=600,max_depth=9, min_samples_split=1900,min_samples_leaf=60, subsample=0.80, random_state=10, max_features=11)\n",
    "modelfit(gbm_tuned_2, train, predictors)"
   ]
  },
  {
   "cell_type": "markdown",
   "metadata": {},
   "source": [
    "Lets decrease to <b>one-twentieth</b> of the original value, i.e. 0.005 for 1200 trees."
   ]
  },
  {
   "cell_type": "code",
   "execution_count": 9,
   "metadata": {},
   "outputs": [
    {
     "name": "stdout",
     "output_type": "stream",
     "text": [
      "\n",
      "Model Report\n",
      "Accuracy : 0.9854\n",
      "AUC Score (Train): 0.894553\n"
     ]
    },
    {
     "data": {
      "image/png": "[encoded data removed]",
      "text/plain": [
       "<Figure size 432x288 with 1 Axes>"
      ]
     },
     "metadata": {
      "needs_background": "light"
     },
     "output_type": "display_data"
    }
   ],
   "source": [
    "predictors = [x for x in train.columns if x not in [target, IDcol]]\n",
    "gbm_tuned_3 = GradientBoostingClassifier(learning_rate=0.005, n_estimators=1200,max_depth=9, min_samples_split=1900, min_samples_leaf=60, subsample=0.80, random_state=10, max_features=11,\n",
    "warm_start=True)\n",
    "modelfit(gbm_tuned_3, train, predictors, performCV=False)"
   ]
  },
  {
   "cell_type": "markdown",
   "metadata": {},
   "source": [
    "Here we see that the score reduced very slightly. So lets run for 1800 trees."
   ]
  },
  {
   "cell_type": "code",
   "execution_count": 10,
   "metadata": {},
   "outputs": [
    {
     "name": "stdout",
     "output_type": "stream",
     "text": [
      "\n",
      "Model Report\n",
      "Accuracy : 0.9854\n",
      "AUC Score (Train): 0.904154\n"
     ]
    },
    {
     "data": {
      "image/png": "[encoded data removed]",
      "text/plain": [
       "<Figure size 432x288 with 1 Axes>"
      ]
     },
     "metadata": {
      "needs_background": "light"
     },
     "output_type": "display_data"
    }
   ],
   "source": [
    "predictors = [x for x in train.columns if x not in [target, IDcol]]\n",
    "gbm_tuned_4 = GradientBoostingClassifier(learning_rate=0.005, n_estimators=1800,max_depth=9, min_samples_split=1900, min_samples_leaf=60, subsample=0.80, random_state=10, max_features=11,\n",
    "warm_start=True)\n",
    "modelfit(gbm_tuned_4, train, predictors, performCV=False)"
   ]
  },
  {
   "cell_type": "markdown",
   "metadata": {},
   "source": [
    "Therefore, now you can clearly see that this is a very important step as the scores improved.\n",
    "<br /><br />\n",
    "Another hack that can be used here is the ‘warm_start’ parameter of GBM. We can use it to increase the number of estimators in small steps and test different values without having to run from starting always."
   ]
  }
 ],
 "metadata": {
  "kernelspec": {
   "display_name": "Python 3",
   "language": "python",
   "name": "python3"
  },
  "language_info": {
   "codemirror_mode": {
    "name": "ipython",
    "version": 3
   },
   "file_extension": ".py",
   "mimetype": "text/x-python",
   "name": "python",
   "nbconvert_exporter": "python",
   "pygments_lexer": "ipython3",
   "version": "3.7.4"
  }
 },
 "nbformat": 4,
 "nbformat_minor": 2
}
