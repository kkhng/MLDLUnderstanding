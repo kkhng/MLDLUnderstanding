{
 "cells": [
  {
   "cell_type": "markdown",
   "metadata": {},
   "source": [
    "Objectives: \n",
    "- Apply Principal component analysis on the given dataset using Scikit-learn and find out the dimensions(also known as components) with maximum variance(where the data is spread out).\n",
    "- Features with little variance in the data are then projected into new lower dimension. \n",
    "- Then train the models on transformed dataset to apply machine learning models.\n",
    "- Apply Random forest Regressor on old and the transformed datasets and compare them."
   ]
  },
  {
   "cell_type": "markdown",
   "metadata": {},
   "source": [
    "There is a huge difference between classifiers and regressors. Classifiers predict one class from a predetermined list or probabilities of belonging to a class. Regressors predict some value, which could be almost anything.\n",
    "Different metrics are used for classification and regression.\n",
    "#### Difference between a Classifier and a Regressor.\n",
    "A <b>Classifier</b> is used to predict a set of specified labels - The simplest( and most hackneyed) example being that of Email Spam Detection where we will always want to classify whether an email is either spam (1) or not spam(0) .  So each email will get either a 0 or 1 or maybe even a fraction(if you go ahead and decide to predict the probability of an email being spam. \n",
    "<br />\n",
    "Examples : Classifying movie reviews based on text, Detecting the presence of seizures from recorded EEG signals, Classifying whether a passenger would survive in the Titanic disaster.\n",
    "<br /><br />\n",
    "On the other hand a <b>Regressor</b> is used to predict real valued outputs which vary and dont require outputs predicted to be in a fixed set. For example when wanting to predict the future income of restaurants, we really dont know all the possible outputs.\n",
    "<br />\n",
    "Examples : Predicting future Elo ratings of Chess players, Predicting the runs scored by a team in a cricket match"
   ]
  },
  {
   "cell_type": "markdown",
   "metadata": {},
   "source": [
    "<b>Dataset:</b> Crowdedness at the Campus Gym (Number of attendees every 10 minutes from the last year in the gym) - Kaggle"
   ]
  },
  {
   "cell_type": "markdown",
   "metadata": {},
   "source": [
    "Label:\n",
    "<br/><br/>\n",
    "Number of people\n",
    "<br/><br/>\n",
    "Features:\n",
    "<br/><br/>\n",
    "date (string; datetime of data)\n",
    "<br/>\n",
    "timestamp (int; number of seconds since beginning of day)\n",
    "<br/>\n",
    "day_of_week (int; 0 [monday] - 6 [sunday])\n",
    "<br/>\n",
    "is_weekend (int; 0 or 1) [boolean, if 1, it's either saturday or sunday, otherwise 0]\n",
    "<br/>\n",
    "is_holiday (int; 0 or 1) [boolean, if 1 it's a federal holiday, 0 otherwise]\n",
    "<br/>\n",
    "temperature (float; degrees fahrenheit)\n",
    "<br/>\n",
    "is_start_of_semester (int; 0 or 1) [boolean, if 1 it's the beginning of a school semester, 0 otherwise]\n",
    "<br/>\n",
    "month (int; 1 [jan] - 12 [dec])\n",
    "<br/>\n",
    "hour (int; 0 - 23)"
   ]
  },
  {
   "cell_type": "code",
   "execution_count": 1,
   "metadata": {},
   "outputs": [],
   "source": [
    "import numpy as np\n",
    "import pandas as pd\n",
    "import matplotlib.pyplot as plt\n",
    "import seaborn as sns\n",
    "%matplotlib inline"
   ]
  },
  {
   "cell_type": "code",
   "execution_count": 2,
   "metadata": {},
   "outputs": [
    {
     "data": {
      "text/html": [
       "<div>\n",
       "<style scoped>\n",
       "    .dataframe tbody tr th:only-of-type {\n",
       "        vertical-align: middle;\n",
       "    }\n",
       "\n",
       "    .dataframe tbody tr th {\n",
       "        vertical-align: top;\n",
       "    }\n",
       "\n",
       "    .dataframe thead th {\n",
       "        text-align: right;\n",
       "    }\n",
       "</style>\n",
       "<table border=\"1\" class=\"dataframe\">\n",
       "  <thead>\n",
       "    <tr style=\"text-align: right;\">\n",
       "      <th></th>\n",
       "      <th>number_people</th>\n",
       "      <th>date</th>\n",
       "      <th>timestamp</th>\n",
       "      <th>day_of_week</th>\n",
       "      <th>is_weekend</th>\n",
       "      <th>is_holiday</th>\n",
       "      <th>temperature</th>\n",
       "      <th>is_start_of_semester</th>\n",
       "      <th>is_during_semester</th>\n",
       "      <th>month</th>\n",
       "      <th>hour</th>\n",
       "    </tr>\n",
       "  </thead>\n",
       "  <tbody>\n",
       "    <tr>\n",
       "      <td>0</td>\n",
       "      <td>37</td>\n",
       "      <td>2015-08-14 17:00:11-07:00</td>\n",
       "      <td>61211</td>\n",
       "      <td>4</td>\n",
       "      <td>0</td>\n",
       "      <td>0</td>\n",
       "      <td>71.76</td>\n",
       "      <td>0</td>\n",
       "      <td>0</td>\n",
       "      <td>8</td>\n",
       "      <td>17</td>\n",
       "    </tr>\n",
       "    <tr>\n",
       "      <td>1</td>\n",
       "      <td>45</td>\n",
       "      <td>2015-08-14 17:20:14-07:00</td>\n",
       "      <td>62414</td>\n",
       "      <td>4</td>\n",
       "      <td>0</td>\n",
       "      <td>0</td>\n",
       "      <td>71.76</td>\n",
       "      <td>0</td>\n",
       "      <td>0</td>\n",
       "      <td>8</td>\n",
       "      <td>17</td>\n",
       "    </tr>\n",
       "    <tr>\n",
       "      <td>2</td>\n",
       "      <td>40</td>\n",
       "      <td>2015-08-14 17:30:15-07:00</td>\n",
       "      <td>63015</td>\n",
       "      <td>4</td>\n",
       "      <td>0</td>\n",
       "      <td>0</td>\n",
       "      <td>71.76</td>\n",
       "      <td>0</td>\n",
       "      <td>0</td>\n",
       "      <td>8</td>\n",
       "      <td>17</td>\n",
       "    </tr>\n",
       "    <tr>\n",
       "      <td>3</td>\n",
       "      <td>44</td>\n",
       "      <td>2015-08-14 17:40:16-07:00</td>\n",
       "      <td>63616</td>\n",
       "      <td>4</td>\n",
       "      <td>0</td>\n",
       "      <td>0</td>\n",
       "      <td>71.76</td>\n",
       "      <td>0</td>\n",
       "      <td>0</td>\n",
       "      <td>8</td>\n",
       "      <td>17</td>\n",
       "    </tr>\n",
       "    <tr>\n",
       "      <td>4</td>\n",
       "      <td>45</td>\n",
       "      <td>2015-08-14 17:50:17-07:00</td>\n",
       "      <td>64217</td>\n",
       "      <td>4</td>\n",
       "      <td>0</td>\n",
       "      <td>0</td>\n",
       "      <td>71.76</td>\n",
       "      <td>0</td>\n",
       "      <td>0</td>\n",
       "      <td>8</td>\n",
       "      <td>17</td>\n",
       "    </tr>\n",
       "  </tbody>\n",
       "</table>\n",
       "</div>"
      ],
      "text/plain": [
       "   number_people                       date  timestamp  day_of_week  \\\n",
       "0             37  2015-08-14 17:00:11-07:00      61211            4   \n",
       "1             45  2015-08-14 17:20:14-07:00      62414            4   \n",
       "2             40  2015-08-14 17:30:15-07:00      63015            4   \n",
       "3             44  2015-08-14 17:40:16-07:00      63616            4   \n",
       "4             45  2015-08-14 17:50:17-07:00      64217            4   \n",
       "\n",
       "   is_weekend  is_holiday  temperature  is_start_of_semester  \\\n",
       "0           0           0        71.76                     0   \n",
       "1           0           0        71.76                     0   \n",
       "2           0           0        71.76                     0   \n",
       "3           0           0        71.76                     0   \n",
       "4           0           0        71.76                     0   \n",
       "\n",
       "   is_during_semester  month  hour  \n",
       "0                   0      8    17  \n",
       "1                   0      8    17  \n",
       "2                   0      8    17  \n",
       "3                   0      8    17  \n",
       "4                   0      8    17  "
      ]
     },
     "execution_count": 2,
     "metadata": {},
     "output_type": "execute_result"
    }
   ],
   "source": [
    "df=pd.read_csv('../Principle Component Analysis PCA/data.csv') \n",
    "df.head()"
   ]
  },
  {
   "cell_type": "code",
   "execution_count": 3,
   "metadata": {},
   "outputs": [
    {
     "data": {
      "text/html": [
       "<div>\n",
       "<style scoped>\n",
       "    .dataframe tbody tr th:only-of-type {\n",
       "        vertical-align: middle;\n",
       "    }\n",
       "\n",
       "    .dataframe tbody tr th {\n",
       "        vertical-align: top;\n",
       "    }\n",
       "\n",
       "    .dataframe thead th {\n",
       "        text-align: right;\n",
       "    }\n",
       "</style>\n",
       "<table border=\"1\" class=\"dataframe\">\n",
       "  <thead>\n",
       "    <tr style=\"text-align: right;\">\n",
       "      <th></th>\n",
       "      <th>number_people</th>\n",
       "      <th>timestamp</th>\n",
       "      <th>day_of_week</th>\n",
       "      <th>is_weekend</th>\n",
       "      <th>is_holiday</th>\n",
       "      <th>temperature</th>\n",
       "      <th>is_start_of_semester</th>\n",
       "      <th>is_during_semester</th>\n",
       "      <th>month</th>\n",
       "      <th>hour</th>\n",
       "    </tr>\n",
       "  </thead>\n",
       "  <tbody>\n",
       "    <tr>\n",
       "      <td>count</td>\n",
       "      <td>62184.000000</td>\n",
       "      <td>62184.000000</td>\n",
       "      <td>62184.000000</td>\n",
       "      <td>62184.000000</td>\n",
       "      <td>62184.000000</td>\n",
       "      <td>62184.000000</td>\n",
       "      <td>62184.000000</td>\n",
       "      <td>62184.000000</td>\n",
       "      <td>62184.000000</td>\n",
       "      <td>62184.000000</td>\n",
       "    </tr>\n",
       "    <tr>\n",
       "      <td>mean</td>\n",
       "      <td>29.072543</td>\n",
       "      <td>45799.437958</td>\n",
       "      <td>2.982504</td>\n",
       "      <td>0.282870</td>\n",
       "      <td>0.002573</td>\n",
       "      <td>58.557108</td>\n",
       "      <td>0.078831</td>\n",
       "      <td>0.660218</td>\n",
       "      <td>7.439824</td>\n",
       "      <td>12.236460</td>\n",
       "    </tr>\n",
       "    <tr>\n",
       "      <td>std</td>\n",
       "      <td>22.689026</td>\n",
       "      <td>24211.275891</td>\n",
       "      <td>1.996825</td>\n",
       "      <td>0.450398</td>\n",
       "      <td>0.050660</td>\n",
       "      <td>6.316396</td>\n",
       "      <td>0.269476</td>\n",
       "      <td>0.473639</td>\n",
       "      <td>3.445069</td>\n",
       "      <td>6.717631</td>\n",
       "    </tr>\n",
       "    <tr>\n",
       "      <td>min</td>\n",
       "      <td>0.000000</td>\n",
       "      <td>0.000000</td>\n",
       "      <td>0.000000</td>\n",
       "      <td>0.000000</td>\n",
       "      <td>0.000000</td>\n",
       "      <td>38.140000</td>\n",
       "      <td>0.000000</td>\n",
       "      <td>0.000000</td>\n",
       "      <td>1.000000</td>\n",
       "      <td>0.000000</td>\n",
       "    </tr>\n",
       "    <tr>\n",
       "      <td>25%</td>\n",
       "      <td>9.000000</td>\n",
       "      <td>26624.000000</td>\n",
       "      <td>1.000000</td>\n",
       "      <td>0.000000</td>\n",
       "      <td>0.000000</td>\n",
       "      <td>55.000000</td>\n",
       "      <td>0.000000</td>\n",
       "      <td>0.000000</td>\n",
       "      <td>5.000000</td>\n",
       "      <td>7.000000</td>\n",
       "    </tr>\n",
       "    <tr>\n",
       "      <td>50%</td>\n",
       "      <td>28.000000</td>\n",
       "      <td>46522.500000</td>\n",
       "      <td>3.000000</td>\n",
       "      <td>0.000000</td>\n",
       "      <td>0.000000</td>\n",
       "      <td>58.340000</td>\n",
       "      <td>0.000000</td>\n",
       "      <td>1.000000</td>\n",
       "      <td>8.000000</td>\n",
       "      <td>12.000000</td>\n",
       "    </tr>\n",
       "    <tr>\n",
       "      <td>75%</td>\n",
       "      <td>43.000000</td>\n",
       "      <td>66612.000000</td>\n",
       "      <td>5.000000</td>\n",
       "      <td>1.000000</td>\n",
       "      <td>0.000000</td>\n",
       "      <td>62.280000</td>\n",
       "      <td>0.000000</td>\n",
       "      <td>1.000000</td>\n",
       "      <td>10.000000</td>\n",
       "      <td>18.000000</td>\n",
       "    </tr>\n",
       "    <tr>\n",
       "      <td>max</td>\n",
       "      <td>145.000000</td>\n",
       "      <td>86399.000000</td>\n",
       "      <td>6.000000</td>\n",
       "      <td>1.000000</td>\n",
       "      <td>1.000000</td>\n",
       "      <td>87.170000</td>\n",
       "      <td>1.000000</td>\n",
       "      <td>1.000000</td>\n",
       "      <td>12.000000</td>\n",
       "      <td>23.000000</td>\n",
       "    </tr>\n",
       "  </tbody>\n",
       "</table>\n",
       "</div>"
      ],
      "text/plain": [
       "       number_people     timestamp   day_of_week    is_weekend    is_holiday  \\\n",
       "count   62184.000000  62184.000000  62184.000000  62184.000000  62184.000000   \n",
       "mean       29.072543  45799.437958      2.982504      0.282870      0.002573   \n",
       "std        22.689026  24211.275891      1.996825      0.450398      0.050660   \n",
       "min         0.000000      0.000000      0.000000      0.000000      0.000000   \n",
       "25%         9.000000  26624.000000      1.000000      0.000000      0.000000   \n",
       "50%        28.000000  46522.500000      3.000000      0.000000      0.000000   \n",
       "75%        43.000000  66612.000000      5.000000      1.000000      0.000000   \n",
       "max       145.000000  86399.000000      6.000000      1.000000      1.000000   \n",
       "\n",
       "        temperature  is_start_of_semester  is_during_semester         month  \\\n",
       "count  62184.000000          62184.000000        62184.000000  62184.000000   \n",
       "mean      58.557108              0.078831            0.660218      7.439824   \n",
       "std        6.316396              0.269476            0.473639      3.445069   \n",
       "min       38.140000              0.000000            0.000000      1.000000   \n",
       "25%       55.000000              0.000000            0.000000      5.000000   \n",
       "50%       58.340000              0.000000            1.000000      8.000000   \n",
       "75%       62.280000              0.000000            1.000000     10.000000   \n",
       "max       87.170000              1.000000            1.000000     12.000000   \n",
       "\n",
       "               hour  \n",
       "count  62184.000000  \n",
       "mean      12.236460  \n",
       "std        6.717631  \n",
       "min        0.000000  \n",
       "25%        7.000000  \n",
       "50%       12.000000  \n",
       "75%       18.000000  \n",
       "max       23.000000  "
      ]
     },
     "execution_count": 3,
     "metadata": {},
     "output_type": "execute_result"
    }
   ],
   "source": [
    "df.describe()"
   ]
  },
  {
   "cell_type": "code",
   "execution_count": 4,
   "metadata": {},
   "outputs": [
    {
     "data": {
      "text/html": [
       "<div>\n",
       "<style scoped>\n",
       "    .dataframe tbody tr th:only-of-type {\n",
       "        vertical-align: middle;\n",
       "    }\n",
       "\n",
       "    .dataframe tbody tr th {\n",
       "        vertical-align: top;\n",
       "    }\n",
       "\n",
       "    .dataframe thead th {\n",
       "        text-align: right;\n",
       "    }\n",
       "</style>\n",
       "<table border=\"1\" class=\"dataframe\">\n",
       "  <thead>\n",
       "    <tr style=\"text-align: right;\">\n",
       "      <th></th>\n",
       "      <th>number_people</th>\n",
       "      <th>timestamp</th>\n",
       "      <th>day_of_week</th>\n",
       "      <th>is_weekend</th>\n",
       "      <th>is_holiday</th>\n",
       "      <th>temperature</th>\n",
       "      <th>is_start_of_semester</th>\n",
       "      <th>is_during_semester</th>\n",
       "      <th>month</th>\n",
       "      <th>hour</th>\n",
       "    </tr>\n",
       "  </thead>\n",
       "  <tbody>\n",
       "    <tr>\n",
       "      <td>number_people</td>\n",
       "      <td>1.000000</td>\n",
       "      <td>0.550218</td>\n",
       "      <td>-0.162062</td>\n",
       "      <td>-0.173958</td>\n",
       "      <td>-0.048249</td>\n",
       "      <td>0.373327</td>\n",
       "      <td>0.182683</td>\n",
       "      <td>0.335350</td>\n",
       "      <td>-0.097854</td>\n",
       "      <td>0.552049</td>\n",
       "    </tr>\n",
       "    <tr>\n",
       "      <td>timestamp</td>\n",
       "      <td>0.550218</td>\n",
       "      <td>1.000000</td>\n",
       "      <td>-0.001793</td>\n",
       "      <td>-0.000509</td>\n",
       "      <td>0.002851</td>\n",
       "      <td>0.184849</td>\n",
       "      <td>0.009551</td>\n",
       "      <td>0.044676</td>\n",
       "      <td>-0.023221</td>\n",
       "      <td>0.999077</td>\n",
       "    </tr>\n",
       "    <tr>\n",
       "      <td>day_of_week</td>\n",
       "      <td>-0.162062</td>\n",
       "      <td>-0.001793</td>\n",
       "      <td>1.000000</td>\n",
       "      <td>0.791338</td>\n",
       "      <td>-0.075862</td>\n",
       "      <td>0.011169</td>\n",
       "      <td>-0.011782</td>\n",
       "      <td>-0.004824</td>\n",
       "      <td>0.015559</td>\n",
       "      <td>-0.001914</td>\n",
       "    </tr>\n",
       "    <tr>\n",
       "      <td>is_weekend</td>\n",
       "      <td>-0.173958</td>\n",
       "      <td>-0.000509</td>\n",
       "      <td>0.791338</td>\n",
       "      <td>1.000000</td>\n",
       "      <td>-0.031899</td>\n",
       "      <td>0.020673</td>\n",
       "      <td>-0.016646</td>\n",
       "      <td>-0.036127</td>\n",
       "      <td>0.008462</td>\n",
       "      <td>-0.000517</td>\n",
       "    </tr>\n",
       "    <tr>\n",
       "      <td>is_holiday</td>\n",
       "      <td>-0.048249</td>\n",
       "      <td>0.002851</td>\n",
       "      <td>-0.075862</td>\n",
       "      <td>-0.031899</td>\n",
       "      <td>1.000000</td>\n",
       "      <td>-0.088527</td>\n",
       "      <td>-0.014858</td>\n",
       "      <td>-0.070798</td>\n",
       "      <td>-0.094942</td>\n",
       "      <td>0.002843</td>\n",
       "    </tr>\n",
       "    <tr>\n",
       "      <td>temperature</td>\n",
       "      <td>0.373327</td>\n",
       "      <td>0.184849</td>\n",
       "      <td>0.011169</td>\n",
       "      <td>0.020673</td>\n",
       "      <td>-0.088527</td>\n",
       "      <td>1.000000</td>\n",
       "      <td>0.093242</td>\n",
       "      <td>0.152476</td>\n",
       "      <td>0.063125</td>\n",
       "      <td>0.185121</td>\n",
       "    </tr>\n",
       "    <tr>\n",
       "      <td>is_start_of_semester</td>\n",
       "      <td>0.182683</td>\n",
       "      <td>0.009551</td>\n",
       "      <td>-0.011782</td>\n",
       "      <td>-0.016646</td>\n",
       "      <td>-0.014858</td>\n",
       "      <td>0.093242</td>\n",
       "      <td>1.000000</td>\n",
       "      <td>0.209862</td>\n",
       "      <td>-0.137160</td>\n",
       "      <td>0.010091</td>\n",
       "    </tr>\n",
       "    <tr>\n",
       "      <td>is_during_semester</td>\n",
       "      <td>0.335350</td>\n",
       "      <td>0.044676</td>\n",
       "      <td>-0.004824</td>\n",
       "      <td>-0.036127</td>\n",
       "      <td>-0.070798</td>\n",
       "      <td>0.152476</td>\n",
       "      <td>0.209862</td>\n",
       "      <td>1.000000</td>\n",
       "      <td>0.096556</td>\n",
       "      <td>0.045581</td>\n",
       "    </tr>\n",
       "    <tr>\n",
       "      <td>month</td>\n",
       "      <td>-0.097854</td>\n",
       "      <td>-0.023221</td>\n",
       "      <td>0.015559</td>\n",
       "      <td>0.008462</td>\n",
       "      <td>-0.094942</td>\n",
       "      <td>0.063125</td>\n",
       "      <td>-0.137160</td>\n",
       "      <td>0.096556</td>\n",
       "      <td>1.000000</td>\n",
       "      <td>-0.023624</td>\n",
       "    </tr>\n",
       "    <tr>\n",
       "      <td>hour</td>\n",
       "      <td>0.552049</td>\n",
       "      <td>0.999077</td>\n",
       "      <td>-0.001914</td>\n",
       "      <td>-0.000517</td>\n",
       "      <td>0.002843</td>\n",
       "      <td>0.185121</td>\n",
       "      <td>0.010091</td>\n",
       "      <td>0.045581</td>\n",
       "      <td>-0.023624</td>\n",
       "      <td>1.000000</td>\n",
       "    </tr>\n",
       "  </tbody>\n",
       "</table>\n",
       "</div>"
      ],
      "text/plain": [
       "                      number_people  timestamp  day_of_week  is_weekend  \\\n",
       "number_people              1.000000   0.550218    -0.162062   -0.173958   \n",
       "timestamp                  0.550218   1.000000    -0.001793   -0.000509   \n",
       "day_of_week               -0.162062  -0.001793     1.000000    0.791338   \n",
       "is_weekend                -0.173958  -0.000509     0.791338    1.000000   \n",
       "is_holiday                -0.048249   0.002851    -0.075862   -0.031899   \n",
       "temperature                0.373327   0.184849     0.011169    0.020673   \n",
       "is_start_of_semester       0.182683   0.009551    -0.011782   -0.016646   \n",
       "is_during_semester         0.335350   0.044676    -0.004824   -0.036127   \n",
       "month                     -0.097854  -0.023221     0.015559    0.008462   \n",
       "hour                       0.552049   0.999077    -0.001914   -0.000517   \n",
       "\n",
       "                      is_holiday  temperature  is_start_of_semester  \\\n",
       "number_people          -0.048249     0.373327              0.182683   \n",
       "timestamp               0.002851     0.184849              0.009551   \n",
       "day_of_week            -0.075862     0.011169             -0.011782   \n",
       "is_weekend             -0.031899     0.020673             -0.016646   \n",
       "is_holiday              1.000000    -0.088527             -0.014858   \n",
       "temperature            -0.088527     1.000000              0.093242   \n",
       "is_start_of_semester   -0.014858     0.093242              1.000000   \n",
       "is_during_semester     -0.070798     0.152476              0.209862   \n",
       "month                  -0.094942     0.063125             -0.137160   \n",
       "hour                    0.002843     0.185121              0.010091   \n",
       "\n",
       "                      is_during_semester     month      hour  \n",
       "number_people                   0.335350 -0.097854  0.552049  \n",
       "timestamp                       0.044676 -0.023221  0.999077  \n",
       "day_of_week                    -0.004824  0.015559 -0.001914  \n",
       "is_weekend                     -0.036127  0.008462 -0.000517  \n",
       "is_holiday                     -0.070798 -0.094942  0.002843  \n",
       "temperature                     0.152476  0.063125  0.185121  \n",
       "is_start_of_semester            0.209862 -0.137160  0.010091  \n",
       "is_during_semester              1.000000  0.096556  0.045581  \n",
       "month                           0.096556  1.000000 -0.023624  \n",
       "hour                            0.045581 -0.023624  1.000000  "
      ]
     },
     "execution_count": 4,
     "metadata": {},
     "output_type": "execute_result"
    }
   ],
   "source": [
    "df.corr()"
   ]
  },
  {
   "cell_type": "code",
   "execution_count": 6,
   "metadata": {},
   "outputs": [
    {
     "data": {
      "text/plain": [
       "Text(0.5, 1, 'Correlation between different fearures')"
      ]
     },
     "execution_count": 6,
     "metadata": {},
     "output_type": "execute_result"
    },
    {
     "data": {
      "image/png": "[encoded data removed]",
      "text/plain": [
       "<Figure size 720x720 with 2 Axes>"
      ]
     },
     "metadata": {
      "needs_background": "light"
     },
     "output_type": "display_data"
    }
   ],
   "source": [
    "correlation = df.corr()\n",
    "plt.figure(figsize=(10,10))\n",
    "sns.heatmap(correlation, vmax=1, square=True,annot=True,cmap='viridis')\n",
    "\n",
    "plt.title('Correlation between different fearures')"
   ]
  },
  {
   "cell_type": "code",
   "execution_count": 10,
   "metadata": {},
   "outputs": [],
   "source": [
    "X = df.iloc[:,2:8]  # all rows, all the features (excp: date) and no labels\n",
    "y = df.iloc[:, 0]  # all rows, label only"
   ]
  },
  {
   "cell_type": "markdown",
   "metadata": {},
   "source": [
    "### Standardising data"
   ]
  },
  {
   "cell_type": "code",
   "execution_count": 11,
   "metadata": {},
   "outputs": [
    {
     "data": {
      "text/plain": [
       "array([[ 0.63654993,  0.50956119, -0.6280507 , -0.05079022,  2.09027384,\n",
       "        -0.29253482],\n",
       "       [ 0.68623792,  0.50956119, -0.6280507 , -0.05079022,  2.09027384,\n",
       "        -0.29253482],\n",
       "       [ 0.71106127,  0.50956119, -0.6280507 , -0.05079022,  2.09027384,\n",
       "        -0.29253482],\n",
       "       ...,\n",
       "       [ 0.94008862,  1.01036016,  1.59222814, -0.05079022, -0.292433  ,\n",
       "        -0.29253482],\n",
       "       [ 0.96515979,  1.01036016,  1.59222814, -0.05079022, -0.292433  ,\n",
       "        -0.29253482],\n",
       "       [ 0.99010704,  1.01036016,  1.59222814, -0.05079022, -0.292433  ,\n",
       "        -0.29253482]])"
      ]
     },
     "execution_count": 11,
     "metadata": {},
     "output_type": "execute_result"
    }
   ],
   "source": [
    "# Scale the data to be between -1 and 1\n",
    "from sklearn.preprocessing import StandardScaler\n",
    "scaler = StandardScaler()\n",
    "X=scaler.fit_transform(X)\n",
    "X"
   ]
  },
  {
   "cell_type": "code",
   "execution_count": 12,
   "metadata": {},
   "outputs": [
    {
     "data": {
      "text/plain": [
       "array([[-0.01221225, -1.74827045,  0.50960639, -0.41110148,  1.15793497,\n",
       "         0.83101258],\n",
       "       [-0.01252094, -1.77681605,  0.53746942, -0.41502514,  1.12857183,\n",
       "         0.83090197],\n",
       "       [-0.01267515, -1.79107699,  0.55138936, -0.41698533,  1.11390247,\n",
       "         0.8308467 ],\n",
       "       ...,\n",
       "       [-1.83407039, -0.15801062,  0.73716585, -0.15999954, -0.69546787,\n",
       "        -0.41471388],\n",
       "       [-1.83422615, -0.17241393,  0.75122475, -0.16197931, -0.71028368,\n",
       "        -0.41476969],\n",
       "       [-1.83438114, -0.18674606,  0.76521417, -0.16394929, -0.72502627,\n",
       "        -0.41482523]])"
      ]
     },
     "execution_count": 12,
     "metadata": {},
     "output_type": "execute_result"
    }
   ],
   "source": [
    "from sklearn.decomposition import PCA\n",
    "pca = PCA()\n",
    "pca.fit_transform(X)"
   ]
  },
  {
   "cell_type": "code",
   "execution_count": 13,
   "metadata": {},
   "outputs": [
    {
     "data": {
      "text/plain": [
       "array([[ 1.00001608e+00, -1.79321968e-03, -5.08815704e-04,\n",
       "         2.85078360e-03,  1.84852463e-01,  9.55105884e-03],\n",
       "       [-1.79321968e-03,  1.00001608e+00,  7.91350923e-01,\n",
       "        -7.58632581e-02,  1.11689106e-02, -1.17822146e-02],\n",
       "       [-5.08815704e-04,  7.91350923e-01,  1.00001608e+00,\n",
       "        -3.18993471e-02,  2.06736733e-02, -1.66460432e-02],\n",
       "       [ 2.85078360e-03, -7.58632581e-02, -3.18993471e-02,\n",
       "         1.00001608e+00, -8.85280154e-02, -1.48581472e-02],\n",
       "       [ 1.84852463e-01,  1.11689106e-02,  2.06736733e-02,\n",
       "        -8.85280154e-02,  1.00001608e+00,  9.32433629e-02],\n",
       "       [ 9.55105884e-03, -1.17822146e-02, -1.66460432e-02,\n",
       "        -1.48581472e-02,  9.32433629e-02,  1.00001608e+00]])"
      ]
     },
     "execution_count": 13,
     "metadata": {},
     "output_type": "execute_result"
    }
   ],
   "source": [
    "pca.get_covariance()"
   ]
  },
  {
   "cell_type": "code",
   "execution_count": 14,
   "metadata": {},
   "outputs": [
    {
     "data": {
      "text/plain": [
       "array([0.30002086, 0.20478764, 0.16750837, 0.16320645, 0.1299299 ,\n",
       "       0.03454679])"
      ]
     },
     "execution_count": 14,
     "metadata": {},
     "output_type": "execute_result"
    }
   ],
   "source": [
    "explained_variance=pca.explained_variance_ratio_\n",
    "explained_variance"
   ]
  },
  {
   "cell_type": "code",
   "execution_count": 17,
   "metadata": {},
   "outputs": [
    {
     "data": {
      "image/png": "[encoded data removed]",
      "text/plain": [
       "<Figure size 432x288 with 1 Axes>"
      ]
     },
     "metadata": {},
     "output_type": "display_data"
    }
   ],
   "source": [
    "with plt.style.context('dark_background'):\n",
    "    plt.figure(figsize=(6, 4))\n",
    "\n",
    "    plt.bar(range(6), explained_variance, alpha=0.5, align='center', label='individual explained variance')\n",
    "    plt.ylabel('Explained variance ratio')\n",
    "    plt.xlabel('Principal components')\n",
    "    plt.legend(loc='best')\n",
    "    plt.tight_layout()"
   ]
  },
  {
   "cell_type": "markdown",
   "metadata": {},
   "source": [
    "we can see from the above plot that first two components constitute 50% of the variance.Third,fourth and fifth components has 46% of the data spread.The last component has less than 5% of the variance. Hence we can try to drop the sixth component."
   ]
  },
  {
   "cell_type": "code",
   "execution_count": 18,
   "metadata": {},
   "outputs": [
    {
     "data": {
      "text/plain": [
       "array([[-0.01221225, -1.74827045,  0.50960639, -0.41110148,  1.15793497],\n",
       "       [-0.01252094, -1.77681605,  0.53746942, -0.41502514,  1.12857183],\n",
       "       [-0.01267515, -1.79107699,  0.55138936, -0.41698533,  1.11390247],\n",
       "       ...,\n",
       "       [-1.83407039, -0.15801062,  0.73716585, -0.15999954, -0.69546787],\n",
       "       [-1.83422615, -0.17241393,  0.75122475, -0.16197931, -0.71028368],\n",
       "       [-1.83438114, -0.18674606,  0.76521417, -0.16394929, -0.72502627]])"
      ]
     },
     "execution_count": 18,
     "metadata": {},
     "output_type": "execute_result"
    }
   ],
   "source": [
    "pca=PCA(n_components=5)\n",
    "X_new=pca.fit_transform(X)\n",
    "X_new"
   ]
  },
  {
   "cell_type": "code",
   "execution_count": 19,
   "metadata": {},
   "outputs": [
    {
     "data": {
      "text/plain": [
       "array([[ 1.00001608e+00, -1.79321968e-03, -5.08815704e-04,\n",
       "         2.85078360e-03,  1.84852463e-01,  9.55105884e-03],\n",
       "       [-1.79321968e-03,  1.00001608e+00,  7.91350923e-01,\n",
       "        -7.58632581e-02,  1.11689106e-02, -1.17822146e-02],\n",
       "       [-5.08815704e-04,  7.91350923e-01,  1.00001608e+00,\n",
       "        -3.18993471e-02,  2.06736733e-02, -1.66460432e-02],\n",
       "       [ 2.85078360e-03, -7.58632581e-02, -3.18993471e-02,\n",
       "         1.00001608e+00, -8.85280154e-02, -1.48581472e-02],\n",
       "       [ 1.84852463e-01,  1.11689106e-02,  2.06736733e-02,\n",
       "        -8.85280154e-02,  1.00001608e+00,  9.32433629e-02],\n",
       "       [ 9.55105884e-03, -1.17822146e-02, -1.66460432e-02,\n",
       "        -1.48581472e-02,  9.32433629e-02,  1.00001608e+00]])"
      ]
     },
     "execution_count": 19,
     "metadata": {},
     "output_type": "execute_result"
    }
   ],
   "source": [
    "pca.get_covariance()"
   ]
  },
  {
   "cell_type": "code",
   "execution_count": 20,
   "metadata": {},
   "outputs": [
    {
     "data": {
      "text/plain": [
       "array([0.30002086, 0.20478764, 0.16750837, 0.16320645, 0.1299299 ])"
      ]
     },
     "execution_count": 20,
     "metadata": {},
     "output_type": "execute_result"
    }
   ],
   "source": [
    "explained_variance=pca.explained_variance_ratio_\n",
    "explained_variance"
   ]
  },
  {
   "cell_type": "code",
   "execution_count": 21,
   "metadata": {},
   "outputs": [
    {
     "data": {
      "image/png": "[encoded data removed]",
      "text/plain": [
       "<Figure size 432x288 with 1 Axes>"
      ]
     },
     "metadata": {},
     "output_type": "display_data"
    }
   ],
   "source": [
    "with plt.style.context('dark_background'):\n",
    "    plt.figure(figsize=(6, 4))\n",
    "\n",
    "    plt.bar(range(5), explained_variance, alpha=0.5, align='center',\n",
    "            label='individual explained variance')\n",
    "    plt.ylabel('Explained variance ratio')\n",
    "    plt.xlabel('Principal components')\n",
    "    plt.legend(loc='best')\n",
    "    plt.tight_layout()"
   ]
  },
  {
   "cell_type": "code",
   "execution_count": 22,
   "metadata": {},
   "outputs": [
    {
     "data": {
      "text/plain": [
       "(49747, 6)"
      ]
     },
     "execution_count": 22,
     "metadata": {},
     "output_type": "execute_result"
    }
   ],
   "source": [
    "from sklearn.model_selection import train_test_split\n",
    "X_train, X_test, y_train, y_test = train_test_split(X, y, test_size=0.2, random_state=1)\n",
    "X_train.shape"
   ]
  },
  {
   "cell_type": "code",
   "execution_count": 23,
   "metadata": {},
   "outputs": [],
   "source": [
    "# Establish model\n",
    "from sklearn.ensemble import RandomForestRegressor\n",
    "model = RandomForestRegressor()"
   ]
  },
  {
   "cell_type": "code",
   "execution_count": 24,
   "metadata": {},
   "outputs": [
    {
     "name": "stdout",
     "output_type": "stream",
     "text": [
      "[0.8410459453920794, 0.8433936721428815, 0.8499985647313872, 0.8513672524409079, 0.8513785225844624, 0.8532336100965109, 0.8526426467841347, 0.8539760104618344, 0.8536768047647619, 0.8536330772602395, 0.8541038909929565, 0.8535526664094488, 0.8554566694445035, 0.8528458213172943, 0.8543265757567885, 0.8534993868380207, 0.854006311272987, 0.8536250461865157, 0.8539999094976183]\n"
     ]
    }
   ],
   "source": [
    "# Try different numbers of n_estimators - this will take a minute or so\n",
    "estimators = np.arange(10, 200, 10)\n",
    "scores = []\n",
    "for n in estimators:\n",
    "    model.set_params(n_estimators=n)\n",
    "    model.fit(X_train, y_train)\n",
    "    scores.append(model.score(X_test, y_test))\n",
    "print(scores)    "
   ]
  },
  {
   "cell_type": "code",
   "execution_count": 25,
   "metadata": {},
   "outputs": [
    {
     "data": {
      "text/plain": [
       "[<matplotlib.lines.Line2D at 0x10559a53588>]"
      ]
     },
     "execution_count": 25,
     "metadata": {},
     "output_type": "execute_result"
    },
    {
     "data": {
      "image/png": "[encoded data removed]",
      "text/plain": [
       "<Figure size 432x288 with 1 Axes>"
      ]
     },
     "metadata": {
      "needs_background": "light"
     },
     "output_type": "display_data"
    }
   ],
   "source": [
    "plt.title(\"Effect of n_estimators\")\n",
    "plt.xlabel(\"n_estimator\")\n",
    "plt.ylabel(\"score\")\n",
    "plt.plot(estimators, scores)"
   ]
  },
  {
   "cell_type": "code",
   "execution_count": 26,
   "metadata": {},
   "outputs": [
    {
     "data": {
      "text/plain": [
       "(49747, 5)"
      ]
     },
     "execution_count": 26,
     "metadata": {},
     "output_type": "execute_result"
    }
   ],
   "source": [
    "from sklearn.model_selection import train_test_split\n",
    "X_train, X_test, y_train, y_test = train_test_split(X_new, y, test_size=0.2, random_state=1)\n",
    "X_train.shape"
   ]
  },
  {
   "cell_type": "code",
   "execution_count": 27,
   "metadata": {},
   "outputs": [],
   "source": [
    "# Establish model\n",
    "from sklearn.ensemble import RandomForestRegressor\n",
    "model = RandomForestRegressor()"
   ]
  },
  {
   "cell_type": "code",
   "execution_count": 28,
   "metadata": {},
   "outputs": [
    {
     "name": "stdout",
     "output_type": "stream",
     "text": [
      "[0.6942500538611582, 0.7053273719154701, 0.7090895625029913, 0.7104750744199504, 0.7112970146832107, 0.7132544178141886, 0.7139327869783099, 0.7142356194007825, 0.7134307389986371, 0.7136834785290758, 0.7137503115568997, 0.7145546019729895, 0.7141176749267177, 0.7153939940479288, 0.7140800573199477, 0.714017365264959, 0.7147433921648185, 0.7157488366727858, 0.7147643565737083]\n"
     ]
    }
   ],
   "source": [
    "# Try different numbers of n_estimators - this will take a minute or so\n",
    "estimators = np.arange(10, 200, 10)\n",
    "scores = []\n",
    "for n in estimators:\n",
    "    model.set_params(n_estimators=n)\n",
    "    model.fit(X_train, y_train)\n",
    "    scores.append(model.score(X_test, y_test))\n",
    "print(scores)"
   ]
  },
  {
   "cell_type": "code",
   "execution_count": 29,
   "metadata": {},
   "outputs": [
    {
     "data": {
      "text/plain": [
       "[<matplotlib.lines.Line2D at 0x1055b0da788>]"
      ]
     },
     "execution_count": 29,
     "metadata": {},
     "output_type": "execute_result"
    },
    {
     "data": {
      "image/png": "[encoded data removed]",
      "text/plain": [
       "<Figure size 432x288 with 1 Axes>"
      ]
     },
     "metadata": {
      "needs_background": "light"
     },
     "output_type": "display_data"
    }
   ],
   "source": [
    "plt.title(\"Effect of n_estimators\")\n",
    "plt.xlabel(\"n_estimator\")\n",
    "plt.ylabel(\"score\")\n",
    "plt.plot(estimators, scores)"
   ]
  },
  {
   "cell_type": "markdown",
   "metadata": {},
   "source": [
    "Seems like dropping the low explained variance ratio component is not a good idea for this example. Perhaps, we could try for another example with greater dimensions."
   ]
  }
 ],
 "metadata": {
  "kernelspec": {
   "display_name": "Python 3",
   "language": "python",
   "name": "python3"
  },
  "language_info": {
   "codemirror_mode": {
    "name": "ipython",
    "version": 3
   },
   "file_extension": ".py",
   "mimetype": "text/x-python",
   "name": "python",
   "nbconvert_exporter": "python",
   "pygments_lexer": "ipython3",
   "version": "3.7.4"
  }
 },
 "nbformat": 4,
 "nbformat_minor": 2
}
